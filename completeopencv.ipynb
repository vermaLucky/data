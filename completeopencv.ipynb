{
 "cells": [
  {
   "cell_type": "code",
   "execution_count": 1,
   "metadata": {
    "collapsed": true
   },
   "outputs": [
    {
     "name": "stdout",
     "output_type": "stream",
     "text": [
      "<class 'numpy.ndarray'>\nuint8\n(168, 300, 3)\n3\n151200\n"
     ]
    }
   ],
   "source": [
    "import cv2 as cv\n",
    "import numpy as np\n",
    "\n",
    "img1 = cv.imread('/home/lucky/Downloads/p1.jpeg')\n",
    "print(type(img1))\n",
    "print(img1.dtype)#it give uint8 which send for unsigned integer of 8 bit\n",
    "#which means it can have a min value 00000000 and max value 11111111\n",
    "#its range is from 0-255\n",
    "print(img1.shape)\n",
    "print(img1.ndim)\n",
    "print(img1.size)"
   ]
  },
  {
   "cell_type": "code",
   "execution_count": 2,
   "metadata": {},
   "outputs": [
    {
     "name": "stdout",
     "output_type": "stream",
     "text": [
      "<class 'numpy.ndarray'>\nuint8\n(168, 300)\n2\n50400\n"
     ]
    }
   ],
   "source": [
    "import cv2 as cv\n",
    "import numpy as np\n",
    "\n",
    "img1 = cv.imread('/home/lucky/Downloads/p1.jpeg')\n",
    "gray=cv.cvtColor(img1,cv.COLOR_BGR2GRAY)\n",
    "print(type(img1))\n",
    "print(gray.dtype)#it give uint8 which send for unsigned integer of 8 bit\n",
    "#which means it can have a min value 00000000 and max value 11111111\n",
    "#its range is from 0-255\n",
    "print(gray.shape)\n",
    "print(gray.ndim)\n",
    "print(gray.size)"
   ]
  },
  {
   "cell_type": "code",
   "execution_count": 8,
   "metadata": {},
   "outputs": [],
   "source": [
    "import cv2 as cv\n",
    "import numpy as np\n",
    "img1=np.zeros((1255,255,3),np.uint8)\n",
    "cv.line(img1,(0,0),(350,350),(255,0,0),5)\n",
    "cv.rectangle(img1,(20,60),(110,150),(0,255,0),15)\n",
    "cv.circle(img1,(100,100),20,(255,255,255),-2)\n",
    "cv.imshow('res',img1)\n",
    "cv.waitKey(0)\n",
    "cv.destroyAllWindows()"
   ]
  },
  {
   "cell_type": "code",
   "execution_count": 2,
   "metadata": {},
   "outputs": [
    {
     "ename": "TypeError",
     "evalue": "emptyfunction() takes 0 positional arguments but 1 was given",
     "traceback": [
      "\u001b[0;31m---------------------------------------------------------------------------\u001b[0m",
      "\u001b[0;31mTypeError\u001b[0m                                 Traceback (most recent call last)",
      "\u001b[0;31mTypeError\u001b[0m: emptyfunction() takes 0 positional arguments but 1 was given"
     ],
     "output_type": "error"
    },
    {
     "ename": "TypeError",
     "evalue": "emptyfunction() takes 0 positional arguments but 1 was given",
     "traceback": [
      "\u001b[0;31m---------------------------------------------------------------------------\u001b[0m",
      "\u001b[0;31mTypeError\u001b[0m                                 Traceback (most recent call last)",
      "\u001b[0;31mTypeError\u001b[0m: emptyfunction() takes 0 positional arguments but 1 was given"
     ],
     "output_type": "error"
    },
    {
     "ename": "TypeError",
     "evalue": "emptyfunction() takes 0 positional arguments but 1 was given",
     "traceback": [
      "\u001b[0;31m---------------------------------------------------------------------------\u001b[0m",
      "\u001b[0;31mTypeError\u001b[0m                                 Traceback (most recent call last)",
      "\u001b[0;31mTypeError\u001b[0m: emptyfunction() takes 0 positional arguments but 1 was given"
     ],
     "output_type": "error"
    },
    {
     "ename": "TypeError",
     "evalue": "emptyfunction() takes 0 positional arguments but 1 was given",
     "traceback": [
      "\u001b[0;31m---------------------------------------------------------------------------\u001b[0m",
      "\u001b[0;31mTypeError\u001b[0m                                 Traceback (most recent call last)",
      "\u001b[0;31mTypeError\u001b[0m: emptyfunction() takes 0 positional arguments but 1 was given"
     ],
     "output_type": "error"
    },
    {
     "ename": "TypeError",
     "evalue": "emptyfunction() takes 0 positional arguments but 1 was given",
     "traceback": [
      "\u001b[0;31m---------------------------------------------------------------------------\u001b[0m",
      "\u001b[0;31mTypeError\u001b[0m                                 Traceback (most recent call last)",
      "\u001b[0;31mTypeError\u001b[0m: emptyfunction() takes 0 positional arguments but 1 was given"
     ],
     "output_type": "error"
    },
    {
     "ename": "TypeError",
     "evalue": "emptyfunction() takes 0 positional arguments but 1 was given",
     "traceback": [
      "\u001b[0;31m---------------------------------------------------------------------------\u001b[0m",
      "\u001b[0;31mTypeError\u001b[0m                                 Traceback (most recent call last)",
      "\u001b[0;31mTypeError\u001b[0m: emptyfunction() takes 0 positional arguments but 1 was given"
     ],
     "output_type": "error"
    },
    {
     "ename": "TypeError",
     "evalue": "emptyfunction() takes 0 positional arguments but 1 was given",
     "traceback": [
      "\u001b[0;31m---------------------------------------------------------------------------\u001b[0m",
      "\u001b[0;31mTypeError\u001b[0m                                 Traceback (most recent call last)",
      "\u001b[0;31mTypeError\u001b[0m: emptyfunction() takes 0 positional arguments but 1 was given"
     ],
     "output_type": "error"
    },
    {
     "ename": "TypeError",
     "evalue": "emptyfunction() takes 0 positional arguments but 1 was given",
     "traceback": [
      "\u001b[0;31m---------------------------------------------------------------------------\u001b[0m",
      "\u001b[0;31mTypeError\u001b[0m                                 Traceback (most recent call last)",
      "\u001b[0;31mTypeError\u001b[0m: emptyfunction() takes 0 positional arguments but 1 was given"
     ],
     "output_type": "error"
    },
    {
     "ename": "TypeError",
     "evalue": "emptyfunction() takes 0 positional arguments but 1 was given",
     "traceback": [
      "\u001b[0;31m---------------------------------------------------------------------------\u001b[0m",
      "\u001b[0;31mTypeError\u001b[0m                                 Traceback (most recent call last)",
      "\u001b[0;31mTypeError\u001b[0m: emptyfunction() takes 0 positional arguments but 1 was given"
     ],
     "output_type": "error"
    },
    {
     "ename": "TypeError",
     "evalue": "emptyfunction() takes 0 positional arguments but 1 was given",
     "traceback": [
      "\u001b[0;31m---------------------------------------------------------------------------\u001b[0m",
      "\u001b[0;31mTypeError\u001b[0m                                 Traceback (most recent call last)",
      "\u001b[0;31mTypeError\u001b[0m: emptyfunction() takes 0 positional arguments but 1 was given"
     ],
     "output_type": "error"
    },
    {
     "ename": "TypeError",
     "evalue": "emptyfunction() takes 0 positional arguments but 1 was given",
     "traceback": [
      "\u001b[0;31m---------------------------------------------------------------------------\u001b[0m",
      "\u001b[0;31mTypeError\u001b[0m                                 Traceback (most recent call last)",
      "\u001b[0;31mTypeError\u001b[0m: emptyfunction() takes 0 positional arguments but 1 was given"
     ],
     "output_type": "error"
    },
    {
     "ename": "TypeError",
     "evalue": "emptyfunction() takes 0 positional arguments but 1 was given",
     "traceback": [
      "\u001b[0;31m---------------------------------------------------------------------------\u001b[0m",
      "\u001b[0;31mTypeError\u001b[0m                                 Traceback (most recent call last)",
      "\u001b[0;31mTypeError\u001b[0m: emptyfunction() takes 0 positional arguments but 1 was given"
     ],
     "output_type": "error"
    },
    {
     "ename": "TypeError",
     "evalue": "emptyfunction() takes 0 positional arguments but 1 was given",
     "traceback": [
      "\u001b[0;31m---------------------------------------------------------------------------\u001b[0m",
      "\u001b[0;31mTypeError\u001b[0m                                 Traceback (most recent call last)",
      "\u001b[0;31mTypeError\u001b[0m: emptyfunction() takes 0 positional arguments but 1 was given"
     ],
     "output_type": "error"
    },
    {
     "ename": "TypeError",
     "evalue": "emptyfunction() takes 0 positional arguments but 1 was given",
     "traceback": [
      "\u001b[0;31m---------------------------------------------------------------------------\u001b[0m",
      "\u001b[0;31mTypeError\u001b[0m                                 Traceback (most recent call last)",
      "\u001b[0;31mTypeError\u001b[0m: emptyfunction() takes 0 positional arguments but 1 was given"
     ],
     "output_type": "error"
    },
    {
     "ename": "TypeError",
     "evalue": "emptyfunction() takes 0 positional arguments but 1 was given",
     "traceback": [
      "\u001b[0;31m---------------------------------------------------------------------------\u001b[0m",
      "\u001b[0;31mTypeError\u001b[0m                                 Traceback (most recent call last)",
      "\u001b[0;31mTypeError\u001b[0m: emptyfunction() takes 0 positional arguments but 1 was given"
     ],
     "output_type": "error"
    },
    {
     "ename": "TypeError",
     "evalue": "emptyfunction() takes 0 positional arguments but 1 was given",
     "traceback": [
      "\u001b[0;31m---------------------------------------------------------------------------\u001b[0m",
      "\u001b[0;31mTypeError\u001b[0m                                 Traceback (most recent call last)",
      "\u001b[0;31mTypeError\u001b[0m: emptyfunction() takes 0 positional arguments but 1 was given"
     ],
     "output_type": "error"
    },
    {
     "ename": "TypeError",
     "evalue": "emptyfunction() takes 0 positional arguments but 1 was given",
     "traceback": [
      "\u001b[0;31m---------------------------------------------------------------------------\u001b[0m",
      "\u001b[0;31mTypeError\u001b[0m                                 Traceback (most recent call last)",
      "\u001b[0;31mTypeError\u001b[0m: emptyfunction() takes 0 positional arguments but 1 was given"
     ],
     "output_type": "error"
    },
    {
     "ename": "TypeError",
     "evalue": "emptyfunction() takes 0 positional arguments but 1 was given",
     "traceback": [
      "\u001b[0;31m---------------------------------------------------------------------------\u001b[0m",
      "\u001b[0;31mTypeError\u001b[0m                                 Traceback (most recent call last)",
      "\u001b[0;31mTypeError\u001b[0m: emptyfunction() takes 0 positional arguments but 1 was given"
     ],
     "output_type": "error"
    },
    {
     "ename": "TypeError",
     "evalue": "emptyfunction() takes 0 positional arguments but 1 was given",
     "traceback": [
      "\u001b[0;31m---------------------------------------------------------------------------\u001b[0m",
      "\u001b[0;31mTypeError\u001b[0m                                 Traceback (most recent call last)",
      "\u001b[0;31mTypeError\u001b[0m: emptyfunction() takes 0 positional arguments but 1 was given"
     ],
     "output_type": "error"
    },
    {
     "ename": "TypeError",
     "evalue": "emptyfunction() takes 0 positional arguments but 1 was given",
     "traceback": [
      "\u001b[0;31m---------------------------------------------------------------------------\u001b[0m",
      "\u001b[0;31mTypeError\u001b[0m                                 Traceback (most recent call last)",
      "\u001b[0;31mTypeError\u001b[0m: emptyfunction() takes 0 positional arguments but 1 was given"
     ],
     "output_type": "error"
    },
    {
     "ename": "TypeError",
     "evalue": "emptyfunction() takes 0 positional arguments but 1 was given",
     "traceback": [
      "\u001b[0;31m---------------------------------------------------------------------------\u001b[0m",
      "\u001b[0;31mTypeError\u001b[0m                                 Traceback (most recent call last)",
      "\u001b[0;31mTypeError\u001b[0m: emptyfunction() takes 0 positional arguments but 1 was given"
     ],
     "output_type": "error"
    },
    {
     "ename": "TypeError",
     "evalue": "emptyfunction() takes 0 positional arguments but 1 was given",
     "traceback": [
      "\u001b[0;31m---------------------------------------------------------------------------\u001b[0m",
      "\u001b[0;31mTypeError\u001b[0m                                 Traceback (most recent call last)",
      "\u001b[0;31mTypeError\u001b[0m: emptyfunction() takes 0 positional arguments but 1 was given"
     ],
     "output_type": "error"
    },
    {
     "ename": "TypeError",
     "evalue": "emptyfunction() takes 0 positional arguments but 1 was given",
     "traceback": [
      "\u001b[0;31m---------------------------------------------------------------------------\u001b[0m",
      "\u001b[0;31mTypeError\u001b[0m                                 Traceback (most recent call last)",
      "\u001b[0;31mTypeError\u001b[0m: emptyfunction() takes 0 positional arguments but 1 was given"
     ],
     "output_type": "error"
    },
    {
     "ename": "TypeError",
     "evalue": "emptyfunction() takes 0 positional arguments but 1 was given",
     "traceback": [
      "\u001b[0;31m---------------------------------------------------------------------------\u001b[0m",
      "\u001b[0;31mTypeError\u001b[0m                                 Traceback (most recent call last)",
      "\u001b[0;31mTypeError\u001b[0m: emptyfunction() takes 0 positional arguments but 1 was given"
     ],
     "output_type": "error"
    },
    {
     "ename": "TypeError",
     "evalue": "emptyfunction() takes 0 positional arguments but 1 was given",
     "traceback": [
      "\u001b[0;31m---------------------------------------------------------------------------\u001b[0m",
      "\u001b[0;31mTypeError\u001b[0m                                 Traceback (most recent call last)",
      "\u001b[0;31mTypeError\u001b[0m: emptyfunction() takes 0 positional arguments but 1 was given"
     ],
     "output_type": "error"
    },
    {
     "ename": "TypeError",
     "evalue": "emptyfunction() takes 0 positional arguments but 1 was given",
     "traceback": [
      "\u001b[0;31m---------------------------------------------------------------------------\u001b[0m",
      "\u001b[0;31mTypeError\u001b[0m                                 Traceback (most recent call last)",
      "\u001b[0;31mTypeError\u001b[0m: emptyfunction() takes 0 positional arguments but 1 was given"
     ],
     "output_type": "error"
    },
    {
     "ename": "TypeError",
     "evalue": "emptyfunction() takes 0 positional arguments but 1 was given",
     "traceback": [
      "\u001b[0;31m---------------------------------------------------------------------------\u001b[0m",
      "\u001b[0;31mTypeError\u001b[0m                                 Traceback (most recent call last)",
      "\u001b[0;31mTypeError\u001b[0m: emptyfunction() takes 0 positional arguments but 1 was given"
     ],
     "output_type": "error"
    },
    {
     "ename": "TypeError",
     "evalue": "emptyfunction() takes 0 positional arguments but 1 was given",
     "traceback": [
      "\u001b[0;31m---------------------------------------------------------------------------\u001b[0m",
      "\u001b[0;31mTypeError\u001b[0m                                 Traceback (most recent call last)",
      "\u001b[0;31mTypeError\u001b[0m: emptyfunction() takes 0 positional arguments but 1 was given"
     ],
     "output_type": "error"
    },
    {
     "ename": "TypeError",
     "evalue": "emptyfunction() takes 0 positional arguments but 1 was given",
     "traceback": [
      "\u001b[0;31m---------------------------------------------------------------------------\u001b[0m",
      "\u001b[0;31mTypeError\u001b[0m                                 Traceback (most recent call last)",
      "\u001b[0;31mTypeError\u001b[0m: emptyfunction() takes 0 positional arguments but 1 was given"
     ],
     "output_type": "error"
    },
    {
     "ename": "TypeError",
     "evalue": "emptyfunction() takes 0 positional arguments but 1 was given",
     "traceback": [
      "\u001b[0;31m---------------------------------------------------------------------------\u001b[0m",
      "\u001b[0;31mTypeError\u001b[0m                                 Traceback (most recent call last)",
      "\u001b[0;31mTypeError\u001b[0m: emptyfunction() takes 0 positional arguments but 1 was given"
     ],
     "output_type": "error"
    },
    {
     "ename": "TypeError",
     "evalue": "emptyfunction() takes 0 positional arguments but 1 was given",
     "traceback": [
      "\u001b[0;31m---------------------------------------------------------------------------\u001b[0m",
      "\u001b[0;31mTypeError\u001b[0m                                 Traceback (most recent call last)",
      "\u001b[0;31mTypeError\u001b[0m: emptyfunction() takes 0 positional arguments but 1 was given"
     ],
     "output_type": "error"
    },
    {
     "ename": "TypeError",
     "evalue": "emptyfunction() takes 0 positional arguments but 1 was given",
     "traceback": [
      "\u001b[0;31m---------------------------------------------------------------------------\u001b[0m",
      "\u001b[0;31mTypeError\u001b[0m                                 Traceback (most recent call last)",
      "\u001b[0;31mTypeError\u001b[0m: emptyfunction() takes 0 positional arguments but 1 was given"
     ],
     "output_type": "error"
    },
    {
     "ename": "TypeError",
     "evalue": "emptyfunction() takes 0 positional arguments but 1 was given",
     "traceback": [
      "\u001b[0;31m---------------------------------------------------------------------------\u001b[0m",
      "\u001b[0;31mTypeError\u001b[0m                                 Traceback (most recent call last)",
      "\u001b[0;31mTypeError\u001b[0m: emptyfunction() takes 0 positional arguments but 1 was given"
     ],
     "output_type": "error"
    },
    {
     "ename": "TypeError",
     "evalue": "emptyfunction() takes 0 positional arguments but 1 was given",
     "traceback": [
      "\u001b[0;31m---------------------------------------------------------------------------\u001b[0m",
      "\u001b[0;31mTypeError\u001b[0m                                 Traceback (most recent call last)",
      "\u001b[0;31mTypeError\u001b[0m: emptyfunction() takes 0 positional arguments but 1 was given"
     ],
     "output_type": "error"
    },
    {
     "ename": "TypeError",
     "evalue": "emptyfunction() takes 0 positional arguments but 1 was given",
     "traceback": [
      "\u001b[0;31m---------------------------------------------------------------------------\u001b[0m",
      "\u001b[0;31mTypeError\u001b[0m                                 Traceback (most recent call last)",
      "\u001b[0;31mTypeError\u001b[0m: emptyfunction() takes 0 positional arguments but 1 was given"
     ],
     "output_type": "error"
    },
    {
     "ename": "TypeError",
     "evalue": "emptyfunction() takes 0 positional arguments but 1 was given",
     "traceback": [
      "\u001b[0;31m---------------------------------------------------------------------------\u001b[0m",
      "\u001b[0;31mTypeError\u001b[0m                                 Traceback (most recent call last)",
      "\u001b[0;31mTypeError\u001b[0m: emptyfunction() takes 0 positional arguments but 1 was given"
     ],
     "output_type": "error"
    },
    {
     "ename": "TypeError",
     "evalue": "emptyfunction() takes 0 positional arguments but 1 was given",
     "traceback": [
      "\u001b[0;31m---------------------------------------------------------------------------\u001b[0m",
      "\u001b[0;31mTypeError\u001b[0m                                 Traceback (most recent call last)",
      "\u001b[0;31mTypeError\u001b[0m: emptyfunction() takes 0 positional arguments but 1 was given"
     ],
     "output_type": "error"
    },
    {
     "ename": "TypeError",
     "evalue": "emptyfunction() takes 0 positional arguments but 1 was given",
     "traceback": [
      "\u001b[0;31m---------------------------------------------------------------------------\u001b[0m",
      "\u001b[0;31mTypeError\u001b[0m                                 Traceback (most recent call last)",
      "\u001b[0;31mTypeError\u001b[0m: emptyfunction() takes 0 positional arguments but 1 was given"
     ],
     "output_type": "error"
    },
    {
     "ename": "TypeError",
     "evalue": "emptyfunction() takes 0 positional arguments but 1 was given",
     "traceback": [
      "\u001b[0;31m---------------------------------------------------------------------------\u001b[0m",
      "\u001b[0;31mTypeError\u001b[0m                                 Traceback (most recent call last)",
      "\u001b[0;31mTypeError\u001b[0m: emptyfunction() takes 0 positional arguments but 1 was given"
     ],
     "output_type": "error"
    },
    {
     "ename": "TypeError",
     "evalue": "emptyfunction() takes 0 positional arguments but 1 was given",
     "traceback": [
      "\u001b[0;31m---------------------------------------------------------------------------\u001b[0m",
      "\u001b[0;31mTypeError\u001b[0m                                 Traceback (most recent call last)",
      "\u001b[0;31mTypeError\u001b[0m: emptyfunction() takes 0 positional arguments but 1 was given"
     ],
     "output_type": "error"
    },
    {
     "ename": "TypeError",
     "evalue": "emptyfunction() takes 0 positional arguments but 1 was given",
     "traceback": [
      "\u001b[0;31m---------------------------------------------------------------------------\u001b[0m",
      "\u001b[0;31mTypeError\u001b[0m                                 Traceback (most recent call last)",
      "\u001b[0;31mTypeError\u001b[0m: emptyfunction() takes 0 positional arguments but 1 was given"
     ],
     "output_type": "error"
    },
    {
     "ename": "TypeError",
     "evalue": "emptyfunction() takes 0 positional arguments but 1 was given",
     "traceback": [
      "\u001b[0;31m---------------------------------------------------------------------------\u001b[0m",
      "\u001b[0;31mTypeError\u001b[0m                                 Traceback (most recent call last)",
      "\u001b[0;31mTypeError\u001b[0m: emptyfunction() takes 0 positional arguments but 1 was given"
     ],
     "output_type": "error"
    },
    {
     "ename": "TypeError",
     "evalue": "emptyfunction() takes 0 positional arguments but 1 was given",
     "traceback": [
      "\u001b[0;31m---------------------------------------------------------------------------\u001b[0m",
      "\u001b[0;31mTypeError\u001b[0m                                 Traceback (most recent call last)",
      "\u001b[0;31mTypeError\u001b[0m: emptyfunction() takes 0 positional arguments but 1 was given"
     ],
     "output_type": "error"
    },
    {
     "ename": "TypeError",
     "evalue": "emptyfunction() takes 0 positional arguments but 1 was given",
     "traceback": [
      "\u001b[0;31m---------------------------------------------------------------------------\u001b[0m",
      "\u001b[0;31mTypeError\u001b[0m                                 Traceback (most recent call last)",
      "\u001b[0;31mTypeError\u001b[0m: emptyfunction() takes 0 positional arguments but 1 was given"
     ],
     "output_type": "error"
    },
    {
     "ename": "TypeError",
     "evalue": "emptyfunction() takes 0 positional arguments but 1 was given",
     "traceback": [
      "\u001b[0;31m---------------------------------------------------------------------------\u001b[0m",
      "\u001b[0;31mTypeError\u001b[0m                                 Traceback (most recent call last)",
      "\u001b[0;31mTypeError\u001b[0m: emptyfunction() takes 0 positional arguments but 1 was given"
     ],
     "output_type": "error"
    },
    {
     "ename": "TypeError",
     "evalue": "emptyfunction() takes 0 positional arguments but 1 was given",
     "traceback": [
      "\u001b[0;31m---------------------------------------------------------------------------\u001b[0m",
      "\u001b[0;31mTypeError\u001b[0m                                 Traceback (most recent call last)",
      "\u001b[0;31mTypeError\u001b[0m: emptyfunction() takes 0 positional arguments but 1 was given"
     ],
     "output_type": "error"
    },
    {
     "ename": "TypeError",
     "evalue": "emptyfunction() takes 0 positional arguments but 1 was given",
     "traceback": [
      "\u001b[0;31m---------------------------------------------------------------------------\u001b[0m",
      "\u001b[0;31mTypeError\u001b[0m                                 Traceback (most recent call last)",
      "\u001b[0;31mTypeError\u001b[0m: emptyfunction() takes 0 positional arguments but 1 was given"
     ],
     "output_type": "error"
    },
    {
     "ename": "TypeError",
     "evalue": "emptyfunction() takes 0 positional arguments but 1 was given",
     "traceback": [
      "\u001b[0;31m---------------------------------------------------------------------------\u001b[0m",
      "\u001b[0;31mTypeError\u001b[0m                                 Traceback (most recent call last)",
      "\u001b[0;31mTypeError\u001b[0m: emptyfunction() takes 0 positional arguments but 1 was given"
     ],
     "output_type": "error"
    },
    {
     "ename": "TypeError",
     "evalue": "emptyfunction() takes 0 positional arguments but 1 was given",
     "traceback": [
      "\u001b[0;31m---------------------------------------------------------------------------\u001b[0m",
      "\u001b[0;31mTypeError\u001b[0m                                 Traceback (most recent call last)",
      "\u001b[0;31mTypeError\u001b[0m: emptyfunction() takes 0 positional arguments but 1 was given"
     ],
     "output_type": "error"
    },
    {
     "ename": "TypeError",
     "evalue": "emptyfunction() takes 0 positional arguments but 1 was given",
     "traceback": [
      "\u001b[0;31m---------------------------------------------------------------------------\u001b[0m",
      "\u001b[0;31mTypeError\u001b[0m                                 Traceback (most recent call last)",
      "\u001b[0;31mTypeError\u001b[0m: emptyfunction() takes 0 positional arguments but 1 was given"
     ],
     "output_type": "error"
    },
    {
     "ename": "TypeError",
     "evalue": "emptyfunction() takes 0 positional arguments but 1 was given",
     "traceback": [
      "\u001b[0;31m---------------------------------------------------------------------------\u001b[0m",
      "\u001b[0;31mTypeError\u001b[0m                                 Traceback (most recent call last)",
      "\u001b[0;31mTypeError\u001b[0m: emptyfunction() takes 0 positional arguments but 1 was given"
     ],
     "output_type": "error"
    },
    {
     "ename": "TypeError",
     "evalue": "emptyfunction() takes 0 positional arguments but 1 was given",
     "traceback": [
      "\u001b[0;31m---------------------------------------------------------------------------\u001b[0m",
      "\u001b[0;31mTypeError\u001b[0m                                 Traceback (most recent call last)",
      "\u001b[0;31mTypeError\u001b[0m: emptyfunction() takes 0 positional arguments but 1 was given"
     ],
     "output_type": "error"
    },
    {
     "ename": "TypeError",
     "evalue": "emptyfunction() takes 0 positional arguments but 1 was given",
     "traceback": [
      "\u001b[0;31m---------------------------------------------------------------------------\u001b[0m",
      "\u001b[0;31mTypeError\u001b[0m                                 Traceback (most recent call last)",
      "\u001b[0;31mTypeError\u001b[0m: emptyfunction() takes 0 positional arguments but 1 was given"
     ],
     "output_type": "error"
    },
    {
     "ename": "TypeError",
     "evalue": "emptyfunction() takes 0 positional arguments but 1 was given",
     "traceback": [
      "\u001b[0;31m---------------------------------------------------------------------------\u001b[0m",
      "\u001b[0;31mTypeError\u001b[0m                                 Traceback (most recent call last)",
      "\u001b[0;31mTypeError\u001b[0m: emptyfunction() takes 0 positional arguments but 1 was given"
     ],
     "output_type": "error"
    },
    {
     "ename": "TypeError",
     "evalue": "emptyfunction() takes 0 positional arguments but 1 was given",
     "traceback": [
      "\u001b[0;31m---------------------------------------------------------------------------\u001b[0m",
      "\u001b[0;31mTypeError\u001b[0m                                 Traceback (most recent call last)",
      "\u001b[0;31mTypeError\u001b[0m: emptyfunction() takes 0 positional arguments but 1 was given"
     ],
     "output_type": "error"
    },
    {
     "ename": "TypeError",
     "evalue": "emptyfunction() takes 0 positional arguments but 1 was given",
     "traceback": [
      "\u001b[0;31m---------------------------------------------------------------------------\u001b[0m",
      "\u001b[0;31mTypeError\u001b[0m                                 Traceback (most recent call last)",
      "\u001b[0;31mTypeError\u001b[0m: emptyfunction() takes 0 positional arguments but 1 was given"
     ],
     "output_type": "error"
    },
    {
     "ename": "TypeError",
     "evalue": "emptyfunction() takes 0 positional arguments but 1 was given",
     "traceback": [
      "\u001b[0;31m---------------------------------------------------------------------------\u001b[0m",
      "\u001b[0;31mTypeError\u001b[0m                                 Traceback (most recent call last)",
      "\u001b[0;31mTypeError\u001b[0m: emptyfunction() takes 0 positional arguments but 1 was given"
     ],
     "output_type": "error"
    },
    {
     "ename": "TypeError",
     "evalue": "emptyfunction() takes 0 positional arguments but 1 was given",
     "traceback": [
      "\u001b[0;31m---------------------------------------------------------------------------\u001b[0m",
      "\u001b[0;31mTypeError\u001b[0m                                 Traceback (most recent call last)",
      "\u001b[0;31mTypeError\u001b[0m: emptyfunction() takes 0 positional arguments but 1 was given"
     ],
     "output_type": "error"
    },
    {
     "ename": "TypeError",
     "evalue": "emptyfunction() takes 0 positional arguments but 1 was given",
     "traceback": [
      "\u001b[0;31m---------------------------------------------------------------------------\u001b[0m",
      "\u001b[0;31mTypeError\u001b[0m                                 Traceback (most recent call last)",
      "\u001b[0;31mTypeError\u001b[0m: emptyfunction() takes 0 positional arguments but 1 was given"
     ],
     "output_type": "error"
    },
    {
     "ename": "TypeError",
     "evalue": "emptyfunction() takes 0 positional arguments but 1 was given",
     "traceback": [
      "\u001b[0;31m---------------------------------------------------------------------------\u001b[0m",
      "\u001b[0;31mTypeError\u001b[0m                                 Traceback (most recent call last)",
      "\u001b[0;31mTypeError\u001b[0m: emptyfunction() takes 0 positional arguments but 1 was given"
     ],
     "output_type": "error"
    },
    {
     "ename": "TypeError",
     "evalue": "emptyfunction() takes 0 positional arguments but 1 was given",
     "traceback": [
      "\u001b[0;31m---------------------------------------------------------------------------\u001b[0m",
      "\u001b[0;31mTypeError\u001b[0m                                 Traceback (most recent call last)",
      "\u001b[0;31mTypeError\u001b[0m: emptyfunction() takes 0 positional arguments but 1 was given"
     ],
     "output_type": "error"
    },
    {
     "ename": "TypeError",
     "evalue": "emptyfunction() takes 0 positional arguments but 1 was given",
     "traceback": [
      "\u001b[0;31m---------------------------------------------------------------------------\u001b[0m",
      "\u001b[0;31mTypeError\u001b[0m                                 Traceback (most recent call last)",
      "\u001b[0;31mTypeError\u001b[0m: emptyfunction() takes 0 positional arguments but 1 was given"
     ],
     "output_type": "error"
    },
    {
     "ename": "TypeError",
     "evalue": "emptyfunction() takes 0 positional arguments but 1 was given",
     "traceback": [
      "\u001b[0;31m---------------------------------------------------------------------------\u001b[0m",
      "\u001b[0;31mTypeError\u001b[0m                                 Traceback (most recent call last)",
      "\u001b[0;31mTypeError\u001b[0m: emptyfunction() takes 0 positional arguments but 1 was given"
     ],
     "output_type": "error"
    },
    {
     "ename": "TypeError",
     "evalue": "emptyfunction() takes 0 positional arguments but 1 was given",
     "traceback": [
      "\u001b[0;31m---------------------------------------------------------------------------\u001b[0m",
      "\u001b[0;31mTypeError\u001b[0m                                 Traceback (most recent call last)",
      "\u001b[0;31mTypeError\u001b[0m: emptyfunction() takes 0 positional arguments but 1 was given"
     ],
     "output_type": "error"
    },
    {
     "ename": "TypeError",
     "evalue": "emptyfunction() takes 0 positional arguments but 1 was given",
     "traceback": [
      "\u001b[0;31m---------------------------------------------------------------------------\u001b[0m",
      "\u001b[0;31mTypeError\u001b[0m                                 Traceback (most recent call last)",
      "\u001b[0;31mTypeError\u001b[0m: emptyfunction() takes 0 positional arguments but 1 was given"
     ],
     "output_type": "error"
    },
    {
     "ename": "TypeError",
     "evalue": "emptyfunction() takes 0 positional arguments but 1 was given",
     "traceback": [
      "\u001b[0;31m---------------------------------------------------------------------------\u001b[0m",
      "\u001b[0;31mTypeError\u001b[0m                                 Traceback (most recent call last)",
      "\u001b[0;31mTypeError\u001b[0m: emptyfunction() takes 0 positional arguments but 1 was given"
     ],
     "output_type": "error"
    },
    {
     "ename": "TypeError",
     "evalue": "emptyfunction() takes 0 positional arguments but 1 was given",
     "traceback": [
      "\u001b[0;31m---------------------------------------------------------------------------\u001b[0m",
      "\u001b[0;31mTypeError\u001b[0m                                 Traceback (most recent call last)",
      "\u001b[0;31mTypeError\u001b[0m: emptyfunction() takes 0 positional arguments but 1 was given"
     ],
     "output_type": "error"
    },
    {
     "ename": "TypeError",
     "evalue": "emptyfunction() takes 0 positional arguments but 1 was given",
     "traceback": [
      "\u001b[0;31m---------------------------------------------------------------------------\u001b[0m",
      "\u001b[0;31mTypeError\u001b[0m                                 Traceback (most recent call last)",
      "\u001b[0;31mTypeError\u001b[0m: emptyfunction() takes 0 positional arguments but 1 was given"
     ],
     "output_type": "error"
    },
    {
     "ename": "TypeError",
     "evalue": "emptyfunction() takes 0 positional arguments but 1 was given",
     "traceback": [
      "\u001b[0;31m---------------------------------------------------------------------------\u001b[0m",
      "\u001b[0;31mTypeError\u001b[0m                                 Traceback (most recent call last)",
      "\u001b[0;31mTypeError\u001b[0m: emptyfunction() takes 0 positional arguments but 1 was given"
     ],
     "output_type": "error"
    },
    {
     "ename": "TypeError",
     "evalue": "emptyfunction() takes 0 positional arguments but 1 was given",
     "traceback": [
      "\u001b[0;31m---------------------------------------------------------------------------\u001b[0m",
      "\u001b[0;31mTypeError\u001b[0m                                 Traceback (most recent call last)",
      "\u001b[0;31mTypeError\u001b[0m: emptyfunction() takes 0 positional arguments but 1 was given"
     ],
     "output_type": "error"
    },
    {
     "ename": "TypeError",
     "evalue": "emptyfunction() takes 0 positional arguments but 1 was given",
     "traceback": [
      "\u001b[0;31m---------------------------------------------------------------------------\u001b[0m",
      "\u001b[0;31mTypeError\u001b[0m                                 Traceback (most recent call last)",
      "\u001b[0;31mTypeError\u001b[0m: emptyfunction() takes 0 positional arguments but 1 was given"
     ],
     "output_type": "error"
    },
    {
     "ename": "TypeError",
     "evalue": "emptyfunction() takes 0 positional arguments but 1 was given",
     "traceback": [
      "\u001b[0;31m---------------------------------------------------------------------------\u001b[0m",
      "\u001b[0;31mTypeError\u001b[0m                                 Traceback (most recent call last)",
      "\u001b[0;31mTypeError\u001b[0m: emptyfunction() takes 0 positional arguments but 1 was given"
     ],
     "output_type": "error"
    },
    {
     "ename": "TypeError",
     "evalue": "emptyfunction() takes 0 positional arguments but 1 was given",
     "traceback": [
      "\u001b[0;31m---------------------------------------------------------------------------\u001b[0m",
      "\u001b[0;31mTypeError\u001b[0m                                 Traceback (most recent call last)",
      "\u001b[0;31mTypeError\u001b[0m: emptyfunction() takes 0 positional arguments but 1 was given"
     ],
     "output_type": "error"
    },
    {
     "ename": "TypeError",
     "evalue": "emptyfunction() takes 0 positional arguments but 1 was given",
     "traceback": [
      "\u001b[0;31m---------------------------------------------------------------------------\u001b[0m",
      "\u001b[0;31mTypeError\u001b[0m                                 Traceback (most recent call last)",
      "\u001b[0;31mTypeError\u001b[0m: emptyfunction() takes 0 positional arguments but 1 was given"
     ],
     "output_type": "error"
    },
    {
     "ename": "TypeError",
     "evalue": "emptyfunction() takes 0 positional arguments but 1 was given",
     "traceback": [
      "\u001b[0;31m---------------------------------------------------------------------------\u001b[0m",
      "\u001b[0;31mTypeError\u001b[0m                                 Traceback (most recent call last)",
      "\u001b[0;31mTypeError\u001b[0m: emptyfunction() takes 0 positional arguments but 1 was given"
     ],
     "output_type": "error"
    },
    {
     "ename": "TypeError",
     "evalue": "emptyfunction() takes 0 positional arguments but 1 was given",
     "traceback": [
      "\u001b[0;31m---------------------------------------------------------------------------\u001b[0m",
      "\u001b[0;31mTypeError\u001b[0m                                 Traceback (most recent call last)",
      "\u001b[0;31mTypeError\u001b[0m: emptyfunction() takes 0 positional arguments but 1 was given"
     ],
     "output_type": "error"
    },
    {
     "ename": "TypeError",
     "evalue": "emptyfunction() takes 0 positional arguments but 1 was given",
     "traceback": [
      "\u001b[0;31m---------------------------------------------------------------------------\u001b[0m",
      "\u001b[0;31mTypeError\u001b[0m                                 Traceback (most recent call last)",
      "\u001b[0;31mTypeError\u001b[0m: emptyfunction() takes 0 positional arguments but 1 was given"
     ],
     "output_type": "error"
    },
    {
     "ename": "TypeError",
     "evalue": "emptyfunction() takes 0 positional arguments but 1 was given",
     "traceback": [
      "\u001b[0;31m---------------------------------------------------------------------------\u001b[0m",
      "\u001b[0;31mTypeError\u001b[0m                                 Traceback (most recent call last)",
      "\u001b[0;31mTypeError\u001b[0m: emptyfunction() takes 0 positional arguments but 1 was given"
     ],
     "output_type": "error"
    },
    {
     "ename": "TypeError",
     "evalue": "emptyfunction() takes 0 positional arguments but 1 was given",
     "traceback": [
      "\u001b[0;31m---------------------------------------------------------------------------\u001b[0m",
      "\u001b[0;31mTypeError\u001b[0m                                 Traceback (most recent call last)",
      "\u001b[0;31mTypeError\u001b[0m: emptyfunction() takes 0 positional arguments but 1 was given"
     ],
     "output_type": "error"
    },
    {
     "ename": "TypeError",
     "evalue": "emptyfunction() takes 0 positional arguments but 1 was given",
     "traceback": [
      "\u001b[0;31m---------------------------------------------------------------------------\u001b[0m",
      "\u001b[0;31mTypeError\u001b[0m                                 Traceback (most recent call last)",
      "\u001b[0;31mTypeError\u001b[0m: emptyfunction() takes 0 positional arguments but 1 was given"
     ],
     "output_type": "error"
    },
    {
     "ename": "TypeError",
     "evalue": "emptyfunction() takes 0 positional arguments but 1 was given",
     "traceback": [
      "\u001b[0;31m---------------------------------------------------------------------------\u001b[0m",
      "\u001b[0;31mTypeError\u001b[0m                                 Traceback (most recent call last)",
      "\u001b[0;31mTypeError\u001b[0m: emptyfunction() takes 0 positional arguments but 1 was given"
     ],
     "output_type": "error"
    },
    {
     "ename": "TypeError",
     "evalue": "emptyfunction() takes 0 positional arguments but 1 was given",
     "traceback": [
      "\u001b[0;31m---------------------------------------------------------------------------\u001b[0m",
      "\u001b[0;31mTypeError\u001b[0m                                 Traceback (most recent call last)",
      "\u001b[0;31mTypeError\u001b[0m: emptyfunction() takes 0 positional arguments but 1 was given"
     ],
     "output_type": "error"
    },
    {
     "ename": "TypeError",
     "evalue": "emptyfunction() takes 0 positional arguments but 1 was given",
     "traceback": [
      "\u001b[0;31m---------------------------------------------------------------------------\u001b[0m",
      "\u001b[0;31mTypeError\u001b[0m                                 Traceback (most recent call last)",
      "\u001b[0;31mTypeError\u001b[0m: emptyfunction() takes 0 positional arguments but 1 was given"
     ],
     "output_type": "error"
    },
    {
     "ename": "TypeError",
     "evalue": "emptyfunction() takes 0 positional arguments but 1 was given",
     "traceback": [
      "\u001b[0;31m---------------------------------------------------------------------------\u001b[0m",
      "\u001b[0;31mTypeError\u001b[0m                                 Traceback (most recent call last)",
      "\u001b[0;31mTypeError\u001b[0m: emptyfunction() takes 0 positional arguments but 1 was given"
     ],
     "output_type": "error"
    },
    {
     "ename": "TypeError",
     "evalue": "emptyfunction() takes 0 positional arguments but 1 was given",
     "traceback": [
      "\u001b[0;31m---------------------------------------------------------------------------\u001b[0m",
      "\u001b[0;31mTypeError\u001b[0m                                 Traceback (most recent call last)",
      "\u001b[0;31mTypeError\u001b[0m: emptyfunction() takes 0 positional arguments but 1 was given"
     ],
     "output_type": "error"
    },
    {
     "ename": "TypeError",
     "evalue": "emptyfunction() takes 0 positional arguments but 1 was given",
     "traceback": [
      "\u001b[0;31m---------------------------------------------------------------------------\u001b[0m",
      "\u001b[0;31mTypeError\u001b[0m                                 Traceback (most recent call last)",
      "\u001b[0;31mTypeError\u001b[0m: emptyfunction() takes 0 positional arguments but 1 was given"
     ],
     "output_type": "error"
    },
    {
     "ename": "TypeError",
     "evalue": "emptyfunction() takes 0 positional arguments but 1 was given",
     "traceback": [
      "\u001b[0;31m---------------------------------------------------------------------------\u001b[0m",
      "\u001b[0;31mTypeError\u001b[0m                                 Traceback (most recent call last)",
      "\u001b[0;31mTypeError\u001b[0m: emptyfunction() takes 0 positional arguments but 1 was given"
     ],
     "output_type": "error"
    },
    {
     "ename": "TypeError",
     "evalue": "emptyfunction() takes 0 positional arguments but 1 was given",
     "traceback": [
      "\u001b[0;31m---------------------------------------------------------------------------\u001b[0m",
      "\u001b[0;31mTypeError\u001b[0m                                 Traceback (most recent call last)",
      "\u001b[0;31mTypeError\u001b[0m: emptyfunction() takes 0 positional arguments but 1 was given"
     ],
     "output_type": "error"
    },
    {
     "ename": "TypeError",
     "evalue": "emptyfunction() takes 0 positional arguments but 1 was given",
     "traceback": [
      "\u001b[0;31m---------------------------------------------------------------------------\u001b[0m",
      "\u001b[0;31mTypeError\u001b[0m                                 Traceback (most recent call last)",
      "\u001b[0;31mTypeError\u001b[0m: emptyfunction() takes 0 positional arguments but 1 was given"
     ],
     "output_type": "error"
    },
    {
     "ename": "TypeError",
     "evalue": "emptyfunction() takes 0 positional arguments but 1 was given",
     "traceback": [
      "\u001b[0;31m---------------------------------------------------------------------------\u001b[0m",
      "\u001b[0;31mTypeError\u001b[0m                                 Traceback (most recent call last)",
      "\u001b[0;31mTypeError\u001b[0m: emptyfunction() takes 0 positional arguments but 1 was given"
     ],
     "output_type": "error"
    },
    {
     "ename": "TypeError",
     "evalue": "emptyfunction() takes 0 positional arguments but 1 was given",
     "traceback": [
      "\u001b[0;31m---------------------------------------------------------------------------\u001b[0m",
      "\u001b[0;31mTypeError\u001b[0m                                 Traceback (most recent call last)",
      "\u001b[0;31mTypeError\u001b[0m: emptyfunction() takes 0 positional arguments but 1 was given"
     ],
     "output_type": "error"
    },
    {
     "ename": "TypeError",
     "evalue": "emptyfunction() takes 0 positional arguments but 1 was given",
     "traceback": [
      "\u001b[0;31m---------------------------------------------------------------------------\u001b[0m",
      "\u001b[0;31mTypeError\u001b[0m                                 Traceback (most recent call last)",
      "\u001b[0;31mTypeError\u001b[0m: emptyfunction() takes 0 positional arguments but 1 was given"
     ],
     "output_type": "error"
    },
    {
     "ename": "TypeError",
     "evalue": "emptyfunction() takes 0 positional arguments but 1 was given",
     "traceback": [
      "\u001b[0;31m---------------------------------------------------------------------------\u001b[0m",
      "\u001b[0;31mTypeError\u001b[0m                                 Traceback (most recent call last)",
      "\u001b[0;31mTypeError\u001b[0m: emptyfunction() takes 0 positional arguments but 1 was given"
     ],
     "output_type": "error"
    },
    {
     "ename": "TypeError",
     "evalue": "emptyfunction() takes 0 positional arguments but 1 was given",
     "traceback": [
      "\u001b[0;31m---------------------------------------------------------------------------\u001b[0m",
      "\u001b[0;31mTypeError\u001b[0m                                 Traceback (most recent call last)",
      "\u001b[0;31mTypeError\u001b[0m: emptyfunction() takes 0 positional arguments but 1 was given"
     ],
     "output_type": "error"
    },
    {
     "ename": "TypeError",
     "evalue": "emptyfunction() takes 0 positional arguments but 1 was given",
     "traceback": [
      "\u001b[0;31m---------------------------------------------------------------------------\u001b[0m",
      "\u001b[0;31mTypeError\u001b[0m                                 Traceback (most recent call last)",
      "\u001b[0;31mTypeError\u001b[0m: emptyfunction() takes 0 positional arguments but 1 was given"
     ],
     "output_type": "error"
    },
    {
     "ename": "TypeError",
     "evalue": "emptyfunction() takes 0 positional arguments but 1 was given",
     "traceback": [
      "\u001b[0;31m---------------------------------------------------------------------------\u001b[0m",
      "\u001b[0;31mTypeError\u001b[0m                                 Traceback (most recent call last)",
      "\u001b[0;31mTypeError\u001b[0m: emptyfunction() takes 0 positional arguments but 1 was given"
     ],
     "output_type": "error"
    },
    {
     "ename": "TypeError",
     "evalue": "emptyfunction() takes 0 positional arguments but 1 was given",
     "traceback": [
      "\u001b[0;31m---------------------------------------------------------------------------\u001b[0m",
      "\u001b[0;31mTypeError\u001b[0m                                 Traceback (most recent call last)",
      "\u001b[0;31mTypeError\u001b[0m: emptyfunction() takes 0 positional arguments but 1 was given"
     ],
     "output_type": "error"
    },
    {
     "ename": "TypeError",
     "evalue": "emptyfunction() takes 0 positional arguments but 1 was given",
     "traceback": [
      "\u001b[0;31m---------------------------------------------------------------------------\u001b[0m",
      "\u001b[0;31mTypeError\u001b[0m                                 Traceback (most recent call last)",
      "\u001b[0;31mTypeError\u001b[0m: emptyfunction() takes 0 positional arguments but 1 was given"
     ],
     "output_type": "error"
    },
    {
     "ename": "TypeError",
     "evalue": "emptyfunction() takes 0 positional arguments but 1 was given",
     "traceback": [
      "\u001b[0;31m---------------------------------------------------------------------------\u001b[0m",
      "\u001b[0;31mTypeError\u001b[0m                                 Traceback (most recent call last)",
      "\u001b[0;31mTypeError\u001b[0m: emptyfunction() takes 0 positional arguments but 1 was given"
     ],
     "output_type": "error"
    },
    {
     "ename": "TypeError",
     "evalue": "emptyfunction() takes 0 positional arguments but 1 was given",
     "traceback": [
      "\u001b[0;31m---------------------------------------------------------------------------\u001b[0m",
      "\u001b[0;31mTypeError\u001b[0m                                 Traceback (most recent call last)",
      "\u001b[0;31mTypeError\u001b[0m: emptyfunction() takes 0 positional arguments but 1 was given"
     ],
     "output_type": "error"
    },
    {
     "ename": "TypeError",
     "evalue": "emptyfunction() takes 0 positional arguments but 1 was given",
     "traceback": [
      "\u001b[0;31m---------------------------------------------------------------------------\u001b[0m",
      "\u001b[0;31mTypeError\u001b[0m                                 Traceback (most recent call last)",
      "\u001b[0;31mTypeError\u001b[0m: emptyfunction() takes 0 positional arguments but 1 was given"
     ],
     "output_type": "error"
    },
    {
     "ename": "TypeError",
     "evalue": "emptyfunction() takes 0 positional arguments but 1 was given",
     "traceback": [
      "\u001b[0;31m---------------------------------------------------------------------------\u001b[0m",
      "\u001b[0;31mTypeError\u001b[0m                                 Traceback (most recent call last)",
      "\u001b[0;31mTypeError\u001b[0m: emptyfunction() takes 0 positional arguments but 1 was given"
     ],
     "output_type": "error"
    },
    {
     "ename": "TypeError",
     "evalue": "emptyfunction() takes 0 positional arguments but 1 was given",
     "traceback": [
      "\u001b[0;31m---------------------------------------------------------------------------\u001b[0m",
      "\u001b[0;31mTypeError\u001b[0m                                 Traceback (most recent call last)",
      "\u001b[0;31mTypeError\u001b[0m: emptyfunction() takes 0 positional arguments but 1 was given"
     ],
     "output_type": "error"
    },
    {
     "ename": "TypeError",
     "evalue": "emptyfunction() takes 0 positional arguments but 1 was given",
     "traceback": [
      "\u001b[0;31m---------------------------------------------------------------------------\u001b[0m",
      "\u001b[0;31mTypeError\u001b[0m                                 Traceback (most recent call last)",
      "\u001b[0;31mTypeError\u001b[0m: emptyfunction() takes 0 positional arguments but 1 was given"
     ],
     "output_type": "error"
    },
    {
     "ename": "TypeError",
     "evalue": "emptyfunction() takes 0 positional arguments but 1 was given",
     "traceback": [
      "\u001b[0;31m---------------------------------------------------------------------------\u001b[0m",
      "\u001b[0;31mTypeError\u001b[0m                                 Traceback (most recent call last)",
      "\u001b[0;31mTypeError\u001b[0m: emptyfunction() takes 0 positional arguments but 1 was given"
     ],
     "output_type": "error"
    },
    {
     "ename": "TypeError",
     "evalue": "emptyfunction() takes 0 positional arguments but 1 was given",
     "traceback": [
      "\u001b[0;31m---------------------------------------------------------------------------\u001b[0m",
      "\u001b[0;31mTypeError\u001b[0m                                 Traceback (most recent call last)",
      "\u001b[0;31mTypeError\u001b[0m: emptyfunction() takes 0 positional arguments but 1 was given"
     ],
     "output_type": "error"
    },
    {
     "ename": "TypeError",
     "evalue": "emptyfunction() takes 0 positional arguments but 1 was given",
     "traceback": [
      "\u001b[0;31m---------------------------------------------------------------------------\u001b[0m",
      "\u001b[0;31mTypeError\u001b[0m                                 Traceback (most recent call last)",
      "\u001b[0;31mTypeError\u001b[0m: emptyfunction() takes 0 positional arguments but 1 was given"
     ],
     "output_type": "error"
    },
    {
     "ename": "TypeError",
     "evalue": "emptyfunction() takes 0 positional arguments but 1 was given",
     "traceback": [
      "\u001b[0;31m---------------------------------------------------------------------------\u001b[0m",
      "\u001b[0;31mTypeError\u001b[0m                                 Traceback (most recent call last)",
      "\u001b[0;31mTypeError\u001b[0m: emptyfunction() takes 0 positional arguments but 1 was given"
     ],
     "output_type": "error"
    },
    {
     "ename": "TypeError",
     "evalue": "emptyfunction() takes 0 positional arguments but 1 was given",
     "traceback": [
      "\u001b[0;31m---------------------------------------------------------------------------\u001b[0m",
      "\u001b[0;31mTypeError\u001b[0m                                 Traceback (most recent call last)",
      "\u001b[0;31mTypeError\u001b[0m: emptyfunction() takes 0 positional arguments but 1 was given"
     ],
     "output_type": "error"
    },
    {
     "ename": "TypeError",
     "evalue": "emptyfunction() takes 0 positional arguments but 1 was given",
     "traceback": [
      "\u001b[0;31m---------------------------------------------------------------------------\u001b[0m",
      "\u001b[0;31mTypeError\u001b[0m                                 Traceback (most recent call last)",
      "\u001b[0;31mTypeError\u001b[0m: emptyfunction() takes 0 positional arguments but 1 was given"
     ],
     "output_type": "error"
    },
    {
     "ename": "TypeError",
     "evalue": "emptyfunction() takes 0 positional arguments but 1 was given",
     "traceback": [
      "\u001b[0;31m---------------------------------------------------------------------------\u001b[0m",
      "\u001b[0;31mTypeError\u001b[0m                                 Traceback (most recent call last)",
      "\u001b[0;31mTypeError\u001b[0m: emptyfunction() takes 0 positional arguments but 1 was given"
     ],
     "output_type": "error"
    },
    {
     "ename": "TypeError",
     "evalue": "emptyfunction() takes 0 positional arguments but 1 was given",
     "traceback": [
      "\u001b[0;31m---------------------------------------------------------------------------\u001b[0m",
      "\u001b[0;31mTypeError\u001b[0m                                 Traceback (most recent call last)",
      "\u001b[0;31mTypeError\u001b[0m: emptyfunction() takes 0 positional arguments but 1 was given"
     ],
     "output_type": "error"
    },
    {
     "ename": "TypeError",
     "evalue": "emptyfunction() takes 0 positional arguments but 1 was given",
     "traceback": [
      "\u001b[0;31m---------------------------------------------------------------------------\u001b[0m",
      "\u001b[0;31mTypeError\u001b[0m                                 Traceback (most recent call last)",
      "\u001b[0;31mTypeError\u001b[0m: emptyfunction() takes 0 positional arguments but 1 was given"
     ],
     "output_type": "error"
    },
    {
     "ename": "TypeError",
     "evalue": "emptyfunction() takes 0 positional arguments but 1 was given",
     "traceback": [
      "\u001b[0;31m---------------------------------------------------------------------------\u001b[0m",
      "\u001b[0;31mTypeError\u001b[0m                                 Traceback (most recent call last)",
      "\u001b[0;31mTypeError\u001b[0m: emptyfunction() takes 0 positional arguments but 1 was given"
     ],
     "output_type": "error"
    },
    {
     "ename": "TypeError",
     "evalue": "emptyfunction() takes 0 positional arguments but 1 was given",
     "traceback": [
      "\u001b[0;31m---------------------------------------------------------------------------\u001b[0m",
      "\u001b[0;31mTypeError\u001b[0m                                 Traceback (most recent call last)",
      "\u001b[0;31mTypeError\u001b[0m: emptyfunction() takes 0 positional arguments but 1 was given"
     ],
     "output_type": "error"
    },
    {
     "ename": "TypeError",
     "evalue": "emptyfunction() takes 0 positional arguments but 1 was given",
     "traceback": [
      "\u001b[0;31m---------------------------------------------------------------------------\u001b[0m",
      "\u001b[0;31mTypeError\u001b[0m                                 Traceback (most recent call last)",
      "\u001b[0;31mTypeError\u001b[0m: emptyfunction() takes 0 positional arguments but 1 was given"
     ],
     "output_type": "error"
    },
    {
     "ename": "TypeError",
     "evalue": "emptyfunction() takes 0 positional arguments but 1 was given",
     "traceback": [
      "\u001b[0;31m---------------------------------------------------------------------------\u001b[0m",
      "\u001b[0;31mTypeError\u001b[0m                                 Traceback (most recent call last)",
      "\u001b[0;31mTypeError\u001b[0m: emptyfunction() takes 0 positional arguments but 1 was given"
     ],
     "output_type": "error"
    },
    {
     "ename": "TypeError",
     "evalue": "emptyfunction() takes 0 positional arguments but 1 was given",
     "traceback": [
      "\u001b[0;31m---------------------------------------------------------------------------\u001b[0m",
      "\u001b[0;31mTypeError\u001b[0m                                 Traceback (most recent call last)",
      "\u001b[0;31mTypeError\u001b[0m: emptyfunction() takes 0 positional arguments but 1 was given"
     ],
     "output_type": "error"
    },
    {
     "ename": "TypeError",
     "evalue": "emptyfunction() takes 0 positional arguments but 1 was given",
     "traceback": [
      "\u001b[0;31m---------------------------------------------------------------------------\u001b[0m",
      "\u001b[0;31mTypeError\u001b[0m                                 Traceback (most recent call last)",
      "\u001b[0;31mTypeError\u001b[0m: emptyfunction() takes 0 positional arguments but 1 was given"
     ],
     "output_type": "error"
    },
    {
     "ename": "TypeError",
     "evalue": "emptyfunction() takes 0 positional arguments but 1 was given",
     "traceback": [
      "\u001b[0;31m---------------------------------------------------------------------------\u001b[0m",
      "\u001b[0;31mTypeError\u001b[0m                                 Traceback (most recent call last)",
      "\u001b[0;31mTypeError\u001b[0m: emptyfunction() takes 0 positional arguments but 1 was given"
     ],
     "output_type": "error"
    },
    {
     "ename": "TypeError",
     "evalue": "emptyfunction() takes 0 positional arguments but 1 was given",
     "traceback": [
      "\u001b[0;31m---------------------------------------------------------------------------\u001b[0m",
      "\u001b[0;31mTypeError\u001b[0m                                 Traceback (most recent call last)",
      "\u001b[0;31mTypeError\u001b[0m: emptyfunction() takes 0 positional arguments but 1 was given"
     ],
     "output_type": "error"
    },
    {
     "ename": "TypeError",
     "evalue": "emptyfunction() takes 0 positional arguments but 1 was given",
     "traceback": [
      "\u001b[0;31m---------------------------------------------------------------------------\u001b[0m",
      "\u001b[0;31mTypeError\u001b[0m                                 Traceback (most recent call last)",
      "\u001b[0;31mTypeError\u001b[0m: emptyfunction() takes 0 positional arguments but 1 was given"
     ],
     "output_type": "error"
    },
    {
     "ename": "TypeError",
     "evalue": "emptyfunction() takes 0 positional arguments but 1 was given",
     "traceback": [
      "\u001b[0;31m---------------------------------------------------------------------------\u001b[0m",
      "\u001b[0;31mTypeError\u001b[0m                                 Traceback (most recent call last)",
      "\u001b[0;31mTypeError\u001b[0m: emptyfunction() takes 0 positional arguments but 1 was given"
     ],
     "output_type": "error"
    },
    {
     "ename": "TypeError",
     "evalue": "emptyfunction() takes 0 positional arguments but 1 was given",
     "traceback": [
      "\u001b[0;31m---------------------------------------------------------------------------\u001b[0m",
      "\u001b[0;31mTypeError\u001b[0m                                 Traceback (most recent call last)",
      "\u001b[0;31mTypeError\u001b[0m: emptyfunction() takes 0 positional arguments but 1 was given"
     ],
     "output_type": "error"
    },
    {
     "ename": "TypeError",
     "evalue": "emptyfunction() takes 0 positional arguments but 1 was given",
     "traceback": [
      "\u001b[0;31m---------------------------------------------------------------------------\u001b[0m",
      "\u001b[0;31mTypeError\u001b[0m                                 Traceback (most recent call last)",
      "\u001b[0;31mTypeError\u001b[0m: emptyfunction() takes 0 positional arguments but 1 was given"
     ],
     "output_type": "error"
    },
    {
     "ename": "TypeError",
     "evalue": "emptyfunction() takes 0 positional arguments but 1 was given",
     "traceback": [
      "\u001b[0;31m---------------------------------------------------------------------------\u001b[0m",
      "\u001b[0;31mTypeError\u001b[0m                                 Traceback (most recent call last)",
      "\u001b[0;31mTypeError\u001b[0m: emptyfunction() takes 0 positional arguments but 1 was given"
     ],
     "output_type": "error"
    },
    {
     "ename": "TypeError",
     "evalue": "emptyfunction() takes 0 positional arguments but 1 was given",
     "traceback": [
      "\u001b[0;31m---------------------------------------------------------------------------\u001b[0m",
      "\u001b[0;31mTypeError\u001b[0m                                 Traceback (most recent call last)",
      "\u001b[0;31mTypeError\u001b[0m: emptyfunction() takes 0 positional arguments but 1 was given"
     ],
     "output_type": "error"
    },
    {
     "ename": "TypeError",
     "evalue": "emptyfunction() takes 0 positional arguments but 1 was given",
     "traceback": [
      "\u001b[0;31m---------------------------------------------------------------------------\u001b[0m",
      "\u001b[0;31mTypeError\u001b[0m                                 Traceback (most recent call last)",
      "\u001b[0;31mTypeError\u001b[0m: emptyfunction() takes 0 positional arguments but 1 was given"
     ],
     "output_type": "error"
    },
    {
     "ename": "TypeError",
     "evalue": "emptyfunction() takes 0 positional arguments but 1 was given",
     "traceback": [
      "\u001b[0;31m---------------------------------------------------------------------------\u001b[0m",
      "\u001b[0;31mTypeError\u001b[0m                                 Traceback (most recent call last)",
      "\u001b[0;31mTypeError\u001b[0m: emptyfunction() takes 0 positional arguments but 1 was given"
     ],
     "output_type": "error"
    },
    {
     "ename": "TypeError",
     "evalue": "emptyfunction() takes 0 positional arguments but 1 was given",
     "traceback": [
      "\u001b[0;31m---------------------------------------------------------------------------\u001b[0m",
      "\u001b[0;31mTypeError\u001b[0m                                 Traceback (most recent call last)",
      "\u001b[0;31mTypeError\u001b[0m: emptyfunction() takes 0 positional arguments but 1 was given"
     ],
     "output_type": "error"
    },
    {
     "ename": "TypeError",
     "evalue": "emptyfunction() takes 0 positional arguments but 1 was given",
     "traceback": [
      "\u001b[0;31m---------------------------------------------------------------------------\u001b[0m",
      "\u001b[0;31mTypeError\u001b[0m                                 Traceback (most recent call last)",
      "\u001b[0;31mTypeError\u001b[0m: emptyfunction() takes 0 positional arguments but 1 was given"
     ],
     "output_type": "error"
    },
    {
     "ename": "TypeError",
     "evalue": "emptyfunction() takes 0 positional arguments but 1 was given",
     "traceback": [
      "\u001b[0;31m---------------------------------------------------------------------------\u001b[0m",
      "\u001b[0;31mTypeError\u001b[0m                                 Traceback (most recent call last)",
      "\u001b[0;31mTypeError\u001b[0m: emptyfunction() takes 0 positional arguments but 1 was given"
     ],
     "output_type": "error"
    },
    {
     "ename": "TypeError",
     "evalue": "emptyfunction() takes 0 positional arguments but 1 was given",
     "traceback": [
      "\u001b[0;31m---------------------------------------------------------------------------\u001b[0m",
      "\u001b[0;31mTypeError\u001b[0m                                 Traceback (most recent call last)",
      "\u001b[0;31mTypeError\u001b[0m: emptyfunction() takes 0 positional arguments but 1 was given"
     ],
     "output_type": "error"
    },
    {
     "ename": "TypeError",
     "evalue": "emptyfunction() takes 0 positional arguments but 1 was given",
     "traceback": [
      "\u001b[0;31m---------------------------------------------------------------------------\u001b[0m",
      "\u001b[0;31mTypeError\u001b[0m                                 Traceback (most recent call last)",
      "\u001b[0;31mTypeError\u001b[0m: emptyfunction() takes 0 positional arguments but 1 was given"
     ],
     "output_type": "error"
    },
    {
     "ename": "TypeError",
     "evalue": "emptyfunction() takes 0 positional arguments but 1 was given",
     "traceback": [
      "\u001b[0;31m---------------------------------------------------------------------------\u001b[0m",
      "\u001b[0;31mTypeError\u001b[0m                                 Traceback (most recent call last)",
      "\u001b[0;31mTypeError\u001b[0m: emptyfunction() takes 0 positional arguments but 1 was given"
     ],
     "output_type": "error"
    },
    {
     "ename": "TypeError",
     "evalue": "emptyfunction() takes 0 positional arguments but 1 was given",
     "traceback": [
      "\u001b[0;31m---------------------------------------------------------------------------\u001b[0m",
      "\u001b[0;31mTypeError\u001b[0m                                 Traceback (most recent call last)",
      "\u001b[0;31mTypeError\u001b[0m: emptyfunction() takes 0 positional arguments but 1 was given"
     ],
     "output_type": "error"
    },
    {
     "ename": "TypeError",
     "evalue": "emptyfunction() takes 0 positional arguments but 1 was given",
     "traceback": [
      "\u001b[0;31m---------------------------------------------------------------------------\u001b[0m",
      "\u001b[0;31mTypeError\u001b[0m                                 Traceback (most recent call last)",
      "\u001b[0;31mTypeError\u001b[0m: emptyfunction() takes 0 positional arguments but 1 was given"
     ],
     "output_type": "error"
    },
    {
     "ename": "TypeError",
     "evalue": "emptyfunction() takes 0 positional arguments but 1 was given",
     "traceback": [
      "\u001b[0;31m---------------------------------------------------------------------------\u001b[0m",
      "\u001b[0;31mTypeError\u001b[0m                                 Traceback (most recent call last)",
      "\u001b[0;31mTypeError\u001b[0m: emptyfunction() takes 0 positional arguments but 1 was given"
     ],
     "output_type": "error"
    },
    {
     "ename": "TypeError",
     "evalue": "emptyfunction() takes 0 positional arguments but 1 was given",
     "traceback": [
      "\u001b[0;31m---------------------------------------------------------------------------\u001b[0m",
      "\u001b[0;31mTypeError\u001b[0m                                 Traceback (most recent call last)",
      "\u001b[0;31mTypeError\u001b[0m: emptyfunction() takes 0 positional arguments but 1 was given"
     ],
     "output_type": "error"
    },
    {
     "ename": "TypeError",
     "evalue": "emptyfunction() takes 0 positional arguments but 1 was given",
     "traceback": [
      "\u001b[0;31m---------------------------------------------------------------------------\u001b[0m",
      "\u001b[0;31mTypeError\u001b[0m                                 Traceback (most recent call last)",
      "\u001b[0;31mTypeError\u001b[0m: emptyfunction() takes 0 positional arguments but 1 was given"
     ],
     "output_type": "error"
    },
    {
     "ename": "TypeError",
     "evalue": "emptyfunction() takes 0 positional arguments but 1 was given",
     "traceback": [
      "\u001b[0;31m---------------------------------------------------------------------------\u001b[0m",
      "\u001b[0;31mTypeError\u001b[0m                                 Traceback (most recent call last)",
      "\u001b[0;31mTypeError\u001b[0m: emptyfunction() takes 0 positional arguments but 1 was given"
     ],
     "output_type": "error"
    },
    {
     "ename": "TypeError",
     "evalue": "emptyfunction() takes 0 positional arguments but 1 was given",
     "traceback": [
      "\u001b[0;31m---------------------------------------------------------------------------\u001b[0m",
      "\u001b[0;31mTypeError\u001b[0m                                 Traceback (most recent call last)",
      "\u001b[0;31mTypeError\u001b[0m: emptyfunction() takes 0 positional arguments but 1 was given"
     ],
     "output_type": "error"
    },
    {
     "ename": "TypeError",
     "evalue": "emptyfunction() takes 0 positional arguments but 1 was given",
     "traceback": [
      "\u001b[0;31m---------------------------------------------------------------------------\u001b[0m",
      "\u001b[0;31mTypeError\u001b[0m                                 Traceback (most recent call last)",
      "\u001b[0;31mTypeError\u001b[0m: emptyfunction() takes 0 positional arguments but 1 was given"
     ],
     "output_type": "error"
    },
    {
     "ename": "TypeError",
     "evalue": "emptyfunction() takes 0 positional arguments but 1 was given",
     "traceback": [
      "\u001b[0;31m---------------------------------------------------------------------------\u001b[0m",
      "\u001b[0;31mTypeError\u001b[0m                                 Traceback (most recent call last)",
      "\u001b[0;31mTypeError\u001b[0m: emptyfunction() takes 0 positional arguments but 1 was given"
     ],
     "output_type": "error"
    },
    {
     "ename": "TypeError",
     "evalue": "emptyfunction() takes 0 positional arguments but 1 was given",
     "traceback": [
      "\u001b[0;31m---------------------------------------------------------------------------\u001b[0m",
      "\u001b[0;31mTypeError\u001b[0m                                 Traceback (most recent call last)",
      "\u001b[0;31mTypeError\u001b[0m: emptyfunction() takes 0 positional arguments but 1 was given"
     ],
     "output_type": "error"
    },
    {
     "ename": "TypeError",
     "evalue": "emptyfunction() takes 0 positional arguments but 1 was given",
     "traceback": [
      "\u001b[0;31m---------------------------------------------------------------------------\u001b[0m",
      "\u001b[0;31mTypeError\u001b[0m                                 Traceback (most recent call last)",
      "\u001b[0;31mTypeError\u001b[0m: emptyfunction() takes 0 positional arguments but 1 was given"
     ],
     "output_type": "error"
    },
    {
     "ename": "TypeError",
     "evalue": "emptyfunction() takes 0 positional arguments but 1 was given",
     "traceback": [
      "\u001b[0;31m---------------------------------------------------------------------------\u001b[0m",
      "\u001b[0;31mTypeError\u001b[0m                                 Traceback (most recent call last)",
      "\u001b[0;31mTypeError\u001b[0m: emptyfunction() takes 0 positional arguments but 1 was given"
     ],
     "output_type": "error"
    },
    {
     "ename": "TypeError",
     "evalue": "emptyfunction() takes 0 positional arguments but 1 was given",
     "traceback": [
      "\u001b[0;31m---------------------------------------------------------------------------\u001b[0m",
      "\u001b[0;31mTypeError\u001b[0m                                 Traceback (most recent call last)",
      "\u001b[0;31mTypeError\u001b[0m: emptyfunction() takes 0 positional arguments but 1 was given"
     ],
     "output_type": "error"
    },
    {
     "ename": "TypeError",
     "evalue": "emptyfunction() takes 0 positional arguments but 1 was given",
     "traceback": [
      "\u001b[0;31m---------------------------------------------------------------------------\u001b[0m",
      "\u001b[0;31mTypeError\u001b[0m                                 Traceback (most recent call last)",
      "\u001b[0;31mTypeError\u001b[0m: emptyfunction() takes 0 positional arguments but 1 was given"
     ],
     "output_type": "error"
    },
    {
     "ename": "TypeError",
     "evalue": "emptyfunction() takes 0 positional arguments but 1 was given",
     "traceback": [
      "\u001b[0;31m---------------------------------------------------------------------------\u001b[0m",
      "\u001b[0;31mTypeError\u001b[0m                                 Traceback (most recent call last)",
      "\u001b[0;31mTypeError\u001b[0m: emptyfunction() takes 0 positional arguments but 1 was given"
     ],
     "output_type": "error"
    },
    {
     "ename": "TypeError",
     "evalue": "emptyfunction() takes 0 positional arguments but 1 was given",
     "traceback": [
      "\u001b[0;31m---------------------------------------------------------------------------\u001b[0m",
      "\u001b[0;31mTypeError\u001b[0m                                 Traceback (most recent call last)",
      "\u001b[0;31mTypeError\u001b[0m: emptyfunction() takes 0 positional arguments but 1 was given"
     ],
     "output_type": "error"
    },
    {
     "ename": "TypeError",
     "evalue": "emptyfunction() takes 0 positional arguments but 1 was given",
     "traceback": [
      "\u001b[0;31m---------------------------------------------------------------------------\u001b[0m",
      "\u001b[0;31mTypeError\u001b[0m                                 Traceback (most recent call last)",
      "\u001b[0;31mTypeError\u001b[0m: emptyfunction() takes 0 positional arguments but 1 was given"
     ],
     "output_type": "error"
    },
    {
     "ename": "TypeError",
     "evalue": "emptyfunction() takes 0 positional arguments but 1 was given",
     "traceback": [
      "\u001b[0;31m---------------------------------------------------------------------------\u001b[0m",
      "\u001b[0;31mTypeError\u001b[0m                                 Traceback (most recent call last)",
      "\u001b[0;31mTypeError\u001b[0m: emptyfunction() takes 0 positional arguments but 1 was given"
     ],
     "output_type": "error"
    },
    {
     "ename": "TypeError",
     "evalue": "emptyfunction() takes 0 positional arguments but 1 was given",
     "traceback": [
      "\u001b[0;31m---------------------------------------------------------------------------\u001b[0m",
      "\u001b[0;31mTypeError\u001b[0m                                 Traceback (most recent call last)",
      "\u001b[0;31mTypeError\u001b[0m: emptyfunction() takes 0 positional arguments but 1 was given"
     ],
     "output_type": "error"
    },
    {
     "ename": "TypeError",
     "evalue": "emptyfunction() takes 0 positional arguments but 1 was given",
     "traceback": [
      "\u001b[0;31m---------------------------------------------------------------------------\u001b[0m",
      "\u001b[0;31mTypeError\u001b[0m                                 Traceback (most recent call last)",
      "\u001b[0;31mTypeError\u001b[0m: emptyfunction() takes 0 positional arguments but 1 was given"
     ],
     "output_type": "error"
    },
    {
     "ename": "TypeError",
     "evalue": "emptyfunction() takes 0 positional arguments but 1 was given",
     "traceback": [
      "\u001b[0;31m---------------------------------------------------------------------------\u001b[0m",
      "\u001b[0;31mTypeError\u001b[0m                                 Traceback (most recent call last)",
      "\u001b[0;31mTypeError\u001b[0m: emptyfunction() takes 0 positional arguments but 1 was given"
     ],
     "output_type": "error"
    },
    {
     "ename": "TypeError",
     "evalue": "emptyfunction() takes 0 positional arguments but 1 was given",
     "traceback": [
      "\u001b[0;31m---------------------------------------------------------------------------\u001b[0m",
      "\u001b[0;31mTypeError\u001b[0m                                 Traceback (most recent call last)",
      "\u001b[0;31mTypeError\u001b[0m: emptyfunction() takes 0 positional arguments but 1 was given"
     ],
     "output_type": "error"
    },
    {
     "ename": "TypeError",
     "evalue": "emptyfunction() takes 0 positional arguments but 1 was given",
     "traceback": [
      "\u001b[0;31m---------------------------------------------------------------------------\u001b[0m",
      "\u001b[0;31mTypeError\u001b[0m                                 Traceback (most recent call last)",
      "\u001b[0;31mTypeError\u001b[0m: emptyfunction() takes 0 positional arguments but 1 was given"
     ],
     "output_type": "error"
    },
    {
     "ename": "TypeError",
     "evalue": "emptyfunction() takes 0 positional arguments but 1 was given",
     "traceback": [
      "\u001b[0;31m---------------------------------------------------------------------------\u001b[0m",
      "\u001b[0;31mTypeError\u001b[0m                                 Traceback (most recent call last)",
      "\u001b[0;31mTypeError\u001b[0m: emptyfunction() takes 0 positional arguments but 1 was given"
     ],
     "output_type": "error"
    },
    {
     "ename": "TypeError",
     "evalue": "emptyfunction() takes 0 positional arguments but 1 was given",
     "traceback": [
      "\u001b[0;31m---------------------------------------------------------------------------\u001b[0m",
      "\u001b[0;31mTypeError\u001b[0m                                 Traceback (most recent call last)",
      "\u001b[0;31mTypeError\u001b[0m: emptyfunction() takes 0 positional arguments but 1 was given"
     ],
     "output_type": "error"
    },
    {
     "ename": "TypeError",
     "evalue": "emptyfunction() takes 0 positional arguments but 1 was given",
     "traceback": [
      "\u001b[0;31m---------------------------------------------------------------------------\u001b[0m",
      "\u001b[0;31mTypeError\u001b[0m                                 Traceback (most recent call last)",
      "\u001b[0;31mTypeError\u001b[0m: emptyfunction() takes 0 positional arguments but 1 was given"
     ],
     "output_type": "error"
    },
    {
     "ename": "TypeError",
     "evalue": "emptyfunction() takes 0 positional arguments but 1 was given",
     "traceback": [
      "\u001b[0;31m---------------------------------------------------------------------------\u001b[0m",
      "\u001b[0;31mTypeError\u001b[0m                                 Traceback (most recent call last)",
      "\u001b[0;31mTypeError\u001b[0m: emptyfunction() takes 0 positional arguments but 1 was given"
     ],
     "output_type": "error"
    },
    {
     "ename": "TypeError",
     "evalue": "emptyfunction() takes 0 positional arguments but 1 was given",
     "traceback": [
      "\u001b[0;31m---------------------------------------------------------------------------\u001b[0m",
      "\u001b[0;31mTypeError\u001b[0m                                 Traceback (most recent call last)",
      "\u001b[0;31mTypeError\u001b[0m: emptyfunction() takes 0 positional arguments but 1 was given"
     ],
     "output_type": "error"
    },
    {
     "ename": "TypeError",
     "evalue": "emptyfunction() takes 0 positional arguments but 1 was given",
     "traceback": [
      "\u001b[0;31m---------------------------------------------------------------------------\u001b[0m",
      "\u001b[0;31mTypeError\u001b[0m                                 Traceback (most recent call last)",
      "\u001b[0;31mTypeError\u001b[0m: emptyfunction() takes 0 positional arguments but 1 was given"
     ],
     "output_type": "error"
    },
    {
     "ename": "TypeError",
     "evalue": "emptyfunction() takes 0 positional arguments but 1 was given",
     "traceback": [
      "\u001b[0;31m---------------------------------------------------------------------------\u001b[0m",
      "\u001b[0;31mTypeError\u001b[0m                                 Traceback (most recent call last)",
      "\u001b[0;31mTypeError\u001b[0m: emptyfunction() takes 0 positional arguments but 1 was given"
     ],
     "output_type": "error"
    },
    {
     "ename": "TypeError",
     "evalue": "emptyfunction() takes 0 positional arguments but 1 was given",
     "traceback": [
      "\u001b[0;31m---------------------------------------------------------------------------\u001b[0m",
      "\u001b[0;31mTypeError\u001b[0m                                 Traceback (most recent call last)",
      "\u001b[0;31mTypeError\u001b[0m: emptyfunction() takes 0 positional arguments but 1 was given"
     ],
     "output_type": "error"
    },
    {
     "ename": "TypeError",
     "evalue": "emptyfunction() takes 0 positional arguments but 1 was given",
     "traceback": [
      "\u001b[0;31m---------------------------------------------------------------------------\u001b[0m",
      "\u001b[0;31mTypeError\u001b[0m                                 Traceback (most recent call last)",
      "\u001b[0;31mTypeError\u001b[0m: emptyfunction() takes 0 positional arguments but 1 was given"
     ],
     "output_type": "error"
    },
    {
     "ename": "TypeError",
     "evalue": "emptyfunction() takes 0 positional arguments but 1 was given",
     "traceback": [
      "\u001b[0;31m---------------------------------------------------------------------------\u001b[0m",
      "\u001b[0;31mTypeError\u001b[0m                                 Traceback (most recent call last)",
      "\u001b[0;31mTypeError\u001b[0m: emptyfunction() takes 0 positional arguments but 1 was given"
     ],
     "output_type": "error"
    },
    {
     "ename": "TypeError",
     "evalue": "emptyfunction() takes 0 positional arguments but 1 was given",
     "traceback": [
      "\u001b[0;31m---------------------------------------------------------------------------\u001b[0m",
      "\u001b[0;31mTypeError\u001b[0m                                 Traceback (most recent call last)",
      "\u001b[0;31mTypeError\u001b[0m: emptyfunction() takes 0 positional arguments but 1 was given"
     ],
     "output_type": "error"
    },
    {
     "ename": "TypeError",
     "evalue": "emptyfunction() takes 0 positional arguments but 1 was given",
     "traceback": [
      "\u001b[0;31m---------------------------------------------------------------------------\u001b[0m",
      "\u001b[0;31mTypeError\u001b[0m                                 Traceback (most recent call last)",
      "\u001b[0;31mTypeError\u001b[0m: emptyfunction() takes 0 positional arguments but 1 was given"
     ],
     "output_type": "error"
    },
    {
     "ename": "TypeError",
     "evalue": "emptyfunction() takes 0 positional arguments but 1 was given",
     "traceback": [
      "\u001b[0;31m---------------------------------------------------------------------------\u001b[0m",
      "\u001b[0;31mTypeError\u001b[0m                                 Traceback (most recent call last)",
      "\u001b[0;31mTypeError\u001b[0m: emptyfunction() takes 0 positional arguments but 1 was given"
     ],
     "output_type": "error"
    },
    {
     "ename": "TypeError",
     "evalue": "emptyfunction() takes 0 positional arguments but 1 was given",
     "traceback": [
      "\u001b[0;31m---------------------------------------------------------------------------\u001b[0m",
      "\u001b[0;31mTypeError\u001b[0m                                 Traceback (most recent call last)",
      "\u001b[0;31mTypeError\u001b[0m: emptyfunction() takes 0 positional arguments but 1 was given"
     ],
     "output_type": "error"
    },
    {
     "ename": "TypeError",
     "evalue": "emptyfunction() takes 0 positional arguments but 1 was given",
     "traceback": [
      "\u001b[0;31m---------------------------------------------------------------------------\u001b[0m",
      "\u001b[0;31mTypeError\u001b[0m                                 Traceback (most recent call last)",
      "\u001b[0;31mTypeError\u001b[0m: emptyfunction() takes 0 positional arguments but 1 was given"
     ],
     "output_type": "error"
    },
    {
     "ename": "TypeError",
     "evalue": "emptyfunction() takes 0 positional arguments but 1 was given",
     "traceback": [
      "\u001b[0;31m---------------------------------------------------------------------------\u001b[0m",
      "\u001b[0;31mTypeError\u001b[0m                                 Traceback (most recent call last)",
      "\u001b[0;31mTypeError\u001b[0m: emptyfunction() takes 0 positional arguments but 1 was given"
     ],
     "output_type": "error"
    },
    {
     "ename": "TypeError",
     "evalue": "emptyfunction() takes 0 positional arguments but 1 was given",
     "traceback": [
      "\u001b[0;31m---------------------------------------------------------------------------\u001b[0m",
      "\u001b[0;31mTypeError\u001b[0m                                 Traceback (most recent call last)",
      "\u001b[0;31mTypeError\u001b[0m: emptyfunction() takes 0 positional arguments but 1 was given"
     ],
     "output_type": "error"
    },
    {
     "ename": "TypeError",
     "evalue": "emptyfunction() takes 0 positional arguments but 1 was given",
     "traceback": [
      "\u001b[0;31m---------------------------------------------------------------------------\u001b[0m",
      "\u001b[0;31mTypeError\u001b[0m                                 Traceback (most recent call last)",
      "\u001b[0;31mTypeError\u001b[0m: emptyfunction() takes 0 positional arguments but 1 was given"
     ],
     "output_type": "error"
    },
    {
     "ename": "TypeError",
     "evalue": "emptyfunction() takes 0 positional arguments but 1 was given",
     "traceback": [
      "\u001b[0;31m---------------------------------------------------------------------------\u001b[0m",
      "\u001b[0;31mTypeError\u001b[0m                                 Traceback (most recent call last)",
      "\u001b[0;31mTypeError\u001b[0m: emptyfunction() takes 0 positional arguments but 1 was given"
     ],
     "output_type": "error"
    },
    {
     "ename": "TypeError",
     "evalue": "emptyfunction() takes 0 positional arguments but 1 was given",
     "traceback": [
      "\u001b[0;31m---------------------------------------------------------------------------\u001b[0m",
      "\u001b[0;31mTypeError\u001b[0m                                 Traceback (most recent call last)",
      "\u001b[0;31mTypeError\u001b[0m: emptyfunction() takes 0 positional arguments but 1 was given"
     ],
     "output_type": "error"
    },
    {
     "ename": "TypeError",
     "evalue": "emptyfunction() takes 0 positional arguments but 1 was given",
     "traceback": [
      "\u001b[0;31m---------------------------------------------------------------------------\u001b[0m",
      "\u001b[0;31mTypeError\u001b[0m                                 Traceback (most recent call last)",
      "\u001b[0;31mTypeError\u001b[0m: emptyfunction() takes 0 positional arguments but 1 was given"
     ],
     "output_type": "error"
    },
    {
     "ename": "TypeError",
     "evalue": "emptyfunction() takes 0 positional arguments but 1 was given",
     "traceback": [
      "\u001b[0;31m---------------------------------------------------------------------------\u001b[0m",
      "\u001b[0;31mTypeError\u001b[0m                                 Traceback (most recent call last)",
      "\u001b[0;31mTypeError\u001b[0m: emptyfunction() takes 0 positional arguments but 1 was given"
     ],
     "output_type": "error"
    },
    {
     "ename": "TypeError",
     "evalue": "emptyfunction() takes 0 positional arguments but 1 was given",
     "traceback": [
      "\u001b[0;31m---------------------------------------------------------------------------\u001b[0m",
      "\u001b[0;31mTypeError\u001b[0m                                 Traceback (most recent call last)",
      "\u001b[0;31mTypeError\u001b[0m: emptyfunction() takes 0 positional arguments but 1 was given"
     ],
     "output_type": "error"
    },
    {
     "ename": "TypeError",
     "evalue": "emptyfunction() takes 0 positional arguments but 1 was given",
     "traceback": [
      "\u001b[0;31m---------------------------------------------------------------------------\u001b[0m",
      "\u001b[0;31mTypeError\u001b[0m                                 Traceback (most recent call last)",
      "\u001b[0;31mTypeError\u001b[0m: emptyfunction() takes 0 positional arguments but 1 was given"
     ],
     "output_type": "error"
    },
    {
     "ename": "TypeError",
     "evalue": "emptyfunction() takes 0 positional arguments but 1 was given",
     "traceback": [
      "\u001b[0;31m---------------------------------------------------------------------------\u001b[0m",
      "\u001b[0;31mTypeError\u001b[0m                                 Traceback (most recent call last)",
      "\u001b[0;31mTypeError\u001b[0m: emptyfunction() takes 0 positional arguments but 1 was given"
     ],
     "output_type": "error"
    },
    {
     "ename": "TypeError",
     "evalue": "emptyfunction() takes 0 positional arguments but 1 was given",
     "traceback": [
      "\u001b[0;31m---------------------------------------------------------------------------\u001b[0m",
      "\u001b[0;31mTypeError\u001b[0m                                 Traceback (most recent call last)",
      "\u001b[0;31mTypeError\u001b[0m: emptyfunction() takes 0 positional arguments but 1 was given"
     ],
     "output_type": "error"
    },
    {
     "ename": "TypeError",
     "evalue": "emptyfunction() takes 0 positional arguments but 1 was given",
     "traceback": [
      "\u001b[0;31m---------------------------------------------------------------------------\u001b[0m",
      "\u001b[0;31mTypeError\u001b[0m                                 Traceback (most recent call last)",
      "\u001b[0;31mTypeError\u001b[0m: emptyfunction() takes 0 positional arguments but 1 was given"
     ],
     "output_type": "error"
    },
    {
     "ename": "TypeError",
     "evalue": "emptyfunction() takes 0 positional arguments but 1 was given",
     "traceback": [
      "\u001b[0;31m---------------------------------------------------------------------------\u001b[0m",
      "\u001b[0;31mTypeError\u001b[0m                                 Traceback (most recent call last)",
      "\u001b[0;31mTypeError\u001b[0m: emptyfunction() takes 0 positional arguments but 1 was given"
     ],
     "output_type": "error"
    },
    {
     "ename": "TypeError",
     "evalue": "emptyfunction() takes 0 positional arguments but 1 was given",
     "traceback": [
      "\u001b[0;31m---------------------------------------------------------------------------\u001b[0m",
      "\u001b[0;31mTypeError\u001b[0m                                 Traceback (most recent call last)",
      "\u001b[0;31mTypeError\u001b[0m: emptyfunction() takes 0 positional arguments but 1 was given"
     ],
     "output_type": "error"
    },
    {
     "ename": "TypeError",
     "evalue": "emptyfunction() takes 0 positional arguments but 1 was given",
     "traceback": [
      "\u001b[0;31m---------------------------------------------------------------------------\u001b[0m",
      "\u001b[0;31mTypeError\u001b[0m                                 Traceback (most recent call last)",
      "\u001b[0;31mTypeError\u001b[0m: emptyfunction() takes 0 positional arguments but 1 was given"
     ],
     "output_type": "error"
    },
    {
     "ename": "TypeError",
     "evalue": "emptyfunction() takes 0 positional arguments but 1 was given",
     "traceback": [
      "\u001b[0;31m---------------------------------------------------------------------------\u001b[0m",
      "\u001b[0;31mTypeError\u001b[0m                                 Traceback (most recent call last)",
      "\u001b[0;31mTypeError\u001b[0m: emptyfunction() takes 0 positional arguments but 1 was given"
     ],
     "output_type": "error"
    },
    {
     "ename": "TypeError",
     "evalue": "emptyfunction() takes 0 positional arguments but 1 was given",
     "traceback": [
      "\u001b[0;31m---------------------------------------------------------------------------\u001b[0m",
      "\u001b[0;31mTypeError\u001b[0m                                 Traceback (most recent call last)",
      "\u001b[0;31mTypeError\u001b[0m: emptyfunction() takes 0 positional arguments but 1 was given"
     ],
     "output_type": "error"
    },
    {
     "ename": "TypeError",
     "evalue": "emptyfunction() takes 0 positional arguments but 1 was given",
     "traceback": [
      "\u001b[0;31m---------------------------------------------------------------------------\u001b[0m",
      "\u001b[0;31mTypeError\u001b[0m                                 Traceback (most recent call last)",
      "\u001b[0;31mTypeError\u001b[0m: emptyfunction() takes 0 positional arguments but 1 was given"
     ],
     "output_type": "error"
    },
    {
     "ename": "TypeError",
     "evalue": "emptyfunction() takes 0 positional arguments but 1 was given",
     "traceback": [
      "\u001b[0;31m---------------------------------------------------------------------------\u001b[0m",
      "\u001b[0;31mTypeError\u001b[0m                                 Traceback (most recent call last)",
      "\u001b[0;31mTypeError\u001b[0m: emptyfunction() takes 0 positional arguments but 1 was given"
     ],
     "output_type": "error"
    },
    {
     "ename": "TypeError",
     "evalue": "emptyfunction() takes 0 positional arguments but 1 was given",
     "traceback": [
      "\u001b[0;31m---------------------------------------------------------------------------\u001b[0m",
      "\u001b[0;31mTypeError\u001b[0m                                 Traceback (most recent call last)",
      "\u001b[0;31mTypeError\u001b[0m: emptyfunction() takes 0 positional arguments but 1 was given"
     ],
     "output_type": "error"
    },
    {
     "ename": "TypeError",
     "evalue": "emptyfunction() takes 0 positional arguments but 1 was given",
     "traceback": [
      "\u001b[0;31m---------------------------------------------------------------------------\u001b[0m",
      "\u001b[0;31mTypeError\u001b[0m                                 Traceback (most recent call last)",
      "\u001b[0;31mTypeError\u001b[0m: emptyfunction() takes 0 positional arguments but 1 was given"
     ],
     "output_type": "error"
    },
    {
     "ename": "TypeError",
     "evalue": "emptyfunction() takes 0 positional arguments but 1 was given",
     "traceback": [
      "\u001b[0;31m---------------------------------------------------------------------------\u001b[0m",
      "\u001b[0;31mTypeError\u001b[0m                                 Traceback (most recent call last)",
      "\u001b[0;31mTypeError\u001b[0m: emptyfunction() takes 0 positional arguments but 1 was given"
     ],
     "output_type": "error"
    },
    {
     "ename": "TypeError",
     "evalue": "emptyfunction() takes 0 positional arguments but 1 was given",
     "traceback": [
      "\u001b[0;31m---------------------------------------------------------------------------\u001b[0m",
      "\u001b[0;31mTypeError\u001b[0m                                 Traceback (most recent call last)",
      "\u001b[0;31mTypeError\u001b[0m: emptyfunction() takes 0 positional arguments but 1 was given"
     ],
     "output_type": "error"
    },
    {
     "ename": "TypeError",
     "evalue": "emptyfunction() takes 0 positional arguments but 1 was given",
     "traceback": [
      "\u001b[0;31m---------------------------------------------------------------------------\u001b[0m",
      "\u001b[0;31mTypeError\u001b[0m                                 Traceback (most recent call last)",
      "\u001b[0;31mTypeError\u001b[0m: emptyfunction() takes 0 positional arguments but 1 was given"
     ],
     "output_type": "error"
    },
    {
     "ename": "TypeError",
     "evalue": "emptyfunction() takes 0 positional arguments but 1 was given",
     "traceback": [
      "\u001b[0;31m---------------------------------------------------------------------------\u001b[0m",
      "\u001b[0;31mTypeError\u001b[0m                                 Traceback (most recent call last)",
      "\u001b[0;31mTypeError\u001b[0m: emptyfunction() takes 0 positional arguments but 1 was given"
     ],
     "output_type": "error"
    },
    {
     "ename": "TypeError",
     "evalue": "emptyfunction() takes 0 positional arguments but 1 was given",
     "traceback": [
      "\u001b[0;31m---------------------------------------------------------------------------\u001b[0m",
      "\u001b[0;31mTypeError\u001b[0m                                 Traceback (most recent call last)",
      "\u001b[0;31mTypeError\u001b[0m: emptyfunction() takes 0 positional arguments but 1 was given"
     ],
     "output_type": "error"
    },
    {
     "ename": "TypeError",
     "evalue": "emptyfunction() takes 0 positional arguments but 1 was given",
     "traceback": [
      "\u001b[0;31m---------------------------------------------------------------------------\u001b[0m",
      "\u001b[0;31mTypeError\u001b[0m                                 Traceback (most recent call last)",
      "\u001b[0;31mTypeError\u001b[0m: emptyfunction() takes 0 positional arguments but 1 was given"
     ],
     "output_type": "error"
    },
    {
     "ename": "TypeError",
     "evalue": "emptyfunction() takes 0 positional arguments but 1 was given",
     "traceback": [
      "\u001b[0;31m---------------------------------------------------------------------------\u001b[0m",
      "\u001b[0;31mTypeError\u001b[0m                                 Traceback (most recent call last)",
      "\u001b[0;31mTypeError\u001b[0m: emptyfunction() takes 0 positional arguments but 1 was given"
     ],
     "output_type": "error"
    },
    {
     "ename": "TypeError",
     "evalue": "emptyfunction() takes 0 positional arguments but 1 was given",
     "traceback": [
      "\u001b[0;31m---------------------------------------------------------------------------\u001b[0m",
      "\u001b[0;31mTypeError\u001b[0m                                 Traceback (most recent call last)",
      "\u001b[0;31mTypeError\u001b[0m: emptyfunction() takes 0 positional arguments but 1 was given"
     ],
     "output_type": "error"
    },
    {
     "ename": "TypeError",
     "evalue": "emptyfunction() takes 0 positional arguments but 1 was given",
     "traceback": [
      "\u001b[0;31m---------------------------------------------------------------------------\u001b[0m",
      "\u001b[0;31mTypeError\u001b[0m                                 Traceback (most recent call last)",
      "\u001b[0;31mTypeError\u001b[0m: emptyfunction() takes 0 positional arguments but 1 was given"
     ],
     "output_type": "error"
    },
    {
     "ename": "TypeError",
     "evalue": "emptyfunction() takes 0 positional arguments but 1 was given",
     "traceback": [
      "\u001b[0;31m---------------------------------------------------------------------------\u001b[0m",
      "\u001b[0;31mTypeError\u001b[0m                                 Traceback (most recent call last)",
      "\u001b[0;31mTypeError\u001b[0m: emptyfunction() takes 0 positional arguments but 1 was given"
     ],
     "output_type": "error"
    },
    {
     "ename": "TypeError",
     "evalue": "emptyfunction() takes 0 positional arguments but 1 was given",
     "traceback": [
      "\u001b[0;31m---------------------------------------------------------------------------\u001b[0m",
      "\u001b[0;31mTypeError\u001b[0m                                 Traceback (most recent call last)",
      "\u001b[0;31mTypeError\u001b[0m: emptyfunction() takes 0 positional arguments but 1 was given"
     ],
     "output_type": "error"
    },
    {
     "ename": "TypeError",
     "evalue": "emptyfunction() takes 0 positional arguments but 1 was given",
     "traceback": [
      "\u001b[0;31m---------------------------------------------------------------------------\u001b[0m",
      "\u001b[0;31mTypeError\u001b[0m                                 Traceback (most recent call last)",
      "\u001b[0;31mTypeError\u001b[0m: emptyfunction() takes 0 positional arguments but 1 was given"
     ],
     "output_type": "error"
    },
    {
     "ename": "TypeError",
     "evalue": "emptyfunction() takes 0 positional arguments but 1 was given",
     "traceback": [
      "\u001b[0;31m---------------------------------------------------------------------------\u001b[0m",
      "\u001b[0;31mTypeError\u001b[0m                                 Traceback (most recent call last)",
      "\u001b[0;31mTypeError\u001b[0m: emptyfunction() takes 0 positional arguments but 1 was given"
     ],
     "output_type": "error"
    },
    {
     "ename": "TypeError",
     "evalue": "emptyfunction() takes 0 positional arguments but 1 was given",
     "traceback": [
      "\u001b[0;31m---------------------------------------------------------------------------\u001b[0m",
      "\u001b[0;31mTypeError\u001b[0m                                 Traceback (most recent call last)",
      "\u001b[0;31mTypeError\u001b[0m: emptyfunction() takes 0 positional arguments but 1 was given"
     ],
     "output_type": "error"
    },
    {
     "ename": "TypeError",
     "evalue": "emptyfunction() takes 0 positional arguments but 1 was given",
     "traceback": [
      "\u001b[0;31m---------------------------------------------------------------------------\u001b[0m",
      "\u001b[0;31mTypeError\u001b[0m                                 Traceback (most recent call last)",
      "\u001b[0;31mTypeError\u001b[0m: emptyfunction() takes 0 positional arguments but 1 was given"
     ],
     "output_type": "error"
    },
    {
     "ename": "TypeError",
     "evalue": "emptyfunction() takes 0 positional arguments but 1 was given",
     "traceback": [
      "\u001b[0;31m---------------------------------------------------------------------------\u001b[0m",
      "\u001b[0;31mTypeError\u001b[0m                                 Traceback (most recent call last)",
      "\u001b[0;31mTypeError\u001b[0m: emptyfunction() takes 0 positional arguments but 1 was given"
     ],
     "output_type": "error"
    },
    {
     "ename": "TypeError",
     "evalue": "emptyfunction() takes 0 positional arguments but 1 was given",
     "traceback": [
      "\u001b[0;31m---------------------------------------------------------------------------\u001b[0m",
      "\u001b[0;31mTypeError\u001b[0m                                 Traceback (most recent call last)",
      "\u001b[0;31mTypeError\u001b[0m: emptyfunction() takes 0 positional arguments but 1 was given"
     ],
     "output_type": "error"
    },
    {
     "ename": "TypeError",
     "evalue": "emptyfunction() takes 0 positional arguments but 1 was given",
     "traceback": [
      "\u001b[0;31m---------------------------------------------------------------------------\u001b[0m",
      "\u001b[0;31mTypeError\u001b[0m                                 Traceback (most recent call last)",
      "\u001b[0;31mTypeError\u001b[0m: emptyfunction() takes 0 positional arguments but 1 was given"
     ],
     "output_type": "error"
    },
    {
     "ename": "TypeError",
     "evalue": "emptyfunction() takes 0 positional arguments but 1 was given",
     "traceback": [
      "\u001b[0;31m---------------------------------------------------------------------------\u001b[0m",
      "\u001b[0;31mTypeError\u001b[0m                                 Traceback (most recent call last)",
      "\u001b[0;31mTypeError\u001b[0m: emptyfunction() takes 0 positional arguments but 1 was given"
     ],
     "output_type": "error"
    },
    {
     "ename": "TypeError",
     "evalue": "emptyfunction() takes 0 positional arguments but 1 was given",
     "traceback": [
      "\u001b[0;31m---------------------------------------------------------------------------\u001b[0m",
      "\u001b[0;31mTypeError\u001b[0m                                 Traceback (most recent call last)",
      "\u001b[0;31mTypeError\u001b[0m: emptyfunction() takes 0 positional arguments but 1 was given"
     ],
     "output_type": "error"
    },
    {
     "ename": "TypeError",
     "evalue": "emptyfunction() takes 0 positional arguments but 1 was given",
     "traceback": [
      "\u001b[0;31m---------------------------------------------------------------------------\u001b[0m",
      "\u001b[0;31mTypeError\u001b[0m                                 Traceback (most recent call last)",
      "\u001b[0;31mTypeError\u001b[0m: emptyfunction() takes 0 positional arguments but 1 was given"
     ],
     "output_type": "error"
    },
    {
     "ename": "TypeError",
     "evalue": "emptyfunction() takes 0 positional arguments but 1 was given",
     "traceback": [
      "\u001b[0;31m---------------------------------------------------------------------------\u001b[0m",
      "\u001b[0;31mTypeError\u001b[0m                                 Traceback (most recent call last)",
      "\u001b[0;31mTypeError\u001b[0m: emptyfunction() takes 0 positional arguments but 1 was given"
     ],
     "output_type": "error"
    },
    {
     "ename": "TypeError",
     "evalue": "emptyfunction() takes 0 positional arguments but 1 was given",
     "traceback": [
      "\u001b[0;31m---------------------------------------------------------------------------\u001b[0m",
      "\u001b[0;31mTypeError\u001b[0m                                 Traceback (most recent call last)",
      "\u001b[0;31mTypeError\u001b[0m: emptyfunction() takes 0 positional arguments but 1 was given"
     ],
     "output_type": "error"
    },
    {
     "ename": "TypeError",
     "evalue": "emptyfunction() takes 0 positional arguments but 1 was given",
     "traceback": [
      "\u001b[0;31m---------------------------------------------------------------------------\u001b[0m",
      "\u001b[0;31mTypeError\u001b[0m                                 Traceback (most recent call last)",
      "\u001b[0;31mTypeError\u001b[0m: emptyfunction() takes 0 positional arguments but 1 was given"
     ],
     "output_type": "error"
    },
    {
     "ename": "TypeError",
     "evalue": "emptyfunction() takes 0 positional arguments but 1 was given",
     "traceback": [
      "\u001b[0;31m---------------------------------------------------------------------------\u001b[0m",
      "\u001b[0;31mTypeError\u001b[0m                                 Traceback (most recent call last)",
      "\u001b[0;31mTypeError\u001b[0m: emptyfunction() takes 0 positional arguments but 1 was given"
     ],
     "output_type": "error"
    },
    {
     "ename": "TypeError",
     "evalue": "emptyfunction() takes 0 positional arguments but 1 was given",
     "traceback": [
      "\u001b[0;31m---------------------------------------------------------------------------\u001b[0m",
      "\u001b[0;31mTypeError\u001b[0m                                 Traceback (most recent call last)",
      "\u001b[0;31mTypeError\u001b[0m: emptyfunction() takes 0 positional arguments but 1 was given"
     ],
     "output_type": "error"
    },
    {
     "ename": "TypeError",
     "evalue": "emptyfunction() takes 0 positional arguments but 1 was given",
     "traceback": [
      "\u001b[0;31m---------------------------------------------------------------------------\u001b[0m",
      "\u001b[0;31mTypeError\u001b[0m                                 Traceback (most recent call last)",
      "\u001b[0;31mTypeError\u001b[0m: emptyfunction() takes 0 positional arguments but 1 was given"
     ],
     "output_type": "error"
    },
    {
     "ename": "TypeError",
     "evalue": "emptyfunction() takes 0 positional arguments but 1 was given",
     "traceback": [
      "\u001b[0;31m---------------------------------------------------------------------------\u001b[0m",
      "\u001b[0;31mTypeError\u001b[0m                                 Traceback (most recent call last)",
      "\u001b[0;31mTypeError\u001b[0m: emptyfunction() takes 0 positional arguments but 1 was given"
     ],
     "output_type": "error"
    },
    {
     "ename": "TypeError",
     "evalue": "emptyfunction() takes 0 positional arguments but 1 was given",
     "traceback": [
      "\u001b[0;31m---------------------------------------------------------------------------\u001b[0m",
      "\u001b[0;31mTypeError\u001b[0m                                 Traceback (most recent call last)",
      "\u001b[0;31mTypeError\u001b[0m: emptyfunction() takes 0 positional arguments but 1 was given"
     ],
     "output_type": "error"
    },
    {
     "ename": "TypeError",
     "evalue": "emptyfunction() takes 0 positional arguments but 1 was given",
     "traceback": [
      "\u001b[0;31m---------------------------------------------------------------------------\u001b[0m",
      "\u001b[0;31mTypeError\u001b[0m                                 Traceback (most recent call last)",
      "\u001b[0;31mTypeError\u001b[0m: emptyfunction() takes 0 positional arguments but 1 was given"
     ],
     "output_type": "error"
    },
    {
     "ename": "TypeError",
     "evalue": "emptyfunction() takes 0 positional arguments but 1 was given",
     "traceback": [
      "\u001b[0;31m---------------------------------------------------------------------------\u001b[0m",
      "\u001b[0;31mTypeError\u001b[0m                                 Traceback (most recent call last)",
      "\u001b[0;31mTypeError\u001b[0m: emptyfunction() takes 0 positional arguments but 1 was given"
     ],
     "output_type": "error"
    },
    {
     "ename": "TypeError",
     "evalue": "emptyfunction() takes 0 positional arguments but 1 was given",
     "traceback": [
      "\u001b[0;31m---------------------------------------------------------------------------\u001b[0m",
      "\u001b[0;31mTypeError\u001b[0m                                 Traceback (most recent call last)",
      "\u001b[0;31mTypeError\u001b[0m: emptyfunction() takes 0 positional arguments but 1 was given"
     ],
     "output_type": "error"
    },
    {
     "ename": "TypeError",
     "evalue": "emptyfunction() takes 0 positional arguments but 1 was given",
     "traceback": [
      "\u001b[0;31m---------------------------------------------------------------------------\u001b[0m",
      "\u001b[0;31mTypeError\u001b[0m                                 Traceback (most recent call last)",
      "\u001b[0;31mTypeError\u001b[0m: emptyfunction() takes 0 positional arguments but 1 was given"
     ],
     "output_type": "error"
    },
    {
     "ename": "TypeError",
     "evalue": "emptyfunction() takes 0 positional arguments but 1 was given",
     "traceback": [
      "\u001b[0;31m---------------------------------------------------------------------------\u001b[0m",
      "\u001b[0;31mTypeError\u001b[0m                                 Traceback (most recent call last)",
      "\u001b[0;31mTypeError\u001b[0m: emptyfunction() takes 0 positional arguments but 1 was given"
     ],
     "output_type": "error"
    },
    {
     "ename": "TypeError",
     "evalue": "emptyfunction() takes 0 positional arguments but 1 was given",
     "traceback": [
      "\u001b[0;31m---------------------------------------------------------------------------\u001b[0m",
      "\u001b[0;31mTypeError\u001b[0m                                 Traceback (most recent call last)",
      "\u001b[0;31mTypeError\u001b[0m: emptyfunction() takes 0 positional arguments but 1 was given"
     ],
     "output_type": "error"
    },
    {
     "ename": "TypeError",
     "evalue": "emptyfunction() takes 0 positional arguments but 1 was given",
     "traceback": [
      "\u001b[0;31m---------------------------------------------------------------------------\u001b[0m",
      "\u001b[0;31mTypeError\u001b[0m                                 Traceback (most recent call last)",
      "\u001b[0;31mTypeError\u001b[0m: emptyfunction() takes 0 positional arguments but 1 was given"
     ],
     "output_type": "error"
    },
    {
     "ename": "TypeError",
     "evalue": "emptyfunction() takes 0 positional arguments but 1 was given",
     "traceback": [
      "\u001b[0;31m---------------------------------------------------------------------------\u001b[0m",
      "\u001b[0;31mTypeError\u001b[0m                                 Traceback (most recent call last)",
      "\u001b[0;31mTypeError\u001b[0m: emptyfunction() takes 0 positional arguments but 1 was given"
     ],
     "output_type": "error"
    },
    {
     "ename": "TypeError",
     "evalue": "emptyfunction() takes 0 positional arguments but 1 was given",
     "traceback": [
      "\u001b[0;31m---------------------------------------------------------------------------\u001b[0m",
      "\u001b[0;31mTypeError\u001b[0m                                 Traceback (most recent call last)",
      "\u001b[0;31mTypeError\u001b[0m: emptyfunction() takes 0 positional arguments but 1 was given"
     ],
     "output_type": "error"
    },
    {
     "ename": "TypeError",
     "evalue": "emptyfunction() takes 0 positional arguments but 1 was given",
     "traceback": [
      "\u001b[0;31m---------------------------------------------------------------------------\u001b[0m",
      "\u001b[0;31mTypeError\u001b[0m                                 Traceback (most recent call last)",
      "\u001b[0;31mTypeError\u001b[0m: emptyfunction() takes 0 positional arguments but 1 was given"
     ],
     "output_type": "error"
    },
    {
     "ename": "TypeError",
     "evalue": "emptyfunction() takes 0 positional arguments but 1 was given",
     "traceback": [
      "\u001b[0;31m---------------------------------------------------------------------------\u001b[0m",
      "\u001b[0;31mTypeError\u001b[0m                                 Traceback (most recent call last)",
      "\u001b[0;31mTypeError\u001b[0m: emptyfunction() takes 0 positional arguments but 1 was given"
     ],
     "output_type": "error"
    },
    {
     "ename": "TypeError",
     "evalue": "emptyfunction() takes 0 positional arguments but 1 was given",
     "traceback": [
      "\u001b[0;31m---------------------------------------------------------------------------\u001b[0m",
      "\u001b[0;31mTypeError\u001b[0m                                 Traceback (most recent call last)",
      "\u001b[0;31mTypeError\u001b[0m: emptyfunction() takes 0 positional arguments but 1 was given"
     ],
     "output_type": "error"
    },
    {
     "ename": "TypeError",
     "evalue": "emptyfunction() takes 0 positional arguments but 1 was given",
     "traceback": [
      "\u001b[0;31m---------------------------------------------------------------------------\u001b[0m",
      "\u001b[0;31mTypeError\u001b[0m                                 Traceback (most recent call last)",
      "\u001b[0;31mTypeError\u001b[0m: emptyfunction() takes 0 positional arguments but 1 was given"
     ],
     "output_type": "error"
    },
    {
     "ename": "TypeError",
     "evalue": "emptyfunction() takes 0 positional arguments but 1 was given",
     "traceback": [
      "\u001b[0;31m---------------------------------------------------------------------------\u001b[0m",
      "\u001b[0;31mTypeError\u001b[0m                                 Traceback (most recent call last)",
      "\u001b[0;31mTypeError\u001b[0m: emptyfunction() takes 0 positional arguments but 1 was given"
     ],
     "output_type": "error"
    },
    {
     "ename": "TypeError",
     "evalue": "emptyfunction() takes 0 positional arguments but 1 was given",
     "traceback": [
      "\u001b[0;31m---------------------------------------------------------------------------\u001b[0m",
      "\u001b[0;31mTypeError\u001b[0m                                 Traceback (most recent call last)",
      "\u001b[0;31mTypeError\u001b[0m: emptyfunction() takes 0 positional arguments but 1 was given"
     ],
     "output_type": "error"
    },
    {
     "ename": "TypeError",
     "evalue": "emptyfunction() takes 0 positional arguments but 1 was given",
     "traceback": [
      "\u001b[0;31m---------------------------------------------------------------------------\u001b[0m",
      "\u001b[0;31mTypeError\u001b[0m                                 Traceback (most recent call last)",
      "\u001b[0;31mTypeError\u001b[0m: emptyfunction() takes 0 positional arguments but 1 was given"
     ],
     "output_type": "error"
    },
    {
     "ename": "TypeError",
     "evalue": "emptyfunction() takes 0 positional arguments but 1 was given",
     "traceback": [
      "\u001b[0;31m---------------------------------------------------------------------------\u001b[0m",
      "\u001b[0;31mTypeError\u001b[0m                                 Traceback (most recent call last)",
      "\u001b[0;31mTypeError\u001b[0m: emptyfunction() takes 0 positional arguments but 1 was given"
     ],
     "output_type": "error"
    },
    {
     "ename": "TypeError",
     "evalue": "emptyfunction() takes 0 positional arguments but 1 was given",
     "traceback": [
      "\u001b[0;31m---------------------------------------------------------------------------\u001b[0m",
      "\u001b[0;31mTypeError\u001b[0m                                 Traceback (most recent call last)",
      "\u001b[0;31mTypeError\u001b[0m: emptyfunction() takes 0 positional arguments but 1 was given"
     ],
     "output_type": "error"
    },
    {
     "ename": "TypeError",
     "evalue": "emptyfunction() takes 0 positional arguments but 1 was given",
     "traceback": [
      "\u001b[0;31m---------------------------------------------------------------------------\u001b[0m",
      "\u001b[0;31mTypeError\u001b[0m                                 Traceback (most recent call last)",
      "\u001b[0;31mTypeError\u001b[0m: emptyfunction() takes 0 positional arguments but 1 was given"
     ],
     "output_type": "error"
    },
    {
     "ename": "TypeError",
     "evalue": "emptyfunction() takes 0 positional arguments but 1 was given",
     "traceback": [
      "\u001b[0;31m---------------------------------------------------------------------------\u001b[0m",
      "\u001b[0;31mTypeError\u001b[0m                                 Traceback (most recent call last)",
      "\u001b[0;31mTypeError\u001b[0m: emptyfunction() takes 0 positional arguments but 1 was given"
     ],
     "output_type": "error"
    },
    {
     "ename": "TypeError",
     "evalue": "emptyfunction() takes 0 positional arguments but 1 was given",
     "traceback": [
      "\u001b[0;31m---------------------------------------------------------------------------\u001b[0m",
      "\u001b[0;31mTypeError\u001b[0m                                 Traceback (most recent call last)",
      "\u001b[0;31mTypeError\u001b[0m: emptyfunction() takes 0 positional arguments but 1 was given"
     ],
     "output_type": "error"
    },
    {
     "ename": "TypeError",
     "evalue": "emptyfunction() takes 0 positional arguments but 1 was given",
     "traceback": [
      "\u001b[0;31m---------------------------------------------------------------------------\u001b[0m",
      "\u001b[0;31mTypeError\u001b[0m                                 Traceback (most recent call last)",
      "\u001b[0;31mTypeError\u001b[0m: emptyfunction() takes 0 positional arguments but 1 was given"
     ],
     "output_type": "error"
    },
    {
     "ename": "TypeError",
     "evalue": "emptyfunction() takes 0 positional arguments but 1 was given",
     "traceback": [
      "\u001b[0;31m---------------------------------------------------------------------------\u001b[0m",
      "\u001b[0;31mTypeError\u001b[0m                                 Traceback (most recent call last)",
      "\u001b[0;31mTypeError\u001b[0m: emptyfunction() takes 0 positional arguments but 1 was given"
     ],
     "output_type": "error"
    },
    {
     "ename": "TypeError",
     "evalue": "emptyfunction() takes 0 positional arguments but 1 was given",
     "traceback": [
      "\u001b[0;31m---------------------------------------------------------------------------\u001b[0m",
      "\u001b[0;31mTypeError\u001b[0m                                 Traceback (most recent call last)",
      "\u001b[0;31mTypeError\u001b[0m: emptyfunction() takes 0 positional arguments but 1 was given"
     ],
     "output_type": "error"
    },
    {
     "ename": "TypeError",
     "evalue": "emptyfunction() takes 0 positional arguments but 1 was given",
     "traceback": [
      "\u001b[0;31m---------------------------------------------------------------------------\u001b[0m",
      "\u001b[0;31mTypeError\u001b[0m                                 Traceback (most recent call last)",
      "\u001b[0;31mTypeError\u001b[0m: emptyfunction() takes 0 positional arguments but 1 was given"
     ],
     "output_type": "error"
    },
    {
     "ename": "TypeError",
     "evalue": "emptyfunction() takes 0 positional arguments but 1 was given",
     "traceback": [
      "\u001b[0;31m---------------------------------------------------------------------------\u001b[0m",
      "\u001b[0;31mTypeError\u001b[0m                                 Traceback (most recent call last)",
      "\u001b[0;31mTypeError\u001b[0m: emptyfunction() takes 0 positional arguments but 1 was given"
     ],
     "output_type": "error"
    },
    {
     "ename": "TypeError",
     "evalue": "emptyfunction() takes 0 positional arguments but 1 was given",
     "traceback": [
      "\u001b[0;31m---------------------------------------------------------------------------\u001b[0m",
      "\u001b[0;31mTypeError\u001b[0m                                 Traceback (most recent call last)",
      "\u001b[0;31mTypeError\u001b[0m: emptyfunction() takes 0 positional arguments but 1 was given"
     ],
     "output_type": "error"
    },
    {
     "ename": "TypeError",
     "evalue": "emptyfunction() takes 0 positional arguments but 1 was given",
     "traceback": [
      "\u001b[0;31m---------------------------------------------------------------------------\u001b[0m",
      "\u001b[0;31mTypeError\u001b[0m                                 Traceback (most recent call last)",
      "\u001b[0;31mTypeError\u001b[0m: emptyfunction() takes 0 positional arguments but 1 was given"
     ],
     "output_type": "error"
    },
    {
     "ename": "TypeError",
     "evalue": "emptyfunction() takes 0 positional arguments but 1 was given",
     "traceback": [
      "\u001b[0;31m---------------------------------------------------------------------------\u001b[0m",
      "\u001b[0;31mTypeError\u001b[0m                                 Traceback (most recent call last)",
      "\u001b[0;31mTypeError\u001b[0m: emptyfunction() takes 0 positional arguments but 1 was given"
     ],
     "output_type": "error"
    },
    {
     "ename": "TypeError",
     "evalue": "emptyfunction() takes 0 positional arguments but 1 was given",
     "traceback": [
      "\u001b[0;31m---------------------------------------------------------------------------\u001b[0m",
      "\u001b[0;31mTypeError\u001b[0m                                 Traceback (most recent call last)",
      "\u001b[0;31mTypeError\u001b[0m: emptyfunction() takes 0 positional arguments but 1 was given"
     ],
     "output_type": "error"
    },
    {
     "ename": "TypeError",
     "evalue": "emptyfunction() takes 0 positional arguments but 1 was given",
     "traceback": [
      "\u001b[0;31m---------------------------------------------------------------------------\u001b[0m",
      "\u001b[0;31mTypeError\u001b[0m                                 Traceback (most recent call last)",
      "\u001b[0;31mTypeError\u001b[0m: emptyfunction() takes 0 positional arguments but 1 was given"
     ],
     "output_type": "error"
    },
    {
     "ename": "TypeError",
     "evalue": "emptyfunction() takes 0 positional arguments but 1 was given",
     "traceback": [
      "\u001b[0;31m---------------------------------------------------------------------------\u001b[0m",
      "\u001b[0;31mTypeError\u001b[0m                                 Traceback (most recent call last)",
      "\u001b[0;31mTypeError\u001b[0m: emptyfunction() takes 0 positional arguments but 1 was given"
     ],
     "output_type": "error"
    },
    {
     "ename": "TypeError",
     "evalue": "emptyfunction() takes 0 positional arguments but 1 was given",
     "traceback": [
      "\u001b[0;31m---------------------------------------------------------------------------\u001b[0m",
      "\u001b[0;31mTypeError\u001b[0m                                 Traceback (most recent call last)",
      "\u001b[0;31mTypeError\u001b[0m: emptyfunction() takes 0 positional arguments but 1 was given"
     ],
     "output_type": "error"
    },
    {
     "ename": "TypeError",
     "evalue": "emptyfunction() takes 0 positional arguments but 1 was given",
     "traceback": [
      "\u001b[0;31m---------------------------------------------------------------------------\u001b[0m",
      "\u001b[0;31mTypeError\u001b[0m                                 Traceback (most recent call last)",
      "\u001b[0;31mTypeError\u001b[0m: emptyfunction() takes 0 positional arguments but 1 was given"
     ],
     "output_type": "error"
    },
    {
     "ename": "TypeError",
     "evalue": "emptyfunction() takes 0 positional arguments but 1 was given",
     "traceback": [
      "\u001b[0;31m---------------------------------------------------------------------------\u001b[0m",
      "\u001b[0;31mTypeError\u001b[0m                                 Traceback (most recent call last)",
      "\u001b[0;31mTypeError\u001b[0m: emptyfunction() takes 0 positional arguments but 1 was given"
     ],
     "output_type": "error"
    },
    {
     "ename": "TypeError",
     "evalue": "emptyfunction() takes 0 positional arguments but 1 was given",
     "traceback": [
      "\u001b[0;31m---------------------------------------------------------------------------\u001b[0m",
      "\u001b[0;31mTypeError\u001b[0m                                 Traceback (most recent call last)",
      "\u001b[0;31mTypeError\u001b[0m: emptyfunction() takes 0 positional arguments but 1 was given"
     ],
     "output_type": "error"
    },
    {
     "ename": "TypeError",
     "evalue": "emptyfunction() takes 0 positional arguments but 1 was given",
     "traceback": [
      "\u001b[0;31m---------------------------------------------------------------------------\u001b[0m",
      "\u001b[0;31mTypeError\u001b[0m                                 Traceback (most recent call last)",
      "\u001b[0;31mTypeError\u001b[0m: emptyfunction() takes 0 positional arguments but 1 was given"
     ],
     "output_type": "error"
    },
    {
     "ename": "TypeError",
     "evalue": "emptyfunction() takes 0 positional arguments but 1 was given",
     "traceback": [
      "\u001b[0;31m---------------------------------------------------------------------------\u001b[0m",
      "\u001b[0;31mTypeError\u001b[0m                                 Traceback (most recent call last)",
      "\u001b[0;31mTypeError\u001b[0m: emptyfunction() takes 0 positional arguments but 1 was given"
     ],
     "output_type": "error"
    },
    {
     "ename": "TypeError",
     "evalue": "emptyfunction() takes 0 positional arguments but 1 was given",
     "traceback": [
      "\u001b[0;31m---------------------------------------------------------------------------\u001b[0m",
      "\u001b[0;31mTypeError\u001b[0m                                 Traceback (most recent call last)",
      "\u001b[0;31mTypeError\u001b[0m: emptyfunction() takes 0 positional arguments but 1 was given"
     ],
     "output_type": "error"
    },
    {
     "ename": "TypeError",
     "evalue": "emptyfunction() takes 0 positional arguments but 1 was given",
     "traceback": [
      "\u001b[0;31m---------------------------------------------------------------------------\u001b[0m",
      "\u001b[0;31mTypeError\u001b[0m                                 Traceback (most recent call last)",
      "\u001b[0;31mTypeError\u001b[0m: emptyfunction() takes 0 positional arguments but 1 was given"
     ],
     "output_type": "error"
    },
    {
     "ename": "TypeError",
     "evalue": "emptyfunction() takes 0 positional arguments but 1 was given",
     "traceback": [
      "\u001b[0;31m---------------------------------------------------------------------------\u001b[0m",
      "\u001b[0;31mTypeError\u001b[0m                                 Traceback (most recent call last)",
      "\u001b[0;31mTypeError\u001b[0m: emptyfunction() takes 0 positional arguments but 1 was given"
     ],
     "output_type": "error"
    },
    {
     "ename": "TypeError",
     "evalue": "emptyfunction() takes 0 positional arguments but 1 was given",
     "traceback": [
      "\u001b[0;31m---------------------------------------------------------------------------\u001b[0m",
      "\u001b[0;31mTypeError\u001b[0m                                 Traceback (most recent call last)",
      "\u001b[0;31mTypeError\u001b[0m: emptyfunction() takes 0 positional arguments but 1 was given"
     ],
     "output_type": "error"
    },
    {
     "ename": "TypeError",
     "evalue": "emptyfunction() takes 0 positional arguments but 1 was given",
     "traceback": [
      "\u001b[0;31m---------------------------------------------------------------------------\u001b[0m",
      "\u001b[0;31mTypeError\u001b[0m                                 Traceback (most recent call last)",
      "\u001b[0;31mTypeError\u001b[0m: emptyfunction() takes 0 positional arguments but 1 was given"
     ],
     "output_type": "error"
    },
    {
     "ename": "TypeError",
     "evalue": "emptyfunction() takes 0 positional arguments but 1 was given",
     "traceback": [
      "\u001b[0;31m---------------------------------------------------------------------------\u001b[0m",
      "\u001b[0;31mTypeError\u001b[0m                                 Traceback (most recent call last)",
      "\u001b[0;31mTypeError\u001b[0m: emptyfunction() takes 0 positional arguments but 1 was given"
     ],
     "output_type": "error"
    },
    {
     "ename": "TypeError",
     "evalue": "emptyfunction() takes 0 positional arguments but 1 was given",
     "traceback": [
      "\u001b[0;31m---------------------------------------------------------------------------\u001b[0m",
      "\u001b[0;31mTypeError\u001b[0m                                 Traceback (most recent call last)",
      "\u001b[0;31mTypeError\u001b[0m: emptyfunction() takes 0 positional arguments but 1 was given"
     ],
     "output_type": "error"
    },
    {
     "ename": "TypeError",
     "evalue": "emptyfunction() takes 0 positional arguments but 1 was given",
     "traceback": [
      "\u001b[0;31m---------------------------------------------------------------------------\u001b[0m",
      "\u001b[0;31mTypeError\u001b[0m                                 Traceback (most recent call last)",
      "\u001b[0;31mTypeError\u001b[0m: emptyfunction() takes 0 positional arguments but 1 was given"
     ],
     "output_type": "error"
    },
    {
     "ename": "TypeError",
     "evalue": "emptyfunction() takes 0 positional arguments but 1 was given",
     "traceback": [
      "\u001b[0;31m---------------------------------------------------------------------------\u001b[0m",
      "\u001b[0;31mTypeError\u001b[0m                                 Traceback (most recent call last)",
      "\u001b[0;31mTypeError\u001b[0m: emptyfunction() takes 0 positional arguments but 1 was given"
     ],
     "output_type": "error"
    },
    {
     "ename": "TypeError",
     "evalue": "emptyfunction() takes 0 positional arguments but 1 was given",
     "traceback": [
      "\u001b[0;31m---------------------------------------------------------------------------\u001b[0m",
      "\u001b[0;31mTypeError\u001b[0m                                 Traceback (most recent call last)",
      "\u001b[0;31mTypeError\u001b[0m: emptyfunction() takes 0 positional arguments but 1 was given"
     ],
     "output_type": "error"
    },
    {
     "ename": "TypeError",
     "evalue": "emptyfunction() takes 0 positional arguments but 1 was given",
     "traceback": [
      "\u001b[0;31m---------------------------------------------------------------------------\u001b[0m",
      "\u001b[0;31mTypeError\u001b[0m                                 Traceback (most recent call last)",
      "\u001b[0;31mTypeError\u001b[0m: emptyfunction() takes 0 positional arguments but 1 was given"
     ],
     "output_type": "error"
    },
    {
     "ename": "TypeError",
     "evalue": "emptyfunction() takes 0 positional arguments but 1 was given",
     "traceback": [
      "\u001b[0;31m---------------------------------------------------------------------------\u001b[0m",
      "\u001b[0;31mTypeError\u001b[0m                                 Traceback (most recent call last)",
      "\u001b[0;31mTypeError\u001b[0m: emptyfunction() takes 0 positional arguments but 1 was given"
     ],
     "output_type": "error"
    },
    {
     "ename": "TypeError",
     "evalue": "emptyfunction() takes 0 positional arguments but 1 was given",
     "traceback": [
      "\u001b[0;31m---------------------------------------------------------------------------\u001b[0m",
      "\u001b[0;31mTypeError\u001b[0m                                 Traceback (most recent call last)",
      "\u001b[0;31mTypeError\u001b[0m: emptyfunction() takes 0 positional arguments but 1 was given"
     ],
     "output_type": "error"
    },
    {
     "ename": "TypeError",
     "evalue": "emptyfunction() takes 0 positional arguments but 1 was given",
     "traceback": [
      "\u001b[0;31m---------------------------------------------------------------------------\u001b[0m",
      "\u001b[0;31mTypeError\u001b[0m                                 Traceback (most recent call last)",
      "\u001b[0;31mTypeError\u001b[0m: emptyfunction() takes 0 positional arguments but 1 was given"
     ],
     "output_type": "error"
    },
    {
     "ename": "TypeError",
     "evalue": "emptyfunction() takes 0 positional arguments but 1 was given",
     "traceback": [
      "\u001b[0;31m---------------------------------------------------------------------------\u001b[0m",
      "\u001b[0;31mTypeError\u001b[0m                                 Traceback (most recent call last)",
      "\u001b[0;31mTypeError\u001b[0m: emptyfunction() takes 0 positional arguments but 1 was given"
     ],
     "output_type": "error"
    },
    {
     "ename": "TypeError",
     "evalue": "emptyfunction() takes 0 positional arguments but 1 was given",
     "traceback": [
      "\u001b[0;31m---------------------------------------------------------------------------\u001b[0m",
      "\u001b[0;31mTypeError\u001b[0m                                 Traceback (most recent call last)",
      "\u001b[0;31mTypeError\u001b[0m: emptyfunction() takes 0 positional arguments but 1 was given"
     ],
     "output_type": "error"
    },
    {
     "ename": "TypeError",
     "evalue": "emptyfunction() takes 0 positional arguments but 1 was given",
     "traceback": [
      "\u001b[0;31m---------------------------------------------------------------------------\u001b[0m",
      "\u001b[0;31mTypeError\u001b[0m                                 Traceback (most recent call last)",
      "\u001b[0;31mTypeError\u001b[0m: emptyfunction() takes 0 positional arguments but 1 was given"
     ],
     "output_type": "error"
    },
    {
     "ename": "TypeError",
     "evalue": "emptyfunction() takes 0 positional arguments but 1 was given",
     "traceback": [
      "\u001b[0;31m---------------------------------------------------------------------------\u001b[0m",
      "\u001b[0;31mTypeError\u001b[0m                                 Traceback (most recent call last)",
      "\u001b[0;31mTypeError\u001b[0m: emptyfunction() takes 0 positional arguments but 1 was given"
     ],
     "output_type": "error"
    },
    {
     "ename": "TypeError",
     "evalue": "emptyfunction() takes 0 positional arguments but 1 was given",
     "traceback": [
      "\u001b[0;31m---------------------------------------------------------------------------\u001b[0m",
      "\u001b[0;31mTypeError\u001b[0m                                 Traceback (most recent call last)",
      "\u001b[0;31mTypeError\u001b[0m: emptyfunction() takes 0 positional arguments but 1 was given"
     ],
     "output_type": "error"
    },
    {
     "ename": "TypeError",
     "evalue": "emptyfunction() takes 0 positional arguments but 1 was given",
     "traceback": [
      "\u001b[0;31m---------------------------------------------------------------------------\u001b[0m",
      "\u001b[0;31mTypeError\u001b[0m                                 Traceback (most recent call last)",
      "\u001b[0;31mTypeError\u001b[0m: emptyfunction() takes 0 positional arguments but 1 was given"
     ],
     "output_type": "error"
    },
    {
     "ename": "TypeError",
     "evalue": "emptyfunction() takes 0 positional arguments but 1 was given",
     "traceback": [
      "\u001b[0;31m---------------------------------------------------------------------------\u001b[0m",
      "\u001b[0;31mTypeError\u001b[0m                                 Traceback (most recent call last)",
      "\u001b[0;31mTypeError\u001b[0m: emptyfunction() takes 0 positional arguments but 1 was given"
     ],
     "output_type": "error"
    },
    {
     "ename": "TypeError",
     "evalue": "emptyfunction() takes 0 positional arguments but 1 was given",
     "traceback": [
      "\u001b[0;31m---------------------------------------------------------------------------\u001b[0m",
      "\u001b[0;31mTypeError\u001b[0m                                 Traceback (most recent call last)",
      "\u001b[0;31mTypeError\u001b[0m: emptyfunction() takes 0 positional arguments but 1 was given"
     ],
     "output_type": "error"
    },
    {
     "ename": "TypeError",
     "evalue": "emptyfunction() takes 0 positional arguments but 1 was given",
     "traceback": [
      "\u001b[0;31m---------------------------------------------------------------------------\u001b[0m",
      "\u001b[0;31mTypeError\u001b[0m                                 Traceback (most recent call last)",
      "\u001b[0;31mTypeError\u001b[0m: emptyfunction() takes 0 positional arguments but 1 was given"
     ],
     "output_type": "error"
    },
    {
     "ename": "TypeError",
     "evalue": "emptyfunction() takes 0 positional arguments but 1 was given",
     "traceback": [
      "\u001b[0;31m---------------------------------------------------------------------------\u001b[0m",
      "\u001b[0;31mTypeError\u001b[0m                                 Traceback (most recent call last)",
      "\u001b[0;31mTypeError\u001b[0m: emptyfunction() takes 0 positional arguments but 1 was given"
     ],
     "output_type": "error"
    },
    {
     "ename": "TypeError",
     "evalue": "emptyfunction() takes 0 positional arguments but 1 was given",
     "traceback": [
      "\u001b[0;31m---------------------------------------------------------------------------\u001b[0m",
      "\u001b[0;31mTypeError\u001b[0m                                 Traceback (most recent call last)",
      "\u001b[0;31mTypeError\u001b[0m: emptyfunction() takes 0 positional arguments but 1 was given"
     ],
     "output_type": "error"
    },
    {
     "ename": "TypeError",
     "evalue": "emptyfunction() takes 0 positional arguments but 1 was given",
     "traceback": [
      "\u001b[0;31m---------------------------------------------------------------------------\u001b[0m",
      "\u001b[0;31mTypeError\u001b[0m                                 Traceback (most recent call last)",
      "\u001b[0;31mTypeError\u001b[0m: emptyfunction() takes 0 positional arguments but 1 was given"
     ],
     "output_type": "error"
    },
    {
     "ename": "TypeError",
     "evalue": "emptyfunction() takes 0 positional arguments but 1 was given",
     "traceback": [
      "\u001b[0;31m---------------------------------------------------------------------------\u001b[0m",
      "\u001b[0;31mTypeError\u001b[0m                                 Traceback (most recent call last)",
      "\u001b[0;31mTypeError\u001b[0m: emptyfunction() takes 0 positional arguments but 1 was given"
     ],
     "output_type": "error"
    },
    {
     "ename": "TypeError",
     "evalue": "emptyfunction() takes 0 positional arguments but 1 was given",
     "traceback": [
      "\u001b[0;31m---------------------------------------------------------------------------\u001b[0m",
      "\u001b[0;31mTypeError\u001b[0m                                 Traceback (most recent call last)",
      "\u001b[0;31mTypeError\u001b[0m: emptyfunction() takes 0 positional arguments but 1 was given"
     ],
     "output_type": "error"
    },
    {
     "ename": "TypeError",
     "evalue": "emptyfunction() takes 0 positional arguments but 1 was given",
     "traceback": [
      "\u001b[0;31m---------------------------------------------------------------------------\u001b[0m",
      "\u001b[0;31mTypeError\u001b[0m                                 Traceback (most recent call last)",
      "\u001b[0;31mTypeError\u001b[0m: emptyfunction() takes 0 positional arguments but 1 was given"
     ],
     "output_type": "error"
    },
    {
     "ename": "TypeError",
     "evalue": "emptyfunction() takes 0 positional arguments but 1 was given",
     "traceback": [
      "\u001b[0;31m---------------------------------------------------------------------------\u001b[0m",
      "\u001b[0;31mTypeError\u001b[0m                                 Traceback (most recent call last)",
      "\u001b[0;31mTypeError\u001b[0m: emptyfunction() takes 0 positional arguments but 1 was given"
     ],
     "output_type": "error"
    },
    {
     "ename": "TypeError",
     "evalue": "emptyfunction() takes 0 positional arguments but 1 was given",
     "traceback": [
      "\u001b[0;31m---------------------------------------------------------------------------\u001b[0m",
      "\u001b[0;31mTypeError\u001b[0m                                 Traceback (most recent call last)",
      "\u001b[0;31mTypeError\u001b[0m: emptyfunction() takes 0 positional arguments but 1 was given"
     ],
     "output_type": "error"
    },
    {
     "ename": "TypeError",
     "evalue": "emptyfunction() takes 0 positional arguments but 1 was given",
     "traceback": [
      "\u001b[0;31m---------------------------------------------------------------------------\u001b[0m",
      "\u001b[0;31mTypeError\u001b[0m                                 Traceback (most recent call last)",
      "\u001b[0;31mTypeError\u001b[0m: emptyfunction() takes 0 positional arguments but 1 was given"
     ],
     "output_type": "error"
    },
    {
     "ename": "TypeError",
     "evalue": "emptyfunction() takes 0 positional arguments but 1 was given",
     "traceback": [
      "\u001b[0;31m---------------------------------------------------------------------------\u001b[0m",
      "\u001b[0;31mTypeError\u001b[0m                                 Traceback (most recent call last)",
      "\u001b[0;31mTypeError\u001b[0m: emptyfunction() takes 0 positional arguments but 1 was given"
     ],
     "output_type": "error"
    },
    {
     "ename": "TypeError",
     "evalue": "emptyfunction() takes 0 positional arguments but 1 was given",
     "traceback": [
      "\u001b[0;31m---------------------------------------------------------------------------\u001b[0m",
      "\u001b[0;31mTypeError\u001b[0m                                 Traceback (most recent call last)",
      "\u001b[0;31mTypeError\u001b[0m: emptyfunction() takes 0 positional arguments but 1 was given"
     ],
     "output_type": "error"
    },
    {
     "ename": "TypeError",
     "evalue": "emptyfunction() takes 0 positional arguments but 1 was given",
     "traceback": [
      "\u001b[0;31m---------------------------------------------------------------------------\u001b[0m",
      "\u001b[0;31mTypeError\u001b[0m                                 Traceback (most recent call last)",
      "\u001b[0;31mTypeError\u001b[0m: emptyfunction() takes 0 positional arguments but 1 was given"
     ],
     "output_type": "error"
    },
    {
     "ename": "TypeError",
     "evalue": "emptyfunction() takes 0 positional arguments but 1 was given",
     "traceback": [
      "\u001b[0;31m---------------------------------------------------------------------------\u001b[0m",
      "\u001b[0;31mTypeError\u001b[0m                                 Traceback (most recent call last)",
      "\u001b[0;31mTypeError\u001b[0m: emptyfunction() takes 0 positional arguments but 1 was given"
     ],
     "output_type": "error"
    },
    {
     "ename": "TypeError",
     "evalue": "emptyfunction() takes 0 positional arguments but 1 was given",
     "traceback": [
      "\u001b[0;31m---------------------------------------------------------------------------\u001b[0m",
      "\u001b[0;31mTypeError\u001b[0m                                 Traceback (most recent call last)",
      "\u001b[0;31mTypeError\u001b[0m: emptyfunction() takes 0 positional arguments but 1 was given"
     ],
     "output_type": "error"
    },
    {
     "ename": "TypeError",
     "evalue": "emptyfunction() takes 0 positional arguments but 1 was given",
     "traceback": [
      "\u001b[0;31m---------------------------------------------------------------------------\u001b[0m",
      "\u001b[0;31mTypeError\u001b[0m                                 Traceback (most recent call last)",
      "\u001b[0;31mTypeError\u001b[0m: emptyfunction() takes 0 positional arguments but 1 was given"
     ],
     "output_type": "error"
    },
    {
     "ename": "TypeError",
     "evalue": "emptyfunction() takes 0 positional arguments but 1 was given",
     "traceback": [
      "\u001b[0;31m---------------------------------------------------------------------------\u001b[0m",
      "\u001b[0;31mTypeError\u001b[0m                                 Traceback (most recent call last)",
      "\u001b[0;31mTypeError\u001b[0m: emptyfunction() takes 0 positional arguments but 1 was given"
     ],
     "output_type": "error"
    },
    {
     "ename": "TypeError",
     "evalue": "emptyfunction() takes 0 positional arguments but 1 was given",
     "traceback": [
      "\u001b[0;31m---------------------------------------------------------------------------\u001b[0m",
      "\u001b[0;31mTypeError\u001b[0m                                 Traceback (most recent call last)",
      "\u001b[0;31mTypeError\u001b[0m: emptyfunction() takes 0 positional arguments but 1 was given"
     ],
     "output_type": "error"
    },
    {
     "ename": "TypeError",
     "evalue": "emptyfunction() takes 0 positional arguments but 1 was given",
     "traceback": [
      "\u001b[0;31m---------------------------------------------------------------------------\u001b[0m",
      "\u001b[0;31mTypeError\u001b[0m                                 Traceback (most recent call last)",
      "\u001b[0;31mTypeError\u001b[0m: emptyfunction() takes 0 positional arguments but 1 was given"
     ],
     "output_type": "error"
    },
    {
     "ename": "TypeError",
     "evalue": "emptyfunction() takes 0 positional arguments but 1 was given",
     "traceback": [
      "\u001b[0;31m---------------------------------------------------------------------------\u001b[0m",
      "\u001b[0;31mTypeError\u001b[0m                                 Traceback (most recent call last)",
      "\u001b[0;31mTypeError\u001b[0m: emptyfunction() takes 0 positional arguments but 1 was given"
     ],
     "output_type": "error"
    },
    {
     "ename": "TypeError",
     "evalue": "emptyfunction() takes 0 positional arguments but 1 was given",
     "traceback": [
      "\u001b[0;31m---------------------------------------------------------------------------\u001b[0m",
      "\u001b[0;31mTypeError\u001b[0m                                 Traceback (most recent call last)",
      "\u001b[0;31mTypeError\u001b[0m: emptyfunction() takes 0 positional arguments but 1 was given"
     ],
     "output_type": "error"
    },
    {
     "ename": "TypeError",
     "evalue": "emptyfunction() takes 0 positional arguments but 1 was given",
     "traceback": [
      "\u001b[0;31m---------------------------------------------------------------------------\u001b[0m",
      "\u001b[0;31mTypeError\u001b[0m                                 Traceback (most recent call last)",
      "\u001b[0;31mTypeError\u001b[0m: emptyfunction() takes 0 positional arguments but 1 was given"
     ],
     "output_type": "error"
    },
    {
     "ename": "TypeError",
     "evalue": "emptyfunction() takes 0 positional arguments but 1 was given",
     "traceback": [
      "\u001b[0;31m---------------------------------------------------------------------------\u001b[0m",
      "\u001b[0;31mTypeError\u001b[0m                                 Traceback (most recent call last)",
      "\u001b[0;31mTypeError\u001b[0m: emptyfunction() takes 0 positional arguments but 1 was given"
     ],
     "output_type": "error"
    },
    {
     "ename": "TypeError",
     "evalue": "emptyfunction() takes 0 positional arguments but 1 was given",
     "traceback": [
      "\u001b[0;31m---------------------------------------------------------------------------\u001b[0m",
      "\u001b[0;31mTypeError\u001b[0m                                 Traceback (most recent call last)",
      "\u001b[0;31mTypeError\u001b[0m: emptyfunction() takes 0 positional arguments but 1 was given"
     ],
     "output_type": "error"
    },
    {
     "ename": "TypeError",
     "evalue": "emptyfunction() takes 0 positional arguments but 1 was given",
     "traceback": [
      "\u001b[0;31m---------------------------------------------------------------------------\u001b[0m",
      "\u001b[0;31mTypeError\u001b[0m                                 Traceback (most recent call last)",
      "\u001b[0;31mTypeError\u001b[0m: emptyfunction() takes 0 positional arguments but 1 was given"
     ],
     "output_type": "error"
    },
    {
     "ename": "TypeError",
     "evalue": "emptyfunction() takes 0 positional arguments but 1 was given",
     "traceback": [
      "\u001b[0;31m---------------------------------------------------------------------------\u001b[0m",
      "\u001b[0;31mTypeError\u001b[0m                                 Traceback (most recent call last)",
      "\u001b[0;31mTypeError\u001b[0m: emptyfunction() takes 0 positional arguments but 1 was given"
     ],
     "output_type": "error"
    },
    {
     "ename": "TypeError",
     "evalue": "emptyfunction() takes 0 positional arguments but 1 was given",
     "traceback": [
      "\u001b[0;31m---------------------------------------------------------------------------\u001b[0m",
      "\u001b[0;31mTypeError\u001b[0m                                 Traceback (most recent call last)",
      "\u001b[0;31mTypeError\u001b[0m: emptyfunction() takes 0 positional arguments but 1 was given"
     ],
     "output_type": "error"
    },
    {
     "ename": "TypeError",
     "evalue": "emptyfunction() takes 0 positional arguments but 1 was given",
     "traceback": [
      "\u001b[0;31m---------------------------------------------------------------------------\u001b[0m",
      "\u001b[0;31mTypeError\u001b[0m                                 Traceback (most recent call last)",
      "\u001b[0;31mTypeError\u001b[0m: emptyfunction() takes 0 positional arguments but 1 was given"
     ],
     "output_type": "error"
    },
    {
     "ename": "TypeError",
     "evalue": "emptyfunction() takes 0 positional arguments but 1 was given",
     "traceback": [
      "\u001b[0;31m---------------------------------------------------------------------------\u001b[0m",
      "\u001b[0;31mTypeError\u001b[0m                                 Traceback (most recent call last)",
      "\u001b[0;31mTypeError\u001b[0m: emptyfunction() takes 0 positional arguments but 1 was given"
     ],
     "output_type": "error"
    },
    {
     "ename": "TypeError",
     "evalue": "emptyfunction() takes 0 positional arguments but 1 was given",
     "traceback": [
      "\u001b[0;31m---------------------------------------------------------------------------\u001b[0m",
      "\u001b[0;31mTypeError\u001b[0m                                 Traceback (most recent call last)",
      "\u001b[0;31mTypeError\u001b[0m: emptyfunction() takes 0 positional arguments but 1 was given"
     ],
     "output_type": "error"
    },
    {
     "ename": "TypeError",
     "evalue": "emptyfunction() takes 0 positional arguments but 1 was given",
     "traceback": [
      "\u001b[0;31m---------------------------------------------------------------------------\u001b[0m",
      "\u001b[0;31mTypeError\u001b[0m                                 Traceback (most recent call last)",
      "\u001b[0;31mTypeError\u001b[0m: emptyfunction() takes 0 positional arguments but 1 was given"
     ],
     "output_type": "error"
    },
    {
     "ename": "TypeError",
     "evalue": "emptyfunction() takes 0 positional arguments but 1 was given",
     "traceback": [
      "\u001b[0;31m---------------------------------------------------------------------------\u001b[0m",
      "\u001b[0;31mTypeError\u001b[0m                                 Traceback (most recent call last)",
      "\u001b[0;31mTypeError\u001b[0m: emptyfunction() takes 0 positional arguments but 1 was given"
     ],
     "output_type": "error"
    },
    {
     "ename": "TypeError",
     "evalue": "emptyfunction() takes 0 positional arguments but 1 was given",
     "traceback": [
      "\u001b[0;31m---------------------------------------------------------------------------\u001b[0m",
      "\u001b[0;31mTypeError\u001b[0m                                 Traceback (most recent call last)",
      "\u001b[0;31mTypeError\u001b[0m: emptyfunction() takes 0 positional arguments but 1 was given"
     ],
     "output_type": "error"
    },
    {
     "ename": "TypeError",
     "evalue": "emptyfunction() takes 0 positional arguments but 1 was given",
     "traceback": [
      "\u001b[0;31m---------------------------------------------------------------------------\u001b[0m",
      "\u001b[0;31mTypeError\u001b[0m                                 Traceback (most recent call last)",
      "\u001b[0;31mTypeError\u001b[0m: emptyfunction() takes 0 positional arguments but 1 was given"
     ],
     "output_type": "error"
    },
    {
     "ename": "TypeError",
     "evalue": "emptyfunction() takes 0 positional arguments but 1 was given",
     "traceback": [
      "\u001b[0;31m---------------------------------------------------------------------------\u001b[0m",
      "\u001b[0;31mTypeError\u001b[0m                                 Traceback (most recent call last)",
      "\u001b[0;31mTypeError\u001b[0m: emptyfunction() takes 0 positional arguments but 1 was given"
     ],
     "output_type": "error"
    },
    {
     "ename": "TypeError",
     "evalue": "emptyfunction() takes 0 positional arguments but 1 was given",
     "traceback": [
      "\u001b[0;31m---------------------------------------------------------------------------\u001b[0m",
      "\u001b[0;31mTypeError\u001b[0m                                 Traceback (most recent call last)",
      "\u001b[0;31mTypeError\u001b[0m: emptyfunction() takes 0 positional arguments but 1 was given"
     ],
     "output_type": "error"
    },
    {
     "ename": "TypeError",
     "evalue": "emptyfunction() takes 0 positional arguments but 1 was given",
     "traceback": [
      "\u001b[0;31m---------------------------------------------------------------------------\u001b[0m",
      "\u001b[0;31mTypeError\u001b[0m                                 Traceback (most recent call last)",
      "\u001b[0;31mTypeError\u001b[0m: emptyfunction() takes 0 positional arguments but 1 was given"
     ],
     "output_type": "error"
    },
    {
     "ename": "TypeError",
     "evalue": "emptyfunction() takes 0 positional arguments but 1 was given",
     "traceback": [
      "\u001b[0;31m---------------------------------------------------------------------------\u001b[0m",
      "\u001b[0;31mTypeError\u001b[0m                                 Traceback (most recent call last)",
      "\u001b[0;31mTypeError\u001b[0m: emptyfunction() takes 0 positional arguments but 1 was given"
     ],
     "output_type": "error"
    },
    {
     "ename": "TypeError",
     "evalue": "emptyfunction() takes 0 positional arguments but 1 was given",
     "traceback": [
      "\u001b[0;31m---------------------------------------------------------------------------\u001b[0m",
      "\u001b[0;31mTypeError\u001b[0m                                 Traceback (most recent call last)",
      "\u001b[0;31mTypeError\u001b[0m: emptyfunction() takes 0 positional arguments but 1 was given"
     ],
     "output_type": "error"
    },
    {
     "ename": "TypeError",
     "evalue": "emptyfunction() takes 0 positional arguments but 1 was given",
     "traceback": [
      "\u001b[0;31m---------------------------------------------------------------------------\u001b[0m",
      "\u001b[0;31mTypeError\u001b[0m                                 Traceback (most recent call last)",
      "\u001b[0;31mTypeError\u001b[0m: emptyfunction() takes 0 positional arguments but 1 was given"
     ],
     "output_type": "error"
    },
    {
     "ename": "TypeError",
     "evalue": "emptyfunction() takes 0 positional arguments but 1 was given",
     "traceback": [
      "\u001b[0;31m---------------------------------------------------------------------------\u001b[0m",
      "\u001b[0;31mTypeError\u001b[0m                                 Traceback (most recent call last)",
      "\u001b[0;31mTypeError\u001b[0m: emptyfunction() takes 0 positional arguments but 1 was given"
     ],
     "output_type": "error"
    },
    {
     "ename": "TypeError",
     "evalue": "emptyfunction() takes 0 positional arguments but 1 was given",
     "traceback": [
      "\u001b[0;31m---------------------------------------------------------------------------\u001b[0m",
      "\u001b[0;31mTypeError\u001b[0m                                 Traceback (most recent call last)",
      "\u001b[0;31mTypeError\u001b[0m: emptyfunction() takes 0 positional arguments but 1 was given"
     ],
     "output_type": "error"
    },
    {
     "ename": "TypeError",
     "evalue": "emptyfunction() takes 0 positional arguments but 1 was given",
     "traceback": [
      "\u001b[0;31m---------------------------------------------------------------------------\u001b[0m",
      "\u001b[0;31mTypeError\u001b[0m                                 Traceback (most recent call last)",
      "\u001b[0;31mTypeError\u001b[0m: emptyfunction() takes 0 positional arguments but 1 was given"
     ],
     "output_type": "error"
    },
    {
     "ename": "TypeError",
     "evalue": "emptyfunction() takes 0 positional arguments but 1 was given",
     "traceback": [
      "\u001b[0;31m---------------------------------------------------------------------------\u001b[0m",
      "\u001b[0;31mTypeError\u001b[0m                                 Traceback (most recent call last)",
      "\u001b[0;31mTypeError\u001b[0m: emptyfunction() takes 0 positional arguments but 1 was given"
     ],
     "output_type": "error"
    },
    {
     "ename": "TypeError",
     "evalue": "emptyfunction() takes 0 positional arguments but 1 was given",
     "traceback": [
      "\u001b[0;31m---------------------------------------------------------------------------\u001b[0m",
      "\u001b[0;31mTypeError\u001b[0m                                 Traceback (most recent call last)",
      "\u001b[0;31mTypeError\u001b[0m: emptyfunction() takes 0 positional arguments but 1 was given"
     ],
     "output_type": "error"
    },
    {
     "ename": "TypeError",
     "evalue": "emptyfunction() takes 0 positional arguments but 1 was given",
     "traceback": [
      "\u001b[0;31m---------------------------------------------------------------------------\u001b[0m",
      "\u001b[0;31mTypeError\u001b[0m                                 Traceback (most recent call last)",
      "\u001b[0;31mTypeError\u001b[0m: emptyfunction() takes 0 positional arguments but 1 was given"
     ],
     "output_type": "error"
    },
    {
     "ename": "TypeError",
     "evalue": "emptyfunction() takes 0 positional arguments but 1 was given",
     "traceback": [
      "\u001b[0;31m---------------------------------------------------------------------------\u001b[0m",
      "\u001b[0;31mTypeError\u001b[0m                                 Traceback (most recent call last)",
      "\u001b[0;31mTypeError\u001b[0m: emptyfunction() takes 0 positional arguments but 1 was given"
     ],
     "output_type": "error"
    },
    {
     "ename": "TypeError",
     "evalue": "emptyfunction() takes 0 positional arguments but 1 was given",
     "traceback": [
      "\u001b[0;31m---------------------------------------------------------------------------\u001b[0m",
      "\u001b[0;31mTypeError\u001b[0m                                 Traceback (most recent call last)",
      "\u001b[0;31mTypeError\u001b[0m: emptyfunction() takes 0 positional arguments but 1 was given"
     ],
     "output_type": "error"
    },
    {
     "ename": "TypeError",
     "evalue": "emptyfunction() takes 0 positional arguments but 1 was given",
     "traceback": [
      "\u001b[0;31m---------------------------------------------------------------------------\u001b[0m",
      "\u001b[0;31mTypeError\u001b[0m                                 Traceback (most recent call last)",
      "\u001b[0;31mTypeError\u001b[0m: emptyfunction() takes 0 positional arguments but 1 was given"
     ],
     "output_type": "error"
    },
    {
     "ename": "TypeError",
     "evalue": "emptyfunction() takes 0 positional arguments but 1 was given",
     "traceback": [
      "\u001b[0;31m---------------------------------------------------------------------------\u001b[0m",
      "\u001b[0;31mTypeError\u001b[0m                                 Traceback (most recent call last)",
      "\u001b[0;31mTypeError\u001b[0m: emptyfunction() takes 0 positional arguments but 1 was given"
     ],
     "output_type": "error"
    },
    {
     "ename": "TypeError",
     "evalue": "emptyfunction() takes 0 positional arguments but 1 was given",
     "traceback": [
      "\u001b[0;31m---------------------------------------------------------------------------\u001b[0m",
      "\u001b[0;31mTypeError\u001b[0m                                 Traceback (most recent call last)",
      "\u001b[0;31mTypeError\u001b[0m: emptyfunction() takes 0 positional arguments but 1 was given"
     ],
     "output_type": "error"
    },
    {
     "ename": "TypeError",
     "evalue": "emptyfunction() takes 0 positional arguments but 1 was given",
     "traceback": [
      "\u001b[0;31m---------------------------------------------------------------------------\u001b[0m",
      "\u001b[0;31mTypeError\u001b[0m                                 Traceback (most recent call last)",
      "\u001b[0;31mTypeError\u001b[0m: emptyfunction() takes 0 positional arguments but 1 was given"
     ],
     "output_type": "error"
    },
    {
     "ename": "TypeError",
     "evalue": "emptyfunction() takes 0 positional arguments but 1 was given",
     "traceback": [
      "\u001b[0;31m---------------------------------------------------------------------------\u001b[0m",
      "\u001b[0;31mTypeError\u001b[0m                                 Traceback (most recent call last)",
      "\u001b[0;31mTypeError\u001b[0m: emptyfunction() takes 0 positional arguments but 1 was given"
     ],
     "output_type": "error"
    },
    {
     "ename": "TypeError",
     "evalue": "emptyfunction() takes 0 positional arguments but 1 was given",
     "traceback": [
      "\u001b[0;31m---------------------------------------------------------------------------\u001b[0m",
      "\u001b[0;31mTypeError\u001b[0m                                 Traceback (most recent call last)",
      "\u001b[0;31mTypeError\u001b[0m: emptyfunction() takes 0 positional arguments but 1 was given"
     ],
     "output_type": "error"
    },
    {
     "ename": "TypeError",
     "evalue": "emptyfunction() takes 0 positional arguments but 1 was given",
     "traceback": [
      "\u001b[0;31m---------------------------------------------------------------------------\u001b[0m",
      "\u001b[0;31mTypeError\u001b[0m                                 Traceback (most recent call last)",
      "\u001b[0;31mTypeError\u001b[0m: emptyfunction() takes 0 positional arguments but 1 was given"
     ],
     "output_type": "error"
    },
    {
     "ename": "TypeError",
     "evalue": "emptyfunction() takes 0 positional arguments but 1 was given",
     "traceback": [
      "\u001b[0;31m---------------------------------------------------------------------------\u001b[0m",
      "\u001b[0;31mTypeError\u001b[0m                                 Traceback (most recent call last)",
      "\u001b[0;31mTypeError\u001b[0m: emptyfunction() takes 0 positional arguments but 1 was given"
     ],
     "output_type": "error"
    },
    {
     "ename": "TypeError",
     "evalue": "emptyfunction() takes 0 positional arguments but 1 was given",
     "traceback": [
      "\u001b[0;31m---------------------------------------------------------------------------\u001b[0m",
      "\u001b[0;31mTypeError\u001b[0m                                 Traceback (most recent call last)",
      "\u001b[0;31mTypeError\u001b[0m: emptyfunction() takes 0 positional arguments but 1 was given"
     ],
     "output_type": "error"
    },
    {
     "ename": "TypeError",
     "evalue": "emptyfunction() takes 0 positional arguments but 1 was given",
     "traceback": [
      "\u001b[0;31m---------------------------------------------------------------------------\u001b[0m",
      "\u001b[0;31mTypeError\u001b[0m                                 Traceback (most recent call last)",
      "\u001b[0;31mTypeError\u001b[0m: emptyfunction() takes 0 positional arguments but 1 was given"
     ],
     "output_type": "error"
    },
    {
     "ename": "TypeError",
     "evalue": "emptyfunction() takes 0 positional arguments but 1 was given",
     "traceback": [
      "\u001b[0;31m---------------------------------------------------------------------------\u001b[0m",
      "\u001b[0;31mTypeError\u001b[0m                                 Traceback (most recent call last)",
      "\u001b[0;31mTypeError\u001b[0m: emptyfunction() takes 0 positional arguments but 1 was given"
     ],
     "output_type": "error"
    },
    {
     "ename": "TypeError",
     "evalue": "emptyfunction() takes 0 positional arguments but 1 was given",
     "traceback": [
      "\u001b[0;31m---------------------------------------------------------------------------\u001b[0m",
      "\u001b[0;31mTypeError\u001b[0m                                 Traceback (most recent call last)",
      "\u001b[0;31mTypeError\u001b[0m: emptyfunction() takes 0 positional arguments but 1 was given"
     ],
     "output_type": "error"
    },
    {
     "ename": "TypeError",
     "evalue": "emptyfunction() takes 0 positional arguments but 1 was given",
     "traceback": [
      "\u001b[0;31m---------------------------------------------------------------------------\u001b[0m",
      "\u001b[0;31mTypeError\u001b[0m                                 Traceback (most recent call last)",
      "\u001b[0;31mTypeError\u001b[0m: emptyfunction() takes 0 positional arguments but 1 was given"
     ],
     "output_type": "error"
    },
    {
     "ename": "TypeError",
     "evalue": "emptyfunction() takes 0 positional arguments but 1 was given",
     "traceback": [
      "\u001b[0;31m---------------------------------------------------------------------------\u001b[0m",
      "\u001b[0;31mTypeError\u001b[0m                                 Traceback (most recent call last)",
      "\u001b[0;31mTypeError\u001b[0m: emptyfunction() takes 0 positional arguments but 1 was given"
     ],
     "output_type": "error"
    },
    {
     "ename": "TypeError",
     "evalue": "emptyfunction() takes 0 positional arguments but 1 was given",
     "traceback": [
      "\u001b[0;31m---------------------------------------------------------------------------\u001b[0m",
      "\u001b[0;31mTypeError\u001b[0m                                 Traceback (most recent call last)",
      "\u001b[0;31mTypeError\u001b[0m: emptyfunction() takes 0 positional arguments but 1 was given"
     ],
     "output_type": "error"
    },
    {
     "ename": "TypeError",
     "evalue": "emptyfunction() takes 0 positional arguments but 1 was given",
     "traceback": [
      "\u001b[0;31m---------------------------------------------------------------------------\u001b[0m",
      "\u001b[0;31mTypeError\u001b[0m                                 Traceback (most recent call last)",
      "\u001b[0;31mTypeError\u001b[0m: emptyfunction() takes 0 positional arguments but 1 was given"
     ],
     "output_type": "error"
    },
    {
     "ename": "TypeError",
     "evalue": "emptyfunction() takes 0 positional arguments but 1 was given",
     "traceback": [
      "\u001b[0;31m---------------------------------------------------------------------------\u001b[0m",
      "\u001b[0;31mTypeError\u001b[0m                                 Traceback (most recent call last)",
      "\u001b[0;31mTypeError\u001b[0m: emptyfunction() takes 0 positional arguments but 1 was given"
     ],
     "output_type": "error"
    },
    {
     "ename": "TypeError",
     "evalue": "emptyfunction() takes 0 positional arguments but 1 was given",
     "traceback": [
      "\u001b[0;31m---------------------------------------------------------------------------\u001b[0m",
      "\u001b[0;31mTypeError\u001b[0m                                 Traceback (most recent call last)",
      "\u001b[0;31mTypeError\u001b[0m: emptyfunction() takes 0 positional arguments but 1 was given"
     ],
     "output_type": "error"
    },
    {
     "ename": "TypeError",
     "evalue": "emptyfunction() takes 0 positional arguments but 1 was given",
     "traceback": [
      "\u001b[0;31m---------------------------------------------------------------------------\u001b[0m",
      "\u001b[0;31mTypeError\u001b[0m                                 Traceback (most recent call last)",
      "\u001b[0;31mTypeError\u001b[0m: emptyfunction() takes 0 positional arguments but 1 was given"
     ],
     "output_type": "error"
    },
    {
     "ename": "TypeError",
     "evalue": "emptyfunction() takes 0 positional arguments but 1 was given",
     "traceback": [
      "\u001b[0;31m---------------------------------------------------------------------------\u001b[0m",
      "\u001b[0;31mTypeError\u001b[0m                                 Traceback (most recent call last)",
      "\u001b[0;31mTypeError\u001b[0m: emptyfunction() takes 0 positional arguments but 1 was given"
     ],
     "output_type": "error"
    },
    {
     "ename": "TypeError",
     "evalue": "emptyfunction() takes 0 positional arguments but 1 was given",
     "traceback": [
      "\u001b[0;31m---------------------------------------------------------------------------\u001b[0m",
      "\u001b[0;31mTypeError\u001b[0m                                 Traceback (most recent call last)",
      "\u001b[0;31mTypeError\u001b[0m: emptyfunction() takes 0 positional arguments but 1 was given"
     ],
     "output_type": "error"
    },
    {
     "ename": "TypeError",
     "evalue": "emptyfunction() takes 0 positional arguments but 1 was given",
     "traceback": [
      "\u001b[0;31m---------------------------------------------------------------------------\u001b[0m",
      "\u001b[0;31mTypeError\u001b[0m                                 Traceback (most recent call last)",
      "\u001b[0;31mTypeError\u001b[0m: emptyfunction() takes 0 positional arguments but 1 was given"
     ],
     "output_type": "error"
    }
   ],
   "source": [
    "import cv2\n",
    "import  numpy as np\n",
    "\n",
    "def emptyfunction():\n",
    "    pass\n",
    "img1=np.zeros((512,512,3),np.uint8)\n",
    "cv2.namedWindow(\"IMAGE\")\n",
    "\n",
    "\n",
    "cv2.createTrackbar('B','IMAGE',0,255,emptyfunction)\n",
    "cv2.createTrackbar('G','IMAGE',0,255,emptyfunction)\n",
    "cv2.createTrackbar('R','IMAGE',0,255,emptyfunction)\n",
    "\n",
    "while(True):\n",
    "    cv2.imshow('IMAGE',img1)\n",
    "    if(cv2.waitKey(1)==27):\n",
    "        break\n",
    "    blue=cv2.getTrackbarPos('B','IMAGE') \n",
    "    green=cv2.getTrackbarPos('G','IMAGE') \n",
    "    red=cv2.getTrackbarPos('R','IMAGE')\n",
    "    img1[:]=[blue,green,red]\n",
    "cv2.destroyAllWindows()\n",
    "\n"
   ]
  },
  {
   "cell_type": "code",
   "execution_count": 1,
   "metadata": {},
   "outputs": [],
   "source": []
  },
  {
   "cell_type": "code",
   "execution_count": 1,
   "metadata": {},
   "outputs": [],
   "source": []
  },
  {
   "cell_type": "code",
   "execution_count": null,
   "metadata": {},
   "outputs": [],
   "source": []
  }
 ],
 "metadata": {
  "kernelspec": {
   "display_name": "Python 2",
   "language": "python",
   "name": "python2"
  },
  "language_info": {
   "codemirror_mode": {
    "name": "ipython",
    "version": 2
   },
   "file_extension": ".py",
   "mimetype": "text/x-python",
   "name": "python",
   "nbconvert_exporter": "python",
   "pygments_lexer": "ipython2",
   "version": "2.7.6"
  }
 },
 "nbformat": 4,
 "nbformat_minor": 0
}
