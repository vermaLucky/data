{
 "cells": [
  {
   "cell_type": "code",
   "execution_count": 1,
   "metadata": {
    "collapsed": true
   },
   "outputs": [
    {
     "name": "stdout",
     "output_type": "stream",
     "text": [
      "<class 'numpy.ndarray'>\nuint8\n(168, 300, 3)\n3\n151200\n"
     ]
    }
   ],
   "source": [
    "import cv2 as cv\n",
    "import numpy as np\n",
    "\n",
    "img1 = cv.imread('/home/lucky/Downloads/p1.jpeg')\n",
    "print(type(img1))\n",
    "print(img1.dtype)#it give uint8 which send for unsigned integer of 8 bit\n",
    "#which means it can have a min value 00000000 and max value 11111111\n",
    "#its range is from 0-255\n",
    "print(img1.shape)\n",
    "print(img1.ndim)\n",
    "print(img1.size)"
   ]
  },
  {
   "cell_type": "code",
   "execution_count": 2,
   "metadata": {},
   "outputs": [
    {
     "name": "stdout",
     "output_type": "stream",
     "text": [
      "<class 'numpy.ndarray'>\nuint8\n(168, 300)\n2\n50400\n"
     ]
    }
   ],
   "source": [
    "import cv2 as cv\n",
    "import numpy as np\n",
    "\n",
    "img1 = cv.imread('/home/lucky/Downloads/p1.jpeg')\n",
    "gray=cv.cvtColor(img1,cv.COLOR_BGR2GRAY)\n",
    "print(type(img1))\n",
    "print(gray.dtype)#it give uint8 which send for unsigned integer of 8 bit\n",
    "#which means it can have a min value 00000000 and max value 11111111\n",
    "#its range is from 0-255\n",
    "print(gray.shape)\n",
    "print(gray.ndim)\n",
    "print(gray.size)"
   ]
  },
  {
   "cell_type": "code",
   "execution_count": 8,
   "metadata": {},
   "outputs": [],
   "source": [
    "import cv2 as cv\n",
    "import numpy as np\n",
    "img1=np.zeros((1255,255,3),np.uint8)\n",
    "cv.line(img1,(0,0),(350,350),(255,0,0),5)\n",
    "cv.rectangle(img1,(20,60),(110,150),(0,255,0),15)\n",
    "cv.circle(img1,(100,100),20,(255,255,255),-2)\n",
    "cv.imshow('res',img1)\n",
    "cv.waitKey(0)\n",
    "cv.destroyAllWindows()"
   ]
  },
  {
   "cell_type": "code",
   "execution_count": 2,
   "metadata": {},
   "outputs": [
    {
     "ename": "TypeError",
     "evalue": "emptyfunction() takes 0 positional arguments but 1 was given",
     "traceback": [
      "\u001b[0;31m---------------------------------------------------------------------------\u001b[0m",
      "\u001b[0;31mTypeError\u001b[0m                                 Traceback (most recent call last)",
      "\u001b[0;31mTypeError\u001b[0m: emptyfunction() takes 0 positional arguments but 1 was given"
     ],
     "output_type": "error"
    },
    {
     "ename": "TypeError",
     "evalue": "emptyfunction() takes 0 positional arguments but 1 was given",
     "traceback": [
      "\u001b[0;31m---------------------------------------------------------------------------\u001b[0m",
      "\u001b[0;31mTypeError\u001b[0m                                 Traceback (most recent call last)",
      "\u001b[0;31mTypeError\u001b[0m: emptyfunction() takes 0 positional arguments but 1 was given"
     ],
     "output_type": "error"
    },
    {
     "ename": "TypeError",
     "evalue": "emptyfunction() takes 0 positional arguments but 1 was given",
     "traceback": [
      "\u001b[0;31m---------------------------------------------------------------------------\u001b[0m",
      "\u001b[0;31mTypeError\u001b[0m                                 Traceback (most recent call last)",
      "\u001b[0;31mTypeError\u001b[0m: emptyfunction() takes 0 positional arguments but 1 was given"
     ],
     "output_type": "error"
    },
    {
     "ename": "TypeError",
     "evalue": "emptyfunction() takes 0 positional arguments but 1 was given",
     "traceback": [
      "\u001b[0;31m---------------------------------------------------------------------------\u001b[0m",
      "\u001b[0;31mTypeError\u001b[0m                                 Traceback (most recent call last)",
      "\u001b[0;31mTypeError\u001b[0m: emptyfunction() takes 0 positional arguments but 1 was given"
     ],
     "output_type": "error"
    },
    {
     "ename": "TypeError",
     "evalue": "emptyfunction() takes 0 positional arguments but 1 was given",
     "traceback": [
      "\u001b[0;31m---------------------------------------------------------------------------\u001b[0m",
      "\u001b[0;31mTypeError\u001b[0m                                 Traceback (most recent call last)",
      "\u001b[0;31mTypeError\u001b[0m: emptyfunction() takes 0 positional arguments but 1 was given"
     ],
     "output_type": "error"
    },
    {
     "ename": "TypeError",
     "evalue": "emptyfunction() takes 0 positional arguments but 1 was given",
     "traceback": [
      "\u001b[0;31m---------------------------------------------------------------------------\u001b[0m",
      "\u001b[0;31mTypeError\u001b[0m                                 Traceback (most recent call last)",
      "\u001b[0;31mTypeError\u001b[0m: emptyfunction() takes 0 positional arguments but 1 was given"
     ],
     "output_type": "error"
    },
    {
     "ename": "TypeError",
     "evalue": "emptyfunction() takes 0 positional arguments but 1 was given",
     "traceback": [
      "\u001b[0;31m---------------------------------------------------------------------------\u001b[0m",
      "\u001b[0;31mTypeError\u001b[0m                                 Traceback (most recent call last)",
      "\u001b[0;31mTypeError\u001b[0m: emptyfunction() takes 0 positional arguments but 1 was given"
     ],
     "output_type": "error"
    },
    {
     "ename": "TypeError",
     "evalue": "emptyfunction() takes 0 positional arguments but 1 was given",
     "traceback": [
      "\u001b[0;31m---------------------------------------------------------------------------\u001b[0m",
      "\u001b[0;31mTypeError\u001b[0m                                 Traceback (most recent call last)",
      "\u001b[0;31mTypeError\u001b[0m: emptyfunction() takes 0 positional arguments but 1 was given"
     ],
     "output_type": "error"
    },
    {
     "ename": "TypeError",
     "evalue": "emptyfunction() takes 0 positional arguments but 1 was given",
     "traceback": [
      "\u001b[0;31m---------------------------------------------------------------------------\u001b[0m",
      "\u001b[0;31mTypeError\u001b[0m                                 Traceback (most recent call last)",
      "\u001b[0;31mTypeError\u001b[0m: emptyfunction() takes 0 positional arguments but 1 was given"
     ],
     "output_type": "error"
    },
    {
     "ename": "TypeError",
     "evalue": "emptyfunction() takes 0 positional arguments but 1 was given",
     "traceback": [
      "\u001b[0;31m---------------------------------------------------------------------------\u001b[0m",
      "\u001b[0;31mTypeError\u001b[0m                                 Traceback (most recent call last)",
      "\u001b[0;31mTypeError\u001b[0m: emptyfunction() takes 0 positional arguments but 1 was given"
     ],
     "output_type": "error"
    },
    {
     "ename": "TypeError",
     "evalue": "emptyfunction() takes 0 positional arguments but 1 was given",
     "traceback": [
      "\u001b[0;31m---------------------------------------------------------------------------\u001b[0m",
      "\u001b[0;31mTypeError\u001b[0m                                 Traceback (most recent call last)",
      "\u001b[0;31mTypeError\u001b[0m: emptyfunction() takes 0 positional arguments but 1 was given"
     ],
     "output_type": "error"
    },
    {
     "ename": "TypeError",
     "evalue": "emptyfunction() takes 0 positional arguments but 1 was given",
     "traceback": [
      "\u001b[0;31m---------------------------------------------------------------------------\u001b[0m",
      "\u001b[0;31mTypeError\u001b[0m                                 Traceback (most recent call last)",
      "\u001b[0;31mTypeError\u001b[0m: emptyfunction() takes 0 positional arguments but 1 was given"
     ],
     "output_type": "error"
    },
    {
     "ename": "TypeError",
     "evalue": "emptyfunction() takes 0 positional arguments but 1 was given",
     "traceback": [
      "\u001b[0;31m---------------------------------------------------------------------------\u001b[0m",
      "\u001b[0;31mTypeError\u001b[0m                                 Traceback (most recent call last)",
      "\u001b[0;31mTypeError\u001b[0m: emptyfunction() takes 0 positional arguments but 1 was given"
     ],
     "output_type": "error"
    },
    {
     "ename": "TypeError",
     "evalue": "emptyfunction() takes 0 positional arguments but 1 was given",
     "traceback": [
      "\u001b[0;31m---------------------------------------------------------------------------\u001b[0m",
      "\u001b[0;31mTypeError\u001b[0m                                 Traceback (most recent call last)",
      "\u001b[0;31mTypeError\u001b[0m: emptyfunction() takes 0 positional arguments but 1 was given"
     ],
     "output_type": "error"
    },
    {
     "ename": "TypeError",
     "evalue": "emptyfunction() takes 0 positional arguments but 1 was given",
     "traceback": [
      "\u001b[0;31m---------------------------------------------------------------------------\u001b[0m",
      "\u001b[0;31mTypeError\u001b[0m                                 Traceback (most recent call last)",
      "\u001b[0;31mTypeError\u001b[0m: emptyfunction() takes 0 positional arguments but 1 was given"
     ],
     "output_type": "error"
    },
    {
     "ename": "TypeError",
     "evalue": "emptyfunction() takes 0 positional arguments but 1 was given",
     "traceback": [
      "\u001b[0;31m---------------------------------------------------------------------------\u001b[0m",
      "\u001b[0;31mTypeError\u001b[0m                                 Traceback (most recent call last)",
      "\u001b[0;31mTypeError\u001b[0m: emptyfunction() takes 0 positional arguments but 1 was given"
     ],
     "output_type": "error"
    },
    {
     "ename": "TypeError",
     "evalue": "emptyfunction() takes 0 positional arguments but 1 was given",
     "traceback": [
      "\u001b[0;31m---------------------------------------------------------------------------\u001b[0m",
      "\u001b[0;31mTypeError\u001b[0m                                 Traceback (most recent call last)",
      "\u001b[0;31mTypeError\u001b[0m: emptyfunction() takes 0 positional arguments but 1 was given"
     ],
     "output_type": "error"
    },
    {
     "ename": "TypeError",
     "evalue": "emptyfunction() takes 0 positional arguments but 1 was given",
     "traceback": [
      "\u001b[0;31m---------------------------------------------------------------------------\u001b[0m",
      "\u001b[0;31mTypeError\u001b[0m                                 Traceback (most recent call last)",
      "\u001b[0;31mTypeError\u001b[0m: emptyfunction() takes 0 positional arguments but 1 was given"
     ],
     "output_type": "error"
    },
    {
     "ename": "TypeError",
     "evalue": "emptyfunction() takes 0 positional arguments but 1 was given",
     "traceback": [
      "\u001b[0;31m---------------------------------------------------------------------------\u001b[0m",
      "\u001b[0;31mTypeError\u001b[0m                                 Traceback (most recent call last)",
      "\u001b[0;31mTypeError\u001b[0m: emptyfunction() takes 0 positional arguments but 1 was given"
     ],
     "output_type": "error"
    },
    {
     "ename": "TypeError",
     "evalue": "emptyfunction() takes 0 positional arguments but 1 was given",
     "traceback": [
      "\u001b[0;31m---------------------------------------------------------------------------\u001b[0m",
      "\u001b[0;31mTypeError\u001b[0m                                 Traceback (most recent call last)",
      "\u001b[0;31mTypeError\u001b[0m: emptyfunction() takes 0 positional arguments but 1 was given"
     ],
     "output_type": "error"
    },
    {
     "ename": "TypeError",
     "evalue": "emptyfunction() takes 0 positional arguments but 1 was given",
     "traceback": [
      "\u001b[0;31m---------------------------------------------------------------------------\u001b[0m",
      "\u001b[0;31mTypeError\u001b[0m                                 Traceback (most recent call last)",
      "\u001b[0;31mTypeError\u001b[0m: emptyfunction() takes 0 positional arguments but 1 was given"
     ],
     "output_type": "error"
    },
    {
     "ename": "TypeError",
     "evalue": "emptyfunction() takes 0 positional arguments but 1 was given",
     "traceback": [
      "\u001b[0;31m---------------------------------------------------------------------------\u001b[0m",
      "\u001b[0;31mTypeError\u001b[0m                                 Traceback (most recent call last)",
      "\u001b[0;31mTypeError\u001b[0m: emptyfunction() takes 0 positional arguments but 1 was given"
     ],
     "output_type": "error"
    },
    {
     "ename": "TypeError",
     "evalue": "emptyfunction() takes 0 positional arguments but 1 was given",
     "traceback": [
      "\u001b[0;31m---------------------------------------------------------------------------\u001b[0m",
      "\u001b[0;31mTypeError\u001b[0m                                 Traceback (most recent call last)",
      "\u001b[0;31mTypeError\u001b[0m: emptyfunction() takes 0 positional arguments but 1 was given"
     ],
     "output_type": "error"
    },
    {
     "ename": "TypeError",
     "evalue": "emptyfunction() takes 0 positional arguments but 1 was given",
     "traceback": [
      "\u001b[0;31m---------------------------------------------------------------------------\u001b[0m",
      "\u001b[0;31mTypeError\u001b[0m                                 Traceback (most recent call last)",
      "\u001b[0;31mTypeError\u001b[0m: emptyfunction() takes 0 positional arguments but 1 was given"
     ],
     "output_type": "error"
    },
    {
     "ename": "TypeError",
     "evalue": "emptyfunction() takes 0 positional arguments but 1 was given",
     "traceback": [
      "\u001b[0;31m---------------------------------------------------------------------------\u001b[0m",
      "\u001b[0;31mTypeError\u001b[0m                                 Traceback (most recent call last)",
      "\u001b[0;31mTypeError\u001b[0m: emptyfunction() takes 0 positional arguments but 1 was given"
     ],
     "output_type": "error"
    },
    {
     "ename": "TypeError",
     "evalue": "emptyfunction() takes 0 positional arguments but 1 was given",
     "traceback": [
      "\u001b[0;31m---------------------------------------------------------------------------\u001b[0m",
      "\u001b[0;31mTypeError\u001b[0m                                 Traceback (most recent call last)",
      "\u001b[0;31mTypeError\u001b[0m: emptyfunction() takes 0 positional arguments but 1 was given"
     ],
     "output_type": "error"
    },
    {
     "ename": "TypeError",
     "evalue": "emptyfunction() takes 0 positional arguments but 1 was given",
     "traceback": [
      "\u001b[0;31m---------------------------------------------------------------------------\u001b[0m",
      "\u001b[0;31mTypeError\u001b[0m                                 Traceback (most recent call last)",
      "\u001b[0;31mTypeError\u001b[0m: emptyfunction() takes 0 positional arguments but 1 was given"
     ],
     "output_type": "error"
    },
    {
     "ename": "TypeError",
     "evalue": "emptyfunction() takes 0 positional arguments but 1 was given",
     "traceback": [
      "\u001b[0;31m---------------------------------------------------------------------------\u001b[0m",
      "\u001b[0;31mTypeError\u001b[0m                                 Traceback (most recent call last)",
      "\u001b[0;31mTypeError\u001b[0m: emptyfunction() takes 0 positional arguments but 1 was given"
     ],
     "output_type": "error"
    },
    {
     "ename": "TypeError",
     "evalue": "emptyfunction() takes 0 positional arguments but 1 was given",
     "traceback": [
      "\u001b[0;31m---------------------------------------------------------------------------\u001b[0m",
      "\u001b[0;31mTypeError\u001b[0m                                 Traceback (most recent call last)",
      "\u001b[0;31mTypeError\u001b[0m: emptyfunction() takes 0 positional arguments but 1 was given"
     ],
     "output_type": "error"
    },
    {
     "ename": "TypeError",
     "evalue": "emptyfunction() takes 0 positional arguments but 1 was given",
     "traceback": [
      "\u001b[0;31m---------------------------------------------------------------------------\u001b[0m",
      "\u001b[0;31mTypeError\u001b[0m                                 Traceback (most recent call last)",
      "\u001b[0;31mTypeError\u001b[0m: emptyfunction() takes 0 positional arguments but 1 was given"
     ],
     "output_type": "error"
    },
    {
     "ename": "TypeError",
     "evalue": "emptyfunction() takes 0 positional arguments but 1 was given",
     "traceback": [
      "\u001b[0;31m---------------------------------------------------------------------------\u001b[0m",
      "\u001b[0;31mTypeError\u001b[0m                                 Traceback (most recent call last)",
      "\u001b[0;31mTypeError\u001b[0m: emptyfunction() takes 0 positional arguments but 1 was given"
     ],
     "output_type": "error"
    },
    {
     "ename": "TypeError",
     "evalue": "emptyfunction() takes 0 positional arguments but 1 was given",
     "traceback": [
      "\u001b[0;31m---------------------------------------------------------------------------\u001b[0m",
      "\u001b[0;31mTypeError\u001b[0m                                 Traceback (most recent call last)",
      "\u001b[0;31mTypeError\u001b[0m: emptyfunction() takes 0 positional arguments but 1 was given"
     ],
     "output_type": "error"
    },
    {
     "ename": "TypeError",
     "evalue": "emptyfunction() takes 0 positional arguments but 1 was given",
     "traceback": [
      "\u001b[0;31m---------------------------------------------------------------------------\u001b[0m",
      "\u001b[0;31mTypeError\u001b[0m                                 Traceback (most recent call last)",
      "\u001b[0;31mTypeError\u001b[0m: emptyfunction() takes 0 positional arguments but 1 was given"
     ],
     "output_type": "error"
    },
    {
     "ename": "TypeError",
     "evalue": "emptyfunction() takes 0 positional arguments but 1 was given",
     "traceback": [
      "\u001b[0;31m---------------------------------------------------------------------------\u001b[0m",
      "\u001b[0;31mTypeError\u001b[0m                                 Traceback (most recent call last)",
      "\u001b[0;31mTypeError\u001b[0m: emptyfunction() takes 0 positional arguments but 1 was given"
     ],
     "output_type": "error"
    },
    {
     "ename": "TypeError",
     "evalue": "emptyfunction() takes 0 positional arguments but 1 was given",
     "traceback": [
      "\u001b[0;31m---------------------------------------------------------------------------\u001b[0m",
      "\u001b[0;31mTypeError\u001b[0m                                 Traceback (most recent call last)",
      "\u001b[0;31mTypeError\u001b[0m: emptyfunction() takes 0 positional arguments but 1 was given"
     ],
     "output_type": "error"
    },
    {
     "ename": "TypeError",
     "evalue": "emptyfunction() takes 0 positional arguments but 1 was given",
     "traceback": [
      "\u001b[0;31m---------------------------------------------------------------------------\u001b[0m",
      "\u001b[0;31mTypeError\u001b[0m                                 Traceback (most recent call last)",
      "\u001b[0;31mTypeError\u001b[0m: emptyfunction() takes 0 positional arguments but 1 was given"
     ],
     "output_type": "error"
    },
    {
     "ename": "TypeError",
     "evalue": "emptyfunction() takes 0 positional arguments but 1 was given",
     "traceback": [
      "\u001b[0;31m---------------------------------------------------------------------------\u001b[0m",
      "\u001b[0;31mTypeError\u001b[0m                                 Traceback (most recent call last)",
      "\u001b[0;31mTypeError\u001b[0m: emptyfunction() takes 0 positional arguments but 1 was given"
     ],
     "output_type": "error"
    },
    {
     "ename": "TypeError",
     "evalue": "emptyfunction() takes 0 positional arguments but 1 was given",
     "traceback": [
      "\u001b[0;31m---------------------------------------------------------------------------\u001b[0m",
      "\u001b[0;31mTypeError\u001b[0m                                 Traceback (most recent call last)",
      "\u001b[0;31mTypeError\u001b[0m: emptyfunction() takes 0 positional arguments but 1 was given"
     ],
     "output_type": "error"
    },
    {
     "ename": "TypeError",
     "evalue": "emptyfunction() takes 0 positional arguments but 1 was given",
     "traceback": [
      "\u001b[0;31m---------------------------------------------------------------------------\u001b[0m",
      "\u001b[0;31mTypeError\u001b[0m                                 Traceback (most recent call last)",
      "\u001b[0;31mTypeError\u001b[0m: emptyfunction() takes 0 positional arguments but 1 was given"
     ],
     "output_type": "error"
    },
    {
     "ename": "TypeError",
     "evalue": "emptyfunction() takes 0 positional arguments but 1 was given",
     "traceback": [
      "\u001b[0;31m---------------------------------------------------------------------------\u001b[0m",
      "\u001b[0;31mTypeError\u001b[0m                                 Traceback (most recent call last)",
      "\u001b[0;31mTypeError\u001b[0m: emptyfunction() takes 0 positional arguments but 1 was given"
     ],
     "output_type": "error"
    },
    {
     "ename": "TypeError",
     "evalue": "emptyfunction() takes 0 positional arguments but 1 was given",
     "traceback": [
      "\u001b[0;31m---------------------------------------------------------------------------\u001b[0m",
      "\u001b[0;31mTypeError\u001b[0m                                 Traceback (most recent call last)",
      "\u001b[0;31mTypeError\u001b[0m: emptyfunction() takes 0 positional arguments but 1 was given"
     ],
     "output_type": "error"
    },
    {
     "ename": "TypeError",
     "evalue": "emptyfunction() takes 0 positional arguments but 1 was given",
     "traceback": [
      "\u001b[0;31m---------------------------------------------------------------------------\u001b[0m",
      "\u001b[0;31mTypeError\u001b[0m                                 Traceback (most recent call last)",
      "\u001b[0;31mTypeError\u001b[0m: emptyfunction() takes 0 positional arguments but 1 was given"
     ],
     "output_type": "error"
    },
    {
     "ename": "TypeError",
     "evalue": "emptyfunction() takes 0 positional arguments but 1 was given",
     "traceback": [
      "\u001b[0;31m---------------------------------------------------------------------------\u001b[0m",
      "\u001b[0;31mTypeError\u001b[0m                                 Traceback (most recent call last)",
      "\u001b[0;31mTypeError\u001b[0m: emptyfunction() takes 0 positional arguments but 1 was given"
     ],
     "output_type": "error"
    },
    {
     "ename": "TypeError",
     "evalue": "emptyfunction() takes 0 positional arguments but 1 was given",
     "traceback": [
      "\u001b[0;31m---------------------------------------------------------------------------\u001b[0m",
      "\u001b[0;31mTypeError\u001b[0m                                 Traceback (most recent call last)",
      "\u001b[0;31mTypeError\u001b[0m: emptyfunction() takes 0 positional arguments but 1 was given"
     ],
     "output_type": "error"
    },
    {
     "ename": "TypeError",
     "evalue": "emptyfunction() takes 0 positional arguments but 1 was given",
     "traceback": [
      "\u001b[0;31m---------------------------------------------------------------------------\u001b[0m",
      "\u001b[0;31mTypeError\u001b[0m                                 Traceback (most recent call last)",
      "\u001b[0;31mTypeError\u001b[0m: emptyfunction() takes 0 positional arguments but 1 was given"
     ],
     "output_type": "error"
    },
    {
     "ename": "TypeError",
     "evalue": "emptyfunction() takes 0 positional arguments but 1 was given",
     "traceback": [
      "\u001b[0;31m---------------------------------------------------------------------------\u001b[0m",
      "\u001b[0;31mTypeError\u001b[0m                                 Traceback (most recent call last)",
      "\u001b[0;31mTypeError\u001b[0m: emptyfunction() takes 0 positional arguments but 1 was given"
     ],
     "output_type": "error"
    },
    {
     "ename": "TypeError",
     "evalue": "emptyfunction() takes 0 positional arguments but 1 was given",
     "traceback": [
      "\u001b[0;31m---------------------------------------------------------------------------\u001b[0m",
      "\u001b[0;31mTypeError\u001b[0m                                 Traceback (most recent call last)",
      "\u001b[0;31mTypeError\u001b[0m: emptyfunction() takes 0 positional arguments but 1 was given"
     ],
     "output_type": "error"
    },
    {
     "ename": "TypeError",
     "evalue": "emptyfunction() takes 0 positional arguments but 1 was given",
     "traceback": [
      "\u001b[0;31m---------------------------------------------------------------------------\u001b[0m",
      "\u001b[0;31mTypeError\u001b[0m                                 Traceback (most recent call last)",
      "\u001b[0;31mTypeError\u001b[0m: emptyfunction() takes 0 positional arguments but 1 was given"
     ],
     "output_type": "error"
    },
    {
     "ename": "TypeError",
     "evalue": "emptyfunction() takes 0 positional arguments but 1 was given",
     "traceback": [
      "\u001b[0;31m---------------------------------------------------------------------------\u001b[0m",
      "\u001b[0;31mTypeError\u001b[0m                                 Traceback (most recent call last)",
      "\u001b[0;31mTypeError\u001b[0m: emptyfunction() takes 0 positional arguments but 1 was given"
     ],
     "output_type": "error"
    },
    {
     "ename": "TypeError",
     "evalue": "emptyfunction() takes 0 positional arguments but 1 was given",
     "traceback": [
      "\u001b[0;31m---------------------------------------------------------------------------\u001b[0m",
      "\u001b[0;31mTypeError\u001b[0m                                 Traceback (most recent call last)",
      "\u001b[0;31mTypeError\u001b[0m: emptyfunction() takes 0 positional arguments but 1 was given"
     ],
     "output_type": "error"
    },
    {
     "ename": "TypeError",
     "evalue": "emptyfunction() takes 0 positional arguments but 1 was given",
     "traceback": [
      "\u001b[0;31m---------------------------------------------------------------------------\u001b[0m",
      "\u001b[0;31mTypeError\u001b[0m                                 Traceback (most recent call last)",
      "\u001b[0;31mTypeError\u001b[0m: emptyfunction() takes 0 positional arguments but 1 was given"
     ],
     "output_type": "error"
    },
    {
     "ename": "TypeError",
     "evalue": "emptyfunction() takes 0 positional arguments but 1 was given",
     "traceback": [
      "\u001b[0;31m---------------------------------------------------------------------------\u001b[0m",
      "\u001b[0;31mTypeError\u001b[0m                                 Traceback (most recent call last)",
      "\u001b[0;31mTypeError\u001b[0m: emptyfunction() takes 0 positional arguments but 1 was given"
     ],
     "output_type": "error"
    },
    {
     "ename": "TypeError",
     "evalue": "emptyfunction() takes 0 positional arguments but 1 was given",
     "traceback": [
      "\u001b[0;31m---------------------------------------------------------------------------\u001b[0m",
      "\u001b[0;31mTypeError\u001b[0m                                 Traceback (most recent call last)",
      "\u001b[0;31mTypeError\u001b[0m: emptyfunction() takes 0 positional arguments but 1 was given"
     ],
     "output_type": "error"
    },
    {
     "ename": "TypeError",
     "evalue": "emptyfunction() takes 0 positional arguments but 1 was given",
     "traceback": [
      "\u001b[0;31m---------------------------------------------------------------------------\u001b[0m",
      "\u001b[0;31mTypeError\u001b[0m                                 Traceback (most recent call last)",
      "\u001b[0;31mTypeError\u001b[0m: emptyfunction() takes 0 positional arguments but 1 was given"
     ],
     "output_type": "error"
    },
    {
     "ename": "TypeError",
     "evalue": "emptyfunction() takes 0 positional arguments but 1 was given",
     "traceback": [
      "\u001b[0;31m---------------------------------------------------------------------------\u001b[0m",
      "\u001b[0;31mTypeError\u001b[0m                                 Traceback (most recent call last)",
      "\u001b[0;31mTypeError\u001b[0m: emptyfunction() takes 0 positional arguments but 1 was given"
     ],
     "output_type": "error"
    },
    {
     "ename": "TypeError",
     "evalue": "emptyfunction() takes 0 positional arguments but 1 was given",
     "traceback": [
      "\u001b[0;31m---------------------------------------------------------------------------\u001b[0m",
      "\u001b[0;31mTypeError\u001b[0m                                 Traceback (most recent call last)",
      "\u001b[0;31mTypeError\u001b[0m: emptyfunction() takes 0 positional arguments but 1 was given"
     ],
     "output_type": "error"
    },
    {
     "ename": "TypeError",
     "evalue": "emptyfunction() takes 0 positional arguments but 1 was given",
     "traceback": [
      "\u001b[0;31m---------------------------------------------------------------------------\u001b[0m",
      "\u001b[0;31mTypeError\u001b[0m                                 Traceback (most recent call last)",
      "\u001b[0;31mTypeError\u001b[0m: emptyfunction() takes 0 positional arguments but 1 was given"
     ],
     "output_type": "error"
    },
    {
     "ename": "TypeError",
     "evalue": "emptyfunction() takes 0 positional arguments but 1 was given",
     "traceback": [
      "\u001b[0;31m---------------------------------------------------------------------------\u001b[0m",
      "\u001b[0;31mTypeError\u001b[0m                                 Traceback (most recent call last)",
      "\u001b[0;31mTypeError\u001b[0m: emptyfunction() takes 0 positional arguments but 1 was given"
     ],
     "output_type": "error"
    },
    {
     "ename": "TypeError",
     "evalue": "emptyfunction() takes 0 positional arguments but 1 was given",
     "traceback": [
      "\u001b[0;31m---------------------------------------------------------------------------\u001b[0m",
      "\u001b[0;31mTypeError\u001b[0m                                 Traceback (most recent call last)",
      "\u001b[0;31mTypeError\u001b[0m: emptyfunction() takes 0 positional arguments but 1 was given"
     ],
     "output_type": "error"
    },
    {
     "ename": "TypeError",
     "evalue": "emptyfunction() takes 0 positional arguments but 1 was given",
     "traceback": [
      "\u001b[0;31m---------------------------------------------------------------------------\u001b[0m",
      "\u001b[0;31mTypeError\u001b[0m                                 Traceback (most recent call last)",
      "\u001b[0;31mTypeError\u001b[0m: emptyfunction() takes 0 positional arguments but 1 was given"
     ],
     "output_type": "error"
    },
    {
     "ename": "TypeError",
     "evalue": "emptyfunction() takes 0 positional arguments but 1 was given",
     "traceback": [
      "\u001b[0;31m---------------------------------------------------------------------------\u001b[0m",
      "\u001b[0;31mTypeError\u001b[0m                                 Traceback (most recent call last)",
      "\u001b[0;31mTypeError\u001b[0m: emptyfunction() takes 0 positional arguments but 1 was given"
     ],
     "output_type": "error"
    },
    {
     "ename": "TypeError",
     "evalue": "emptyfunction() takes 0 positional arguments but 1 was given",
     "traceback": [
      "\u001b[0;31m---------------------------------------------------------------------------\u001b[0m",
      "\u001b[0;31mTypeError\u001b[0m                                 Traceback (most recent call last)",
      "\u001b[0;31mTypeError\u001b[0m: emptyfunction() takes 0 positional arguments but 1 was given"
     ],
     "output_type": "error"
    },
    {
     "ename": "TypeError",
     "evalue": "emptyfunction() takes 0 positional arguments but 1 was given",
     "traceback": [
      "\u001b[0;31m---------------------------------------------------------------------------\u001b[0m",
      "\u001b[0;31mTypeError\u001b[0m                                 Traceback (most recent call last)",
      "\u001b[0;31mTypeError\u001b[0m: emptyfunction() takes 0 positional arguments but 1 was given"
     ],
     "output_type": "error"
    },
    {
     "ename": "TypeError",
     "evalue": "emptyfunction() takes 0 positional arguments but 1 was given",
     "traceback": [
      "\u001b[0;31m---------------------------------------------------------------------------\u001b[0m",
      "\u001b[0;31mTypeError\u001b[0m                                 Traceback (most recent call last)",
      "\u001b[0;31mTypeError\u001b[0m: emptyfunction() takes 0 positional arguments but 1 was given"
     ],
     "output_type": "error"
    },
    {
     "ename": "TypeError",
     "evalue": "emptyfunction() takes 0 positional arguments but 1 was given",
     "traceback": [
      "\u001b[0;31m---------------------------------------------------------------------------\u001b[0m",
      "\u001b[0;31mTypeError\u001b[0m                                 Traceback (most recent call last)",
      "\u001b[0;31mTypeError\u001b[0m: emptyfunction() takes 0 positional arguments but 1 was given"
     ],
     "output_type": "error"
    },
    {
     "ename": "TypeError",
     "evalue": "emptyfunction() takes 0 positional arguments but 1 was given",
     "traceback": [
      "\u001b[0;31m---------------------------------------------------------------------------\u001b[0m",
      "\u001b[0;31mTypeError\u001b[0m                                 Traceback (most recent call last)",
      "\u001b[0;31mTypeError\u001b[0m: emptyfunction() takes 0 positional arguments but 1 was given"
     ],
     "output_type": "error"
    },
    {
     "ename": "TypeError",
     "evalue": "emptyfunction() takes 0 positional arguments but 1 was given",
     "traceback": [
      "\u001b[0;31m---------------------------------------------------------------------------\u001b[0m",
      "\u001b[0;31mTypeError\u001b[0m                                 Traceback (most recent call last)",
      "\u001b[0;31mTypeError\u001b[0m: emptyfunction() takes 0 positional arguments but 1 was given"
     ],
     "output_type": "error"
    },
    {
     "ename": "TypeError",
     "evalue": "emptyfunction() takes 0 positional arguments but 1 was given",
     "traceback": [
      "\u001b[0;31m---------------------------------------------------------------------------\u001b[0m",
      "\u001b[0;31mTypeError\u001b[0m                                 Traceback (most recent call last)",
      "\u001b[0;31mTypeError\u001b[0m: emptyfunction() takes 0 positional arguments but 1 was given"
     ],
     "output_type": "error"
    },
    {
     "ename": "TypeError",
     "evalue": "emptyfunction() takes 0 positional arguments but 1 was given",
     "traceback": [
      "\u001b[0;31m---------------------------------------------------------------------------\u001b[0m",
      "\u001b[0;31mTypeError\u001b[0m                                 Traceback (most recent call last)",
      "\u001b[0;31mTypeError\u001b[0m: emptyfunction() takes 0 positional arguments but 1 was given"
     ],
     "output_type": "error"
    },
    {
     "ename": "TypeError",
     "evalue": "emptyfunction() takes 0 positional arguments but 1 was given",
     "traceback": [
      "\u001b[0;31m---------------------------------------------------------------------------\u001b[0m",
      "\u001b[0;31mTypeError\u001b[0m                                 Traceback (most recent call last)",
      "\u001b[0;31mTypeError\u001b[0m: emptyfunction() takes 0 positional arguments but 1 was given"
     ],
     "output_type": "error"
    },
    {
     "ename": "TypeError",
     "evalue": "emptyfunction() takes 0 positional arguments but 1 was given",
     "traceback": [
      "\u001b[0;31m---------------------------------------------------------------------------\u001b[0m",
      "\u001b[0;31mTypeError\u001b[0m                                 Traceback (most recent call last)",
      "\u001b[0;31mTypeError\u001b[0m: emptyfunction() takes 0 positional arguments but 1 was given"
     ],
     "output_type": "error"
    },
    {
     "ename": "TypeError",
     "evalue": "emptyfunction() takes 0 positional arguments but 1 was given",
     "traceback": [
      "\u001b[0;31m---------------------------------------------------------------------------\u001b[0m",
      "\u001b[0;31mTypeError\u001b[0m                                 Traceback (most recent call last)",
      "\u001b[0;31mTypeError\u001b[0m: emptyfunction() takes 0 positional arguments but 1 was given"
     ],
     "output_type": "error"
    },
    {
     "ename": "TypeError",
     "evalue": "emptyfunction() takes 0 positional arguments but 1 was given",
     "traceback": [
      "\u001b[0;31m---------------------------------------------------------------------------\u001b[0m",
      "\u001b[0;31mTypeError\u001b[0m                                 Traceback (most recent call last)",
      "\u001b[0;31mTypeError\u001b[0m: emptyfunction() takes 0 positional arguments but 1 was given"
     ],
     "output_type": "error"
    },
    {
     "ename": "TypeError",
     "evalue": "emptyfunction() takes 0 positional arguments but 1 was given",
     "traceback": [
      "\u001b[0;31m---------------------------------------------------------------------------\u001b[0m",
      "\u001b[0;31mTypeError\u001b[0m                                 Traceback (most recent call last)",
      "\u001b[0;31mTypeError\u001b[0m: emptyfunction() takes 0 positional arguments but 1 was given"
     ],
     "output_type": "error"
    },
    {
     "ename": "TypeError",
     "evalue": "emptyfunction() takes 0 positional arguments but 1 was given",
     "traceback": [
      "\u001b[0;31m---------------------------------------------------------------------------\u001b[0m",
      "\u001b[0;31mTypeError\u001b[0m                                 Traceback (most recent call last)",
      "\u001b[0;31mTypeError\u001b[0m: emptyfunction() takes 0 positional arguments but 1 was given"
     ],
     "output_type": "error"
    },
    {
     "ename": "TypeError",
     "evalue": "emptyfunction() takes 0 positional arguments but 1 was given",
     "traceback": [
      "\u001b[0;31m---------------------------------------------------------------------------\u001b[0m",
      "\u001b[0;31mTypeError\u001b[0m                                 Traceback (most recent call last)",
      "\u001b[0;31mTypeError\u001b[0m: emptyfunction() takes 0 positional arguments but 1 was given"
     ],
     "output_type": "error"
    },
    {
     "ename": "TypeError",
     "evalue": "emptyfunction() takes 0 positional arguments but 1 was given",
     "traceback": [
      "\u001b[0;31m---------------------------------------------------------------------------\u001b[0m",
      "\u001b[0;31mTypeError\u001b[0m                                 Traceback (most recent call last)",
      "\u001b[0;31mTypeError\u001b[0m: emptyfunction() takes 0 positional arguments but 1 was given"
     ],
     "output_type": "error"
    },
    {
     "ename": "TypeError",
     "evalue": "emptyfunction() takes 0 positional arguments but 1 was given",
     "traceback": [
      "\u001b[0;31m---------------------------------------------------------------------------\u001b[0m",
      "\u001b[0;31mTypeError\u001b[0m                                 Traceback (most recent call last)",
      "\u001b[0;31mTypeError\u001b[0m: emptyfunction() takes 0 positional arguments but 1 was given"
     ],
     "output_type": "error"
    },
    {
     "ename": "TypeError",
     "evalue": "emptyfunction() takes 0 positional arguments but 1 was given",
     "traceback": [
      "\u001b[0;31m---------------------------------------------------------------------------\u001b[0m",
      "\u001b[0;31mTypeError\u001b[0m                                 Traceback (most recent call last)",
      "\u001b[0;31mTypeError\u001b[0m: emptyfunction() takes 0 positional arguments but 1 was given"
     ],
     "output_type": "error"
    },
    {
     "ename": "TypeError",
     "evalue": "emptyfunction() takes 0 positional arguments but 1 was given",
     "traceback": [
      "\u001b[0;31m---------------------------------------------------------------------------\u001b[0m",
      "\u001b[0;31mTypeError\u001b[0m                                 Traceback (most recent call last)",
      "\u001b[0;31mTypeError\u001b[0m: emptyfunction() takes 0 positional arguments but 1 was given"
     ],
     "output_type": "error"
    },
    {
     "ename": "TypeError",
     "evalue": "emptyfunction() takes 0 positional arguments but 1 was given",
     "traceback": [
      "\u001b[0;31m---------------------------------------------------------------------------\u001b[0m",
      "\u001b[0;31mTypeError\u001b[0m                                 Traceback (most recent call last)",
      "\u001b[0;31mTypeError\u001b[0m: emptyfunction() takes 0 positional arguments but 1 was given"
     ],
     "output_type": "error"
    },
    {
     "ename": "TypeError",
     "evalue": "emptyfunction() takes 0 positional arguments but 1 was given",
     "traceback": [
      "\u001b[0;31m---------------------------------------------------------------------------\u001b[0m",
      "\u001b[0;31mTypeError\u001b[0m                                 Traceback (most recent call last)",
      "\u001b[0;31mTypeError\u001b[0m: emptyfunction() takes 0 positional arguments but 1 was given"
     ],
     "output_type": "error"
    },
    {
     "ename": "TypeError",
     "evalue": "emptyfunction() takes 0 positional arguments but 1 was given",
     "traceback": [
      "\u001b[0;31m---------------------------------------------------------------------------\u001b[0m",
      "\u001b[0;31mTypeError\u001b[0m                                 Traceback (most recent call last)",
      "\u001b[0;31mTypeError\u001b[0m: emptyfunction() takes 0 positional arguments but 1 was given"
     ],
     "output_type": "error"
    },
    {
     "ename": "TypeError",
     "evalue": "emptyfunction() takes 0 positional arguments but 1 was given",
     "traceback": [
      "\u001b[0;31m---------------------------------------------------------------------------\u001b[0m",
      "\u001b[0;31mTypeError\u001b[0m                                 Traceback (most recent call last)",
      "\u001b[0;31mTypeError\u001b[0m: emptyfunction() takes 0 positional arguments but 1 was given"
     ],
     "output_type": "error"
    },
    {
     "ename": "TypeError",
     "evalue": "emptyfunction() takes 0 positional arguments but 1 was given",
     "traceback": [
      "\u001b[0;31m---------------------------------------------------------------------------\u001b[0m",
      "\u001b[0;31mTypeError\u001b[0m                                 Traceback (most recent call last)",
      "\u001b[0;31mTypeError\u001b[0m: emptyfunction() takes 0 positional arguments but 1 was given"
     ],
     "output_type": "error"
    },
    {
     "ename": "TypeError",
     "evalue": "emptyfunction() takes 0 positional arguments but 1 was given",
     "traceback": [
      "\u001b[0;31m---------------------------------------------------------------------------\u001b[0m",
      "\u001b[0;31mTypeError\u001b[0m                                 Traceback (most recent call last)",
      "\u001b[0;31mTypeError\u001b[0m: emptyfunction() takes 0 positional arguments but 1 was given"
     ],
     "output_type": "error"
    },
    {
     "ename": "TypeError",
     "evalue": "emptyfunction() takes 0 positional arguments but 1 was given",
     "traceback": [
      "\u001b[0;31m---------------------------------------------------------------------------\u001b[0m",
      "\u001b[0;31mTypeError\u001b[0m                                 Traceback (most recent call last)",
      "\u001b[0;31mTypeError\u001b[0m: emptyfunction() takes 0 positional arguments but 1 was given"
     ],
     "output_type": "error"
    },
    {
     "ename": "TypeError",
     "evalue": "emptyfunction() takes 0 positional arguments but 1 was given",
     "traceback": [
      "\u001b[0;31m---------------------------------------------------------------------------\u001b[0m",
      "\u001b[0;31mTypeError\u001b[0m                                 Traceback (most recent call last)",
      "\u001b[0;31mTypeError\u001b[0m: emptyfunction() takes 0 positional arguments but 1 was given"
     ],
     "output_type": "error"
    },
    {
     "ename": "TypeError",
     "evalue": "emptyfunction() takes 0 positional arguments but 1 was given",
     "traceback": [
      "\u001b[0;31m---------------------------------------------------------------------------\u001b[0m",
      "\u001b[0;31mTypeError\u001b[0m                                 Traceback (most recent call last)",
      "\u001b[0;31mTypeError\u001b[0m: emptyfunction() takes 0 positional arguments but 1 was given"
     ],
     "output_type": "error"
    },
    {
     "ename": "TypeError",
     "evalue": "emptyfunction() takes 0 positional arguments but 1 was given",
     "traceback": [
      "\u001b[0;31m---------------------------------------------------------------------------\u001b[0m",
      "\u001b[0;31mTypeError\u001b[0m                                 Traceback (most recent call last)",
      "\u001b[0;31mTypeError\u001b[0m: emptyfunction() takes 0 positional arguments but 1 was given"
     ],
     "output_type": "error"
    },
    {
     "ename": "TypeError",
     "evalue": "emptyfunction() takes 0 positional arguments but 1 was given",
     "traceback": [
      "\u001b[0;31m---------------------------------------------------------------------------\u001b[0m",
      "\u001b[0;31mTypeError\u001b[0m                                 Traceback (most recent call last)",
      "\u001b[0;31mTypeError\u001b[0m: emptyfunction() takes 0 positional arguments but 1 was given"
     ],
     "output_type": "error"
    },
    {
     "ename": "TypeError",
     "evalue": "emptyfunction() takes 0 positional arguments but 1 was given",
     "traceback": [
      "\u001b[0;31m---------------------------------------------------------------------------\u001b[0m",
      "\u001b[0;31mTypeError\u001b[0m                                 Traceback (most recent call last)",
      "\u001b[0;31mTypeError\u001b[0m: emptyfunction() takes 0 positional arguments but 1 was given"
     ],
     "output_type": "error"
    },
    {
     "ename": "TypeError",
     "evalue": "emptyfunction() takes 0 positional arguments but 1 was given",
     "traceback": [
      "\u001b[0;31m---------------------------------------------------------------------------\u001b[0m",
      "\u001b[0;31mTypeError\u001b[0m                                 Traceback (most recent call last)",
      "\u001b[0;31mTypeError\u001b[0m: emptyfunction() takes 0 positional arguments but 1 was given"
     ],
     "output_type": "error"
    },
    {
     "ename": "TypeError",
     "evalue": "emptyfunction() takes 0 positional arguments but 1 was given",
     "traceback": [
      "\u001b[0;31m---------------------------------------------------------------------------\u001b[0m",
      "\u001b[0;31mTypeError\u001b[0m                                 Traceback (most recent call last)",
      "\u001b[0;31mTypeError\u001b[0m: emptyfunction() takes 0 positional arguments but 1 was given"
     ],
     "output_type": "error"
    },
    {
     "ename": "TypeError",
     "evalue": "emptyfunction() takes 0 positional arguments but 1 was given",
     "traceback": [
      "\u001b[0;31m---------------------------------------------------------------------------\u001b[0m",
      "\u001b[0;31mTypeError\u001b[0m                                 Traceback (most recent call last)",
      "\u001b[0;31mTypeError\u001b[0m: emptyfunction() takes 0 positional arguments but 1 was given"
     ],
     "output_type": "error"
    },
    {
     "ename": "TypeError",
     "evalue": "emptyfunction() takes 0 positional arguments but 1 was given",
     "traceback": [
      "\u001b[0;31m---------------------------------------------------------------------------\u001b[0m",
      "\u001b[0;31mTypeError\u001b[0m                                 Traceback (most recent call last)",
      "\u001b[0;31mTypeError\u001b[0m: emptyfunction() takes 0 positional arguments but 1 was given"
     ],
     "output_type": "error"
    },
    {
     "ename": "TypeError",
     "evalue": "emptyfunction() takes 0 positional arguments but 1 was given",
     "traceback": [
      "\u001b[0;31m---------------------------------------------------------------------------\u001b[0m",
      "\u001b[0;31mTypeError\u001b[0m                                 Traceback (most recent call last)",
      "\u001b[0;31mTypeError\u001b[0m: emptyfunction() takes 0 positional arguments but 1 was given"
     ],
     "output_type": "error"
    },
    {
     "ename": "TypeError",
     "evalue": "emptyfunction() takes 0 positional arguments but 1 was given",
     "traceback": [
      "\u001b[0;31m---------------------------------------------------------------------------\u001b[0m",
      "\u001b[0;31mTypeError\u001b[0m                                 Traceback (most recent call last)",
      "\u001b[0;31mTypeError\u001b[0m: emptyfunction() takes 0 positional arguments but 1 was given"
     ],
     "output_type": "error"
    },
    {
     "ename": "TypeError",
     "evalue": "emptyfunction() takes 0 positional arguments but 1 was given",
     "traceback": [
      "\u001b[0;31m---------------------------------------------------------------------------\u001b[0m",
      "\u001b[0;31mTypeError\u001b[0m                                 Traceback (most recent call last)",
      "\u001b[0;31mTypeError\u001b[0m: emptyfunction() takes 0 positional arguments but 1 was given"
     ],
     "output_type": "error"
    },
    {
     "ename": "TypeError",
     "evalue": "emptyfunction() takes 0 positional arguments but 1 was given",
     "traceback": [
      "\u001b[0;31m---------------------------------------------------------------------------\u001b[0m",
      "\u001b[0;31mTypeError\u001b[0m                                 Traceback (most recent call last)",
      "\u001b[0;31mTypeError\u001b[0m: emptyfunction() takes 0 positional arguments but 1 was given"
     ],
     "output_type": "error"
    },
    {
     "ename": "TypeError",
     "evalue": "emptyfunction() takes 0 positional arguments but 1 was given",
     "traceback": [
      "\u001b[0;31m---------------------------------------------------------------------------\u001b[0m",
      "\u001b[0;31mTypeError\u001b[0m                                 Traceback (most recent call last)",
      "\u001b[0;31mTypeError\u001b[0m: emptyfunction() takes 0 positional arguments but 1 was given"
     ],
     "output_type": "error"
    },
    {
     "ename": "TypeError",
     "evalue": "emptyfunction() takes 0 positional arguments but 1 was given",
     "traceback": [
      "\u001b[0;31m---------------------------------------------------------------------------\u001b[0m",
      "\u001b[0;31mTypeError\u001b[0m                                 Traceback (most recent call last)",
      "\u001b[0;31mTypeError\u001b[0m: emptyfunction() takes 0 positional arguments but 1 was given"
     ],
     "output_type": "error"
    },
    {
     "ename": "TypeError",
     "evalue": "emptyfunction() takes 0 positional arguments but 1 was given",
     "traceback": [
      "\u001b[0;31m---------------------------------------------------------------------------\u001b[0m",
      "\u001b[0;31mTypeError\u001b[0m                                 Traceback (most recent call last)",
      "\u001b[0;31mTypeError\u001b[0m: emptyfunction() takes 0 positional arguments but 1 was given"
     ],
     "output_type": "error"
    },
    {
     "ename": "TypeError",
     "evalue": "emptyfunction() takes 0 positional arguments but 1 was given",
     "traceback": [
      "\u001b[0;31m---------------------------------------------------------------------------\u001b[0m",
      "\u001b[0;31mTypeError\u001b[0m                                 Traceback (most recent call last)",
      "\u001b[0;31mTypeError\u001b[0m: emptyfunction() takes 0 positional arguments but 1 was given"
     ],
     "output_type": "error"
    },
    {
     "ename": "TypeError",
     "evalue": "emptyfunction() takes 0 positional arguments but 1 was given",
     "traceback": [
      "\u001b[0;31m---------------------------------------------------------------------------\u001b[0m",
      "\u001b[0;31mTypeError\u001b[0m                                 Traceback (most recent call last)",
      "\u001b[0;31mTypeError\u001b[0m: emptyfunction() takes 0 positional arguments but 1 was given"
     ],
     "output_type": "error"
    },
    {
     "ename": "TypeError",
     "evalue": "emptyfunction() takes 0 positional arguments but 1 was given",
     "traceback": [
      "\u001b[0;31m---------------------------------------------------------------------------\u001b[0m",
      "\u001b[0;31mTypeError\u001b[0m                                 Traceback (most recent call last)",
      "\u001b[0;31mTypeError\u001b[0m: emptyfunction() takes 0 positional arguments but 1 was given"
     ],
     "output_type": "error"
    },
    {
     "ename": "TypeError",
     "evalue": "emptyfunction() takes 0 positional arguments but 1 was given",
     "traceback": [
      "\u001b[0;31m---------------------------------------------------------------------------\u001b[0m",
      "\u001b[0;31mTypeError\u001b[0m                                 Traceback (most recent call last)",
      "\u001b[0;31mTypeError\u001b[0m: emptyfunction() takes 0 positional arguments but 1 was given"
     ],
     "output_type": "error"
    },
    {
     "ename": "TypeError",
     "evalue": "emptyfunction() takes 0 positional arguments but 1 was given",
     "traceback": [
      "\u001b[0;31m---------------------------------------------------------------------------\u001b[0m",
      "\u001b[0;31mTypeError\u001b[0m                                 Traceback (most recent call last)",
      "\u001b[0;31mTypeError\u001b[0m: emptyfunction() takes 0 positional arguments but 1 was given"
     ],
     "output_type": "error"
    },
    {
     "ename": "TypeError",
     "evalue": "emptyfunction() takes 0 positional arguments but 1 was given",
     "traceback": [
      "\u001b[0;31m---------------------------------------------------------------------------\u001b[0m",
      "\u001b[0;31mTypeError\u001b[0m                                 Traceback (most recent call last)",
      "\u001b[0;31mTypeError\u001b[0m: emptyfunction() takes 0 positional arguments but 1 was given"
     ],
     "output_type": "error"
    },
    {
     "ename": "TypeError",
     "evalue": "emptyfunction() takes 0 positional arguments but 1 was given",
     "traceback": [
      "\u001b[0;31m---------------------------------------------------------------------------\u001b[0m",
      "\u001b[0;31mTypeError\u001b[0m                                 Traceback (most recent call last)",
      "\u001b[0;31mTypeError\u001b[0m: emptyfunction() takes 0 positional arguments but 1 was given"
     ],
     "output_type": "error"
    },
    {
     "ename": "TypeError",
     "evalue": "emptyfunction() takes 0 positional arguments but 1 was given",
     "traceback": [
      "\u001b[0;31m---------------------------------------------------------------------------\u001b[0m",
      "\u001b[0;31mTypeError\u001b[0m                                 Traceback (most recent call last)",
      "\u001b[0;31mTypeError\u001b[0m: emptyfunction() takes 0 positional arguments but 1 was given"
     ],
     "output_type": "error"
    },
    {
     "ename": "TypeError",
     "evalue": "emptyfunction() takes 0 positional arguments but 1 was given",
     "traceback": [
      "\u001b[0;31m---------------------------------------------------------------------------\u001b[0m",
      "\u001b[0;31mTypeError\u001b[0m                                 Traceback (most recent call last)",
      "\u001b[0;31mTypeError\u001b[0m: emptyfunction() takes 0 positional arguments but 1 was given"
     ],
     "output_type": "error"
    },
    {
     "ename": "TypeError",
     "evalue": "emptyfunction() takes 0 positional arguments but 1 was given",
     "traceback": [
      "\u001b[0;31m---------------------------------------------------------------------------\u001b[0m",
      "\u001b[0;31mTypeError\u001b[0m                                 Traceback (most recent call last)",
      "\u001b[0;31mTypeError\u001b[0m: emptyfunction() takes 0 positional arguments but 1 was given"
     ],
     "output_type": "error"
    },
    {
     "ename": "TypeError",
     "evalue": "emptyfunction() takes 0 positional arguments but 1 was given",
     "traceback": [
      "\u001b[0;31m---------------------------------------------------------------------------\u001b[0m",
      "\u001b[0;31mTypeError\u001b[0m                                 Traceback (most recent call last)",
      "\u001b[0;31mTypeError\u001b[0m: emptyfunction() takes 0 positional arguments but 1 was given"
     ],
     "output_type": "error"
    },
    {
     "ename": "TypeError",
     "evalue": "emptyfunction() takes 0 positional arguments but 1 was given",
     "traceback": [
      "\u001b[0;31m---------------------------------------------------------------------------\u001b[0m",
      "\u001b[0;31mTypeError\u001b[0m                                 Traceback (most recent call last)",
      "\u001b[0;31mTypeError\u001b[0m: emptyfunction() takes 0 positional arguments but 1 was given"
     ],
     "output_type": "error"
    },
    {
     "ename": "TypeError",
     "evalue": "emptyfunction() takes 0 positional arguments but 1 was given",
     "traceback": [
      "\u001b[0;31m---------------------------------------------------------------------------\u001b[0m",
      "\u001b[0;31mTypeError\u001b[0m                                 Traceback (most recent call last)",
      "\u001b[0;31mTypeError\u001b[0m: emptyfunction() takes 0 positional arguments but 1 was given"
     ],
     "output_type": "error"
    },
    {
     "ename": "TypeError",
     "evalue": "emptyfunction() takes 0 positional arguments but 1 was given",
     "traceback": [
      "\u001b[0;31m---------------------------------------------------------------------------\u001b[0m",
      "\u001b[0;31mTypeError\u001b[0m                                 Traceback (most recent call last)",
      "\u001b[0;31mTypeError\u001b[0m: emptyfunction() takes 0 positional arguments but 1 was given"
     ],
     "output_type": "error"
    },
    {
     "ename": "TypeError",
     "evalue": "emptyfunction() takes 0 positional arguments but 1 was given",
     "traceback": [
      "\u001b[0;31m---------------------------------------------------------------------------\u001b[0m",
      "\u001b[0;31mTypeError\u001b[0m                                 Traceback (most recent call last)",
      "\u001b[0;31mTypeError\u001b[0m: emptyfunction() takes 0 positional arguments but 1 was given"
     ],
     "output_type": "error"
    },
    {
     "ename": "TypeError",
     "evalue": "emptyfunction() takes 0 positional arguments but 1 was given",
     "traceback": [
      "\u001b[0;31m---------------------------------------------------------------------------\u001b[0m",
      "\u001b[0;31mTypeError\u001b[0m                                 Traceback (most recent call last)",
      "\u001b[0;31mTypeError\u001b[0m: emptyfunction() takes 0 positional arguments but 1 was given"
     ],
     "output_type": "error"
    },
    {
     "ename": "TypeError",
     "evalue": "emptyfunction() takes 0 positional arguments but 1 was given",
     "traceback": [
      "\u001b[0;31m---------------------------------------------------------------------------\u001b[0m",
      "\u001b[0;31mTypeError\u001b[0m                                 Traceback (most recent call last)",
      "\u001b[0;31mTypeError\u001b[0m: emptyfunction() takes 0 positional arguments but 1 was given"
     ],
     "output_type": "error"
    },
    {
     "ename": "TypeError",
     "evalue": "emptyfunction() takes 0 positional arguments but 1 was given",
     "traceback": [
      "\u001b[0;31m---------------------------------------------------------------------------\u001b[0m",
      "\u001b[0;31mTypeError\u001b[0m                                 Traceback (most recent call last)",
      "\u001b[0;31mTypeError\u001b[0m: emptyfunction() takes 0 positional arguments but 1 was given"
     ],
     "output_type": "error"
    },
    {
     "ename": "TypeError",
     "evalue": "emptyfunction() takes 0 positional arguments but 1 was given",
     "traceback": [
      "\u001b[0;31m---------------------------------------------------------------------------\u001b[0m",
      "\u001b[0;31mTypeError\u001b[0m                                 Traceback (most recent call last)",
      "\u001b[0;31mTypeError\u001b[0m: emptyfunction() takes 0 positional arguments but 1 was given"
     ],
     "output_type": "error"
    },
    {
     "ename": "TypeError",
     "evalue": "emptyfunction() takes 0 positional arguments but 1 was given",
     "traceback": [
      "\u001b[0;31m---------------------------------------------------------------------------\u001b[0m",
      "\u001b[0;31mTypeError\u001b[0m                                 Traceback (most recent call last)",
      "\u001b[0;31mTypeError\u001b[0m: emptyfunction() takes 0 positional arguments but 1 was given"
     ],
     "output_type": "error"
    },
    {
     "ename": "TypeError",
     "evalue": "emptyfunction() takes 0 positional arguments but 1 was given",
     "traceback": [
      "\u001b[0;31m---------------------------------------------------------------------------\u001b[0m",
      "\u001b[0;31mTypeError\u001b[0m                                 Traceback (most recent call last)",
      "\u001b[0;31mTypeError\u001b[0m: emptyfunction() takes 0 positional arguments but 1 was given"
     ],
     "output_type": "error"
    },
    {
     "ename": "TypeError",
     "evalue": "emptyfunction() takes 0 positional arguments but 1 was given",
     "traceback": [
      "\u001b[0;31m---------------------------------------------------------------------------\u001b[0m",
      "\u001b[0;31mTypeError\u001b[0m                                 Traceback (most recent call last)",
      "\u001b[0;31mTypeError\u001b[0m: emptyfunction() takes 0 positional arguments but 1 was given"
     ],
     "output_type": "error"
    },
    {
     "ename": "TypeError",
     "evalue": "emptyfunction() takes 0 positional arguments but 1 was given",
     "traceback": [
      "\u001b[0;31m---------------------------------------------------------------------------\u001b[0m",
      "\u001b[0;31mTypeError\u001b[0m                                 Traceback (most recent call last)",
      "\u001b[0;31mTypeError\u001b[0m: emptyfunction() takes 0 positional arguments but 1 was given"
     ],
     "output_type": "error"
    },
    {
     "ename": "TypeError",
     "evalue": "emptyfunction() takes 0 positional arguments but 1 was given",
     "traceback": [
      "\u001b[0;31m---------------------------------------------------------------------------\u001b[0m",
      "\u001b[0;31mTypeError\u001b[0m                                 Traceback (most recent call last)",
      "\u001b[0;31mTypeError\u001b[0m: emptyfunction() takes 0 positional arguments but 1 was given"
     ],
     "output_type": "error"
    },
    {
     "ename": "TypeError",
     "evalue": "emptyfunction() takes 0 positional arguments but 1 was given",
     "traceback": [
      "\u001b[0;31m---------------------------------------------------------------------------\u001b[0m",
      "\u001b[0;31mTypeError\u001b[0m                                 Traceback (most recent call last)",
      "\u001b[0;31mTypeError\u001b[0m: emptyfunction() takes 0 positional arguments but 1 was given"
     ],
     "output_type": "error"
    },
    {
     "ename": "TypeError",
     "evalue": "emptyfunction() takes 0 positional arguments but 1 was given",
     "traceback": [
      "\u001b[0;31m---------------------------------------------------------------------------\u001b[0m",
      "\u001b[0;31mTypeError\u001b[0m                                 Traceback (most recent call last)",
      "\u001b[0;31mTypeError\u001b[0m: emptyfunction() takes 0 positional arguments but 1 was given"
     ],
     "output_type": "error"
    },
    {
     "ename": "TypeError",
     "evalue": "emptyfunction() takes 0 positional arguments but 1 was given",
     "traceback": [
      "\u001b[0;31m---------------------------------------------------------------------------\u001b[0m",
      "\u001b[0;31mTypeError\u001b[0m                                 Traceback (most recent call last)",
      "\u001b[0;31mTypeError\u001b[0m: emptyfunction() takes 0 positional arguments but 1 was given"
     ],
     "output_type": "error"
    },
    {
     "ename": "TypeError",
     "evalue": "emptyfunction() takes 0 positional arguments but 1 was given",
     "traceback": [
      "\u001b[0;31m---------------------------------------------------------------------------\u001b[0m",
      "\u001b[0;31mTypeError\u001b[0m                                 Traceback (most recent call last)",
      "\u001b[0;31mTypeError\u001b[0m: emptyfunction() takes 0 positional arguments but 1 was given"
     ],
     "output_type": "error"
    },
    {
     "ename": "TypeError",
     "evalue": "emptyfunction() takes 0 positional arguments but 1 was given",
     "traceback": [
      "\u001b[0;31m---------------------------------------------------------------------------\u001b[0m",
      "\u001b[0;31mTypeError\u001b[0m                                 Traceback (most recent call last)",
      "\u001b[0;31mTypeError\u001b[0m: emptyfunction() takes 0 positional arguments but 1 was given"
     ],
     "output_type": "error"
    },
    {
     "ename": "TypeError",
     "evalue": "emptyfunction() takes 0 positional arguments but 1 was given",
     "traceback": [
      "\u001b[0;31m---------------------------------------------------------------------------\u001b[0m",
      "\u001b[0;31mTypeError\u001b[0m                                 Traceback (most recent call last)",
      "\u001b[0;31mTypeError\u001b[0m: emptyfunction() takes 0 positional arguments but 1 was given"
     ],
     "output_type": "error"
    },
    {
     "ename": "TypeError",
     "evalue": "emptyfunction() takes 0 positional arguments but 1 was given",
     "traceback": [
      "\u001b[0;31m---------------------------------------------------------------------------\u001b[0m",
      "\u001b[0;31mTypeError\u001b[0m                                 Traceback (most recent call last)",
      "\u001b[0;31mTypeError\u001b[0m: emptyfunction() takes 0 positional arguments but 1 was given"
     ],
     "output_type": "error"
    },
    {
     "ename": "TypeError",
     "evalue": "emptyfunction() takes 0 positional arguments but 1 was given",
     "traceback": [
      "\u001b[0;31m---------------------------------------------------------------------------\u001b[0m",
      "\u001b[0;31mTypeError\u001b[0m                                 Traceback (most recent call last)",
      "\u001b[0;31mTypeError\u001b[0m: emptyfunction() takes 0 positional arguments but 1 was given"
     ],
     "output_type": "error"
    },
    {
     "ename": "TypeError",
     "evalue": "emptyfunction() takes 0 positional arguments but 1 was given",
     "traceback": [
      "\u001b[0;31m---------------------------------------------------------------------------\u001b[0m",
      "\u001b[0;31mTypeError\u001b[0m                                 Traceback (most recent call last)",
      "\u001b[0;31mTypeError\u001b[0m: emptyfunction() takes 0 positional arguments but 1 was given"
     ],
     "output_type": "error"
    },
    {
     "ename": "TypeError",
     "evalue": "emptyfunction() takes 0 positional arguments but 1 was given",
     "traceback": [
      "\u001b[0;31m---------------------------------------------------------------------------\u001b[0m",
      "\u001b[0;31mTypeError\u001b[0m                                 Traceback (most recent call last)",
      "\u001b[0;31mTypeError\u001b[0m: emptyfunction() takes 0 positional arguments but 1 was given"
     ],
     "output_type": "error"
    },
    {
     "ename": "TypeError",
     "evalue": "emptyfunction() takes 0 positional arguments but 1 was given",
     "traceback": [
      "\u001b[0;31m---------------------------------------------------------------------------\u001b[0m",
      "\u001b[0;31mTypeError\u001b[0m                                 Traceback (most recent call last)",
      "\u001b[0;31mTypeError\u001b[0m: emptyfunction() takes 0 positional arguments but 1 was given"
     ],
     "output_type": "error"
    },
    {
     "ename": "TypeError",
     "evalue": "emptyfunction() takes 0 positional arguments but 1 was given",
     "traceback": [
      "\u001b[0;31m---------------------------------------------------------------------------\u001b[0m",
      "\u001b[0;31mTypeError\u001b[0m                                 Traceback (most recent call last)",
      "\u001b[0;31mTypeError\u001b[0m: emptyfunction() takes 0 positional arguments but 1 was given"
     ],
     "output_type": "error"
    },
    {
     "ename": "TypeError",
     "evalue": "emptyfunction() takes 0 positional arguments but 1 was given",
     "traceback": [
      "\u001b[0;31m---------------------------------------------------------------------------\u001b[0m",
      "\u001b[0;31mTypeError\u001b[0m                                 Traceback (most recent call last)",
      "\u001b[0;31mTypeError\u001b[0m: emptyfunction() takes 0 positional arguments but 1 was given"
     ],
     "output_type": "error"
    },
    {
     "ename": "TypeError",
     "evalue": "emptyfunction() takes 0 positional arguments but 1 was given",
     "traceback": [
      "\u001b[0;31m---------------------------------------------------------------------------\u001b[0m",
      "\u001b[0;31mTypeError\u001b[0m                                 Traceback (most recent call last)",
      "\u001b[0;31mTypeError\u001b[0m: emptyfunction() takes 0 positional arguments but 1 was given"
     ],
     "output_type": "error"
    },
    {
     "ename": "TypeError",
     "evalue": "emptyfunction() takes 0 positional arguments but 1 was given",
     "traceback": [
      "\u001b[0;31m---------------------------------------------------------------------------\u001b[0m",
      "\u001b[0;31mTypeError\u001b[0m                                 Traceback (most recent call last)",
      "\u001b[0;31mTypeError\u001b[0m: emptyfunction() takes 0 positional arguments but 1 was given"
     ],
     "output_type": "error"
    },
    {
     "ename": "TypeError",
     "evalue": "emptyfunction() takes 0 positional arguments but 1 was given",
     "traceback": [
      "\u001b[0;31m---------------------------------------------------------------------------\u001b[0m",
      "\u001b[0;31mTypeError\u001b[0m                                 Traceback (most recent call last)",
      "\u001b[0;31mTypeError\u001b[0m: emptyfunction() takes 0 positional arguments but 1 was given"
     ],
     "output_type": "error"
    },
    {
     "ename": "TypeError",
     "evalue": "emptyfunction() takes 0 positional arguments but 1 was given",
     "traceback": [
      "\u001b[0;31m---------------------------------------------------------------------------\u001b[0m",
      "\u001b[0;31mTypeError\u001b[0m                                 Traceback (most recent call last)",
      "\u001b[0;31mTypeError\u001b[0m: emptyfunction() takes 0 positional arguments but 1 was given"
     ],
     "output_type": "error"
    },
    {
     "ename": "TypeError",
     "evalue": "emptyfunction() takes 0 positional arguments but 1 was given",
     "traceback": [
      "\u001b[0;31m---------------------------------------------------------------------------\u001b[0m",
      "\u001b[0;31mTypeError\u001b[0m                                 Traceback (most recent call last)",
      "\u001b[0;31mTypeError\u001b[0m: emptyfunction() takes 0 positional arguments but 1 was given"
     ],
     "output_type": "error"
    },
    {
     "ename": "TypeError",
     "evalue": "emptyfunction() takes 0 positional arguments but 1 was given",
     "traceback": [
      "\u001b[0;31m---------------------------------------------------------------------------\u001b[0m",
      "\u001b[0;31mTypeError\u001b[0m                                 Traceback (most recent call last)",
      "\u001b[0;31mTypeError\u001b[0m: emptyfunction() takes 0 positional arguments but 1 was given"
     ],
     "output_type": "error"
    },
    {
     "ename": "TypeError",
     "evalue": "emptyfunction() takes 0 positional arguments but 1 was given",
     "traceback": [
      "\u001b[0;31m---------------------------------------------------------------------------\u001b[0m",
      "\u001b[0;31mTypeError\u001b[0m                                 Traceback (most recent call last)",
      "\u001b[0;31mTypeError\u001b[0m: emptyfunction() takes 0 positional arguments but 1 was given"
     ],
     "output_type": "error"
    },
    {
     "ename": "TypeError",
     "evalue": "emptyfunction() takes 0 positional arguments but 1 was given",
     "traceback": [
      "\u001b[0;31m---------------------------------------------------------------------------\u001b[0m",
      "\u001b[0;31mTypeError\u001b[0m                                 Traceback (most recent call last)",
      "\u001b[0;31mTypeError\u001b[0m: emptyfunction() takes 0 positional arguments but 1 was given"
     ],
     "output_type": "error"
    },
    {
     "ename": "TypeError",
     "evalue": "emptyfunction() takes 0 positional arguments but 1 was given",
     "traceback": [
      "\u001b[0;31m---------------------------------------------------------------------------\u001b[0m",
      "\u001b[0;31mTypeError\u001b[0m                                 Traceback (most recent call last)",
      "\u001b[0;31mTypeError\u001b[0m: emptyfunction() takes 0 positional arguments but 1 was given"
     ],
     "output_type": "error"
    },
    {
     "ename": "TypeError",
     "evalue": "emptyfunction() takes 0 positional arguments but 1 was given",
     "traceback": [
      "\u001b[0;31m---------------------------------------------------------------------------\u001b[0m",
      "\u001b[0;31mTypeError\u001b[0m                                 Traceback (most recent call last)",
      "\u001b[0;31mTypeError\u001b[0m: emptyfunction() takes 0 positional arguments but 1 was given"
     ],
     "output_type": "error"
    },
    {
     "ename": "TypeError",
     "evalue": "emptyfunction() takes 0 positional arguments but 1 was given",
     "traceback": [
      "\u001b[0;31m---------------------------------------------------------------------------\u001b[0m",
      "\u001b[0;31mTypeError\u001b[0m                                 Traceback (most recent call last)",
      "\u001b[0;31mTypeError\u001b[0m: emptyfunction() takes 0 positional arguments but 1 was given"
     ],
     "output_type": "error"
    },
    {
     "ename": "TypeError",
     "evalue": "emptyfunction() takes 0 positional arguments but 1 was given",
     "traceback": [
      "\u001b[0;31m---------------------------------------------------------------------------\u001b[0m",
      "\u001b[0;31mTypeError\u001b[0m                                 Traceback (most recent call last)",
      "\u001b[0;31mTypeError\u001b[0m: emptyfunction() takes 0 positional arguments but 1 was given"
     ],
     "output_type": "error"
    },
    {
     "ename": "TypeError",
     "evalue": "emptyfunction() takes 0 positional arguments but 1 was given",
     "traceback": [
      "\u001b[0;31m---------------------------------------------------------------------------\u001b[0m",
      "\u001b[0;31mTypeError\u001b[0m                                 Traceback (most recent call last)",
      "\u001b[0;31mTypeError\u001b[0m: emptyfunction() takes 0 positional arguments but 1 was given"
     ],
     "output_type": "error"
    },
    {
     "ename": "TypeError",
     "evalue": "emptyfunction() takes 0 positional arguments but 1 was given",
     "traceback": [
      "\u001b[0;31m---------------------------------------------------------------------------\u001b[0m",
      "\u001b[0;31mTypeError\u001b[0m                                 Traceback (most recent call last)",
      "\u001b[0;31mTypeError\u001b[0m: emptyfunction() takes 0 positional arguments but 1 was given"
     ],
     "output_type": "error"
    },
    {
     "ename": "TypeError",
     "evalue": "emptyfunction() takes 0 positional arguments but 1 was given",
     "traceback": [
      "\u001b[0;31m---------------------------------------------------------------------------\u001b[0m",
      "\u001b[0;31mTypeError\u001b[0m                                 Traceback (most recent call last)",
      "\u001b[0;31mTypeError\u001b[0m: emptyfunction() takes 0 positional arguments but 1 was given"
     ],
     "output_type": "error"
    },
    {
     "ename": "TypeError",
     "evalue": "emptyfunction() takes 0 positional arguments but 1 was given",
     "traceback": [
      "\u001b[0;31m---------------------------------------------------------------------------\u001b[0m",
      "\u001b[0;31mTypeError\u001b[0m                                 Traceback (most recent call last)",
      "\u001b[0;31mTypeError\u001b[0m: emptyfunction() takes 0 positional arguments but 1 was given"
     ],
     "output_type": "error"
    },
    {
     "ename": "TypeError",
     "evalue": "emptyfunction() takes 0 positional arguments but 1 was given",
     "traceback": [
      "\u001b[0;31m---------------------------------------------------------------------------\u001b[0m",
      "\u001b[0;31mTypeError\u001b[0m                                 Traceback (most recent call last)",
      "\u001b[0;31mTypeError\u001b[0m: emptyfunction() takes 0 positional arguments but 1 was given"
     ],
     "output_type": "error"
    },
    {
     "ename": "TypeError",
     "evalue": "emptyfunction() takes 0 positional arguments but 1 was given",
     "traceback": [
      "\u001b[0;31m---------------------------------------------------------------------------\u001b[0m",
      "\u001b[0;31mTypeError\u001b[0m                                 Traceback (most recent call last)",
      "\u001b[0;31mTypeError\u001b[0m: emptyfunction() takes 0 positional arguments but 1 was given"
     ],
     "output_type": "error"
    },
    {
     "ename": "TypeError",
     "evalue": "emptyfunction() takes 0 positional arguments but 1 was given",
     "traceback": [
      "\u001b[0;31m---------------------------------------------------------------------------\u001b[0m",
      "\u001b[0;31mTypeError\u001b[0m                                 Traceback (most recent call last)",
      "\u001b[0;31mTypeError\u001b[0m: emptyfunction() takes 0 positional arguments but 1 was given"
     ],
     "output_type": "error"
    },
    {
     "ename": "TypeError",
     "evalue": "emptyfunction() takes 0 positional arguments but 1 was given",
     "traceback": [
      "\u001b[0;31m---------------------------------------------------------------------------\u001b[0m",
      "\u001b[0;31mTypeError\u001b[0m                                 Traceback (most recent call last)",
      "\u001b[0;31mTypeError\u001b[0m: emptyfunction() takes 0 positional arguments but 1 was given"
     ],
     "output_type": "error"
    },
    {
     "ename": "TypeError",
     "evalue": "emptyfunction() takes 0 positional arguments but 1 was given",
     "traceback": [
      "\u001b[0;31m---------------------------------------------------------------------------\u001b[0m",
      "\u001b[0;31mTypeError\u001b[0m                                 Traceback (most recent call last)",
      "\u001b[0;31mTypeError\u001b[0m: emptyfunction() takes 0 positional arguments but 1 was given"
     ],
     "output_type": "error"
    },
    {
     "ename": "TypeError",
     "evalue": "emptyfunction() takes 0 positional arguments but 1 was given",
     "traceback": [
      "\u001b[0;31m---------------------------------------------------------------------------\u001b[0m",
      "\u001b[0;31mTypeError\u001b[0m                                 Traceback (most recent call last)",
      "\u001b[0;31mTypeError\u001b[0m: emptyfunction() takes 0 positional arguments but 1 was given"
     ],
     "output_type": "error"
    },
    {
     "ename": "TypeError",
     "evalue": "emptyfunction() takes 0 positional arguments but 1 was given",
     "traceback": [
      "\u001b[0;31m---------------------------------------------------------------------------\u001b[0m",
      "\u001b[0;31mTypeError\u001b[0m                                 Traceback (most recent call last)",
      "\u001b[0;31mTypeError\u001b[0m: emptyfunction() takes 0 positional arguments but 1 was given"
     ],
     "output_type": "error"
    },
    {
     "ename": "TypeError",
     "evalue": "emptyfunction() takes 0 positional arguments but 1 was given",
     "traceback": [
      "\u001b[0;31m---------------------------------------------------------------------------\u001b[0m",
      "\u001b[0;31mTypeError\u001b[0m                                 Traceback (most recent call last)",
      "\u001b[0;31mTypeError\u001b[0m: emptyfunction() takes 0 positional arguments but 1 was given"
     ],
     "output_type": "error"
    },
    {
     "ename": "TypeError",
     "evalue": "emptyfunction() takes 0 positional arguments but 1 was given",
     "traceback": [
      "\u001b[0;31m---------------------------------------------------------------------------\u001b[0m",
      "\u001b[0;31mTypeError\u001b[0m                                 Traceback (most recent call last)",
      "\u001b[0;31mTypeError\u001b[0m: emptyfunction() takes 0 positional arguments but 1 was given"
     ],
     "output_type": "error"
    },
    {
     "ename": "TypeError",
     "evalue": "emptyfunction() takes 0 positional arguments but 1 was given",
     "traceback": [
      "\u001b[0;31m---------------------------------------------------------------------------\u001b[0m",
      "\u001b[0;31mTypeError\u001b[0m                                 Traceback (most recent call last)",
      "\u001b[0;31mTypeError\u001b[0m: emptyfunction() takes 0 positional arguments but 1 was given"
     ],
     "output_type": "error"
    },
    {
     "ename": "TypeError",
     "evalue": "emptyfunction() takes 0 positional arguments but 1 was given",
     "traceback": [
      "\u001b[0;31m---------------------------------------------------------------------------\u001b[0m",
      "\u001b[0;31mTypeError\u001b[0m                                 Traceback (most recent call last)",
      "\u001b[0;31mTypeError\u001b[0m: emptyfunction() takes 0 positional arguments but 1 was given"
     ],
     "output_type": "error"
    },
    {
     "ename": "TypeError",
     "evalue": "emptyfunction() takes 0 positional arguments but 1 was given",
     "traceback": [
      "\u001b[0;31m---------------------------------------------------------------------------\u001b[0m",
      "\u001b[0;31mTypeError\u001b[0m                                 Traceback (most recent call last)",
      "\u001b[0;31mTypeError\u001b[0m: emptyfunction() takes 0 positional arguments but 1 was given"
     ],
     "output_type": "error"
    },
    {
     "ename": "TypeError",
     "evalue": "emptyfunction() takes 0 positional arguments but 1 was given",
     "traceback": [
      "\u001b[0;31m---------------------------------------------------------------------------\u001b[0m",
      "\u001b[0;31mTypeError\u001b[0m                                 Traceback (most recent call last)",
      "\u001b[0;31mTypeError\u001b[0m: emptyfunction() takes 0 positional arguments but 1 was given"
     ],
     "output_type": "error"
    },
    {
     "ename": "TypeError",
     "evalue": "emptyfunction() takes 0 positional arguments but 1 was given",
     "traceback": [
      "\u001b[0;31m---------------------------------------------------------------------------\u001b[0m",
      "\u001b[0;31mTypeError\u001b[0m                                 Traceback (most recent call last)",
      "\u001b[0;31mTypeError\u001b[0m: emptyfunction() takes 0 positional arguments but 1 was given"
     ],
     "output_type": "error"
    },
    {
     "ename": "TypeError",
     "evalue": "emptyfunction() takes 0 positional arguments but 1 was given",
     "traceback": [
      "\u001b[0;31m---------------------------------------------------------------------------\u001b[0m",
      "\u001b[0;31mTypeError\u001b[0m                                 Traceback (most recent call last)",
      "\u001b[0;31mTypeError\u001b[0m: emptyfunction() takes 0 positional arguments but 1 was given"
     ],
     "output_type": "error"
    },
    {
     "ename": "TypeError",
     "evalue": "emptyfunction() takes 0 positional arguments but 1 was given",
     "traceback": [
      "\u001b[0;31m---------------------------------------------------------------------------\u001b[0m",
      "\u001b[0;31mTypeError\u001b[0m                                 Traceback (most recent call last)",
      "\u001b[0;31mTypeError\u001b[0m: emptyfunction() takes 0 positional arguments but 1 was given"
     ],
     "output_type": "error"
    },
    {
     "ename": "TypeError",
     "evalue": "emptyfunction() takes 0 positional arguments but 1 was given",
     "traceback": [
      "\u001b[0;31m---------------------------------------------------------------------------\u001b[0m",
      "\u001b[0;31mTypeError\u001b[0m                                 Traceback (most recent call last)",
      "\u001b[0;31mTypeError\u001b[0m: emptyfunction() takes 0 positional arguments but 1 was given"
     ],
     "output_type": "error"
    },
    {
     "ename": "TypeError",
     "evalue": "emptyfunction() takes 0 positional arguments but 1 was given",
     "traceback": [
      "\u001b[0;31m---------------------------------------------------------------------------\u001b[0m",
      "\u001b[0;31mTypeError\u001b[0m                                 Traceback (most recent call last)",
      "\u001b[0;31mTypeError\u001b[0m: emptyfunction() takes 0 positional arguments but 1 was given"
     ],
     "output_type": "error"
    },
    {
     "ename": "TypeError",
     "evalue": "emptyfunction() takes 0 positional arguments but 1 was given",
     "traceback": [
      "\u001b[0;31m---------------------------------------------------------------------------\u001b[0m",
      "\u001b[0;31mTypeError\u001b[0m                                 Traceback (most recent call last)",
      "\u001b[0;31mTypeError\u001b[0m: emptyfunction() takes 0 positional arguments but 1 was given"
     ],
     "output_type": "error"
    },
    {
     "ename": "TypeError",
     "evalue": "emptyfunction() takes 0 positional arguments but 1 was given",
     "traceback": [
      "\u001b[0;31m---------------------------------------------------------------------------\u001b[0m",
      "\u001b[0;31mTypeError\u001b[0m                                 Traceback (most recent call last)",
      "\u001b[0;31mTypeError\u001b[0m: emptyfunction() takes 0 positional arguments but 1 was given"
     ],
     "output_type": "error"
    },
    {
     "ename": "TypeError",
     "evalue": "emptyfunction() takes 0 positional arguments but 1 was given",
     "traceback": [
      "\u001b[0;31m---------------------------------------------------------------------------\u001b[0m",
      "\u001b[0;31mTypeError\u001b[0m                                 Traceback (most recent call last)",
      "\u001b[0;31mTypeError\u001b[0m: emptyfunction() takes 0 positional arguments but 1 was given"
     ],
     "output_type": "error"
    },
    {
     "ename": "TypeError",
     "evalue": "emptyfunction() takes 0 positional arguments but 1 was given",
     "traceback": [
      "\u001b[0;31m---------------------------------------------------------------------------\u001b[0m",
      "\u001b[0;31mTypeError\u001b[0m                                 Traceback (most recent call last)",
      "\u001b[0;31mTypeError\u001b[0m: emptyfunction() takes 0 positional arguments but 1 was given"
     ],
     "output_type": "error"
    },
    {
     "ename": "TypeError",
     "evalue": "emptyfunction() takes 0 positional arguments but 1 was given",
     "traceback": [
      "\u001b[0;31m---------------------------------------------------------------------------\u001b[0m",
      "\u001b[0;31mTypeError\u001b[0m                                 Traceback (most recent call last)",
      "\u001b[0;31mTypeError\u001b[0m: emptyfunction() takes 0 positional arguments but 1 was given"
     ],
     "output_type": "error"
    },
    {
     "ename": "TypeError",
     "evalue": "emptyfunction() takes 0 positional arguments but 1 was given",
     "traceback": [
      "\u001b[0;31m---------------------------------------------------------------------------\u001b[0m",
      "\u001b[0;31mTypeError\u001b[0m                                 Traceback (most recent call last)",
      "\u001b[0;31mTypeError\u001b[0m: emptyfunction() takes 0 positional arguments but 1 was given"
     ],
     "output_type": "error"
    },
    {
     "ename": "TypeError",
     "evalue": "emptyfunction() takes 0 positional arguments but 1 was given",
     "traceback": [
      "\u001b[0;31m---------------------------------------------------------------------------\u001b[0m",
      "\u001b[0;31mTypeError\u001b[0m                                 Traceback (most recent call last)",
      "\u001b[0;31mTypeError\u001b[0m: emptyfunction() takes 0 positional arguments but 1 was given"
     ],
     "output_type": "error"
    },
    {
     "ename": "TypeError",
     "evalue": "emptyfunction() takes 0 positional arguments but 1 was given",
     "traceback": [
      "\u001b[0;31m---------------------------------------------------------------------------\u001b[0m",
      "\u001b[0;31mTypeError\u001b[0m                                 Traceback (most recent call last)",
      "\u001b[0;31mTypeError\u001b[0m: emptyfunction() takes 0 positional arguments but 1 was given"
     ],
     "output_type": "error"
    },
    {
     "ename": "TypeError",
     "evalue": "emptyfunction() takes 0 positional arguments but 1 was given",
     "traceback": [
      "\u001b[0;31m---------------------------------------------------------------------------\u001b[0m",
      "\u001b[0;31mTypeError\u001b[0m                                 Traceback (most recent call last)",
      "\u001b[0;31mTypeError\u001b[0m: emptyfunction() takes 0 positional arguments but 1 was given"
     ],
     "output_type": "error"
    },
    {
     "ename": "TypeError",
     "evalue": "emptyfunction() takes 0 positional arguments but 1 was given",
     "traceback": [
      "\u001b[0;31m---------------------------------------------------------------------------\u001b[0m",
      "\u001b[0;31mTypeError\u001b[0m                                 Traceback (most recent call last)",
      "\u001b[0;31mTypeError\u001b[0m: emptyfunction() takes 0 positional arguments but 1 was given"
     ],
     "output_type": "error"
    },
    {
     "ename": "TypeError",
     "evalue": "emptyfunction() takes 0 positional arguments but 1 was given",
     "traceback": [
      "\u001b[0;31m---------------------------------------------------------------------------\u001b[0m",
      "\u001b[0;31mTypeError\u001b[0m                                 Traceback (most recent call last)",
      "\u001b[0;31mTypeError\u001b[0m: emptyfunction() takes 0 positional arguments but 1 was given"
     ],
     "output_type": "error"
    },
    {
     "ename": "TypeError",
     "evalue": "emptyfunction() takes 0 positional arguments but 1 was given",
     "traceback": [
      "\u001b[0;31m---------------------------------------------------------------------------\u001b[0m",
      "\u001b[0;31mTypeError\u001b[0m                                 Traceback (most recent call last)",
      "\u001b[0;31mTypeError\u001b[0m: emptyfunction() takes 0 positional arguments but 1 was given"
     ],
     "output_type": "error"
    },
    {
     "ename": "TypeError",
     "evalue": "emptyfunction() takes 0 positional arguments but 1 was given",
     "traceback": [
      "\u001b[0;31m---------------------------------------------------------------------------\u001b[0m",
      "\u001b[0;31mTypeError\u001b[0m                                 Traceback (most recent call last)",
      "\u001b[0;31mTypeError\u001b[0m: emptyfunction() takes 0 positional arguments but 1 was given"
     ],
     "output_type": "error"
    },
    {
     "ename": "TypeError",
     "evalue": "emptyfunction() takes 0 positional arguments but 1 was given",
     "traceback": [
      "\u001b[0;31m---------------------------------------------------------------------------\u001b[0m",
      "\u001b[0;31mTypeError\u001b[0m                                 Traceback (most recent call last)",
      "\u001b[0;31mTypeError\u001b[0m: emptyfunction() takes 0 positional arguments but 1 was given"
     ],
     "output_type": "error"
    },
    {
     "ename": "TypeError",
     "evalue": "emptyfunction() takes 0 positional arguments but 1 was given",
     "traceback": [
      "\u001b[0;31m---------------------------------------------------------------------------\u001b[0m",
      "\u001b[0;31mTypeError\u001b[0m                                 Traceback (most recent call last)",
      "\u001b[0;31mTypeError\u001b[0m: emptyfunction() takes 0 positional arguments but 1 was given"
     ],
     "output_type": "error"
    },
    {
     "ename": "TypeError",
     "evalue": "emptyfunction() takes 0 positional arguments but 1 was given",
     "traceback": [
      "\u001b[0;31m---------------------------------------------------------------------------\u001b[0m",
      "\u001b[0;31mTypeError\u001b[0m                                 Traceback (most recent call last)",
      "\u001b[0;31mTypeError\u001b[0m: emptyfunction() takes 0 positional arguments but 1 was given"
     ],
     "output_type": "error"
    },
    {
     "ename": "TypeError",
     "evalue": "emptyfunction() takes 0 positional arguments but 1 was given",
     "traceback": [
      "\u001b[0;31m---------------------------------------------------------------------------\u001b[0m",
      "\u001b[0;31mTypeError\u001b[0m                                 Traceback (most recent call last)",
      "\u001b[0;31mTypeError\u001b[0m: emptyfunction() takes 0 positional arguments but 1 was given"
     ],
     "output_type": "error"
    },
    {
     "ename": "TypeError",
     "evalue": "emptyfunction() takes 0 positional arguments but 1 was given",
     "traceback": [
      "\u001b[0;31m---------------------------------------------------------------------------\u001b[0m",
      "\u001b[0;31mTypeError\u001b[0m                                 Traceback (most recent call last)",
      "\u001b[0;31mTypeError\u001b[0m: emptyfunction() takes 0 positional arguments but 1 was given"
     ],
     "output_type": "error"
    },
    {
     "ename": "TypeError",
     "evalue": "emptyfunction() takes 0 positional arguments but 1 was given",
     "traceback": [
      "\u001b[0;31m---------------------------------------------------------------------------\u001b[0m",
      "\u001b[0;31mTypeError\u001b[0m                                 Traceback (most recent call last)",
      "\u001b[0;31mTypeError\u001b[0m: emptyfunction() takes 0 positional arguments but 1 was given"
     ],
     "output_type": "error"
    },
    {
     "ename": "TypeError",
     "evalue": "emptyfunction() takes 0 positional arguments but 1 was given",
     "traceback": [
      "\u001b[0;31m---------------------------------------------------------------------------\u001b[0m",
      "\u001b[0;31mTypeError\u001b[0m                                 Traceback (most recent call last)",
      "\u001b[0;31mTypeError\u001b[0m: emptyfunction() takes 0 positional arguments but 1 was given"
     ],
     "output_type": "error"
    },
    {
     "ename": "TypeError",
     "evalue": "emptyfunction() takes 0 positional arguments but 1 was given",
     "traceback": [
      "\u001b[0;31m---------------------------------------------------------------------------\u001b[0m",
      "\u001b[0;31mTypeError\u001b[0m                                 Traceback (most recent call last)",
      "\u001b[0;31mTypeError\u001b[0m: emptyfunction() takes 0 positional arguments but 1 was given"
     ],
     "output_type": "error"
    },
    {
     "ename": "TypeError",
     "evalue": "emptyfunction() takes 0 positional arguments but 1 was given",
     "traceback": [
      "\u001b[0;31m---------------------------------------------------------------------------\u001b[0m",
      "\u001b[0;31mTypeError\u001b[0m                                 Traceback (most recent call last)",
      "\u001b[0;31mTypeError\u001b[0m: emptyfunction() takes 0 positional arguments but 1 was given"
     ],
     "output_type": "error"
    },
    {
     "ename": "TypeError",
     "evalue": "emptyfunction() takes 0 positional arguments but 1 was given",
     "traceback": [
      "\u001b[0;31m---------------------------------------------------------------------------\u001b[0m",
      "\u001b[0;31mTypeError\u001b[0m                                 Traceback (most recent call last)",
      "\u001b[0;31mTypeError\u001b[0m: emptyfunction() takes 0 positional arguments but 1 was given"
     ],
     "output_type": "error"
    },
    {
     "ename": "TypeError",
     "evalue": "emptyfunction() takes 0 positional arguments but 1 was given",
     "traceback": [
      "\u001b[0;31m---------------------------------------------------------------------------\u001b[0m",
      "\u001b[0;31mTypeError\u001b[0m                                 Traceback (most recent call last)",
      "\u001b[0;31mTypeError\u001b[0m: emptyfunction() takes 0 positional arguments but 1 was given"
     ],
     "output_type": "error"
    },
    {
     "ename": "TypeError",
     "evalue": "emptyfunction() takes 0 positional arguments but 1 was given",
     "traceback": [
      "\u001b[0;31m---------------------------------------------------------------------------\u001b[0m",
      "\u001b[0;31mTypeError\u001b[0m                                 Traceback (most recent call last)",
      "\u001b[0;31mTypeError\u001b[0m: emptyfunction() takes 0 positional arguments but 1 was given"
     ],
     "output_type": "error"
    },
    {
     "ename": "TypeError",
     "evalue": "emptyfunction() takes 0 positional arguments but 1 was given",
     "traceback": [
      "\u001b[0;31m---------------------------------------------------------------------------\u001b[0m",
      "\u001b[0;31mTypeError\u001b[0m                                 Traceback (most recent call last)",
      "\u001b[0;31mTypeError\u001b[0m: emptyfunction() takes 0 positional arguments but 1 was given"
     ],
     "output_type": "error"
    },
    {
     "ename": "TypeError",
     "evalue": "emptyfunction() takes 0 positional arguments but 1 was given",
     "traceback": [
      "\u001b[0;31m---------------------------------------------------------------------------\u001b[0m",
      "\u001b[0;31mTypeError\u001b[0m                                 Traceback (most recent call last)",
      "\u001b[0;31mTypeError\u001b[0m: emptyfunction() takes 0 positional arguments but 1 was given"
     ],
     "output_type": "error"
    },
    {
     "ename": "TypeError",
     "evalue": "emptyfunction() takes 0 positional arguments but 1 was given",
     "traceback": [
      "\u001b[0;31m---------------------------------------------------------------------------\u001b[0m",
      "\u001b[0;31mTypeError\u001b[0m                                 Traceback (most recent call last)",
      "\u001b[0;31mTypeError\u001b[0m: emptyfunction() takes 0 positional arguments but 1 was given"
     ],
     "output_type": "error"
    },
    {
     "ename": "TypeError",
     "evalue": "emptyfunction() takes 0 positional arguments but 1 was given",
     "traceback": [
      "\u001b[0;31m---------------------------------------------------------------------------\u001b[0m",
      "\u001b[0;31mTypeError\u001b[0m                                 Traceback (most recent call last)",
      "\u001b[0;31mTypeError\u001b[0m: emptyfunction() takes 0 positional arguments but 1 was given"
     ],
     "output_type": "error"
    },
    {
     "ename": "TypeError",
     "evalue": "emptyfunction() takes 0 positional arguments but 1 was given",
     "traceback": [
      "\u001b[0;31m---------------------------------------------------------------------------\u001b[0m",
      "\u001b[0;31mTypeError\u001b[0m                                 Traceback (most recent call last)",
      "\u001b[0;31mTypeError\u001b[0m: emptyfunction() takes 0 positional arguments but 1 was given"
     ],
     "output_type": "error"
    },
    {
     "ename": "TypeError",
     "evalue": "emptyfunction() takes 0 positional arguments but 1 was given",
     "traceback": [
      "\u001b[0;31m---------------------------------------------------------------------------\u001b[0m",
      "\u001b[0;31mTypeError\u001b[0m                                 Traceback (most recent call last)",
      "\u001b[0;31mTypeError\u001b[0m: emptyfunction() takes 0 positional arguments but 1 was given"
     ],
     "output_type": "error"
    },
    {
     "ename": "TypeError",
     "evalue": "emptyfunction() takes 0 positional arguments but 1 was given",
     "traceback": [
      "\u001b[0;31m---------------------------------------------------------------------------\u001b[0m",
      "\u001b[0;31mTypeError\u001b[0m                                 Traceback (most recent call last)",
      "\u001b[0;31mTypeError\u001b[0m: emptyfunction() takes 0 positional arguments but 1 was given"
     ],
     "output_type": "error"
    },
    {
     "ename": "TypeError",
     "evalue": "emptyfunction() takes 0 positional arguments but 1 was given",
     "traceback": [
      "\u001b[0;31m---------------------------------------------------------------------------\u001b[0m",
      "\u001b[0;31mTypeError\u001b[0m                                 Traceback (most recent call last)",
      "\u001b[0;31mTypeError\u001b[0m: emptyfunction() takes 0 positional arguments but 1 was given"
     ],
     "output_type": "error"
    },
    {
     "ename": "TypeError",
     "evalue": "emptyfunction() takes 0 positional arguments but 1 was given",
     "traceback": [
      "\u001b[0;31m---------------------------------------------------------------------------\u001b[0m",
      "\u001b[0;31mTypeError\u001b[0m                                 Traceback (most recent call last)",
      "\u001b[0;31mTypeError\u001b[0m: emptyfunction() takes 0 positional arguments but 1 was given"
     ],
     "output_type": "error"
    },
    {
     "ename": "TypeError",
     "evalue": "emptyfunction() takes 0 positional arguments but 1 was given",
     "traceback": [
      "\u001b[0;31m---------------------------------------------------------------------------\u001b[0m",
      "\u001b[0;31mTypeError\u001b[0m                                 Traceback (most recent call last)",
      "\u001b[0;31mTypeError\u001b[0m: emptyfunction() takes 0 positional arguments but 1 was given"
     ],
     "output_type": "error"
    },
    {
     "ename": "TypeError",
     "evalue": "emptyfunction() takes 0 positional arguments but 1 was given",
     "traceback": [
      "\u001b[0;31m---------------------------------------------------------------------------\u001b[0m",
      "\u001b[0;31mTypeError\u001b[0m                                 Traceback (most recent call last)",
      "\u001b[0;31mTypeError\u001b[0m: emptyfunction() takes 0 positional arguments but 1 was given"
     ],
     "output_type": "error"
    },
    {
     "ename": "TypeError",
     "evalue": "emptyfunction() takes 0 positional arguments but 1 was given",
     "traceback": [
      "\u001b[0;31m---------------------------------------------------------------------------\u001b[0m",
      "\u001b[0;31mTypeError\u001b[0m                                 Traceback (most recent call last)",
      "\u001b[0;31mTypeError\u001b[0m: emptyfunction() takes 0 positional arguments but 1 was given"
     ],
     "output_type": "error"
    },
    {
     "ename": "TypeError",
     "evalue": "emptyfunction() takes 0 positional arguments but 1 was given",
     "traceback": [
      "\u001b[0;31m---------------------------------------------------------------------------\u001b[0m",
      "\u001b[0;31mTypeError\u001b[0m                                 Traceback (most recent call last)",
      "\u001b[0;31mTypeError\u001b[0m: emptyfunction() takes 0 positional arguments but 1 was given"
     ],
     "output_type": "error"
    },
    {
     "ename": "TypeError",
     "evalue": "emptyfunction() takes 0 positional arguments but 1 was given",
     "traceback": [
      "\u001b[0;31m---------------------------------------------------------------------------\u001b[0m",
      "\u001b[0;31mTypeError\u001b[0m                                 Traceback (most recent call last)",
      "\u001b[0;31mTypeError\u001b[0m: emptyfunction() takes 0 positional arguments but 1 was given"
     ],
     "output_type": "error"
    },
    {
     "ename": "TypeError",
     "evalue": "emptyfunction() takes 0 positional arguments but 1 was given",
     "traceback": [
      "\u001b[0;31m---------------------------------------------------------------------------\u001b[0m",
      "\u001b[0;31mTypeError\u001b[0m                                 Traceback (most recent call last)",
      "\u001b[0;31mTypeError\u001b[0m: emptyfunction() takes 0 positional arguments but 1 was given"
     ],
     "output_type": "error"
    },
    {
     "ename": "TypeError",
     "evalue": "emptyfunction() takes 0 positional arguments but 1 was given",
     "traceback": [
      "\u001b[0;31m---------------------------------------------------------------------------\u001b[0m",
      "\u001b[0;31mTypeError\u001b[0m                                 Traceback (most recent call last)",
      "\u001b[0;31mTypeError\u001b[0m: emptyfunction() takes 0 positional arguments but 1 was given"
     ],
     "output_type": "error"
    },
    {
     "ename": "TypeError",
     "evalue": "emptyfunction() takes 0 positional arguments but 1 was given",
     "traceback": [
      "\u001b[0;31m---------------------------------------------------------------------------\u001b[0m",
      "\u001b[0;31mTypeError\u001b[0m                                 Traceback (most recent call last)",
      "\u001b[0;31mTypeError\u001b[0m: emptyfunction() takes 0 positional arguments but 1 was given"
     ],
     "output_type": "error"
    },
    {
     "ename": "TypeError",
     "evalue": "emptyfunction() takes 0 positional arguments but 1 was given",
     "traceback": [
      "\u001b[0;31m---------------------------------------------------------------------------\u001b[0m",
      "\u001b[0;31mTypeError\u001b[0m                                 Traceback (most recent call last)",
      "\u001b[0;31mTypeError\u001b[0m: emptyfunction() takes 0 positional arguments but 1 was given"
     ],
     "output_type": "error"
    },
    {
     "ename": "TypeError",
     "evalue": "emptyfunction() takes 0 positional arguments but 1 was given",
     "traceback": [
      "\u001b[0;31m---------------------------------------------------------------------------\u001b[0m",
      "\u001b[0;31mTypeError\u001b[0m                                 Traceback (most recent call last)",
      "\u001b[0;31mTypeError\u001b[0m: emptyfunction() takes 0 positional arguments but 1 was given"
     ],
     "output_type": "error"
    },
    {
     "ename": "TypeError",
     "evalue": "emptyfunction() takes 0 positional arguments but 1 was given",
     "traceback": [
      "\u001b[0;31m---------------------------------------------------------------------------\u001b[0m",
      "\u001b[0;31mTypeError\u001b[0m                                 Traceback (most recent call last)",
      "\u001b[0;31mTypeError\u001b[0m: emptyfunction() takes 0 positional arguments but 1 was given"
     ],
     "output_type": "error"
    },
    {
     "ename": "TypeError",
     "evalue": "emptyfunction() takes 0 positional arguments but 1 was given",
     "traceback": [
      "\u001b[0;31m---------------------------------------------------------------------------\u001b[0m",
      "\u001b[0;31mTypeError\u001b[0m                                 Traceback (most recent call last)",
      "\u001b[0;31mTypeError\u001b[0m: emptyfunction() takes 0 positional arguments but 1 was given"
     ],
     "output_type": "error"
    },
    {
     "ename": "TypeError",
     "evalue": "emptyfunction() takes 0 positional arguments but 1 was given",
     "traceback": [
      "\u001b[0;31m---------------------------------------------------------------------------\u001b[0m",
      "\u001b[0;31mTypeError\u001b[0m                                 Traceback (most recent call last)",
      "\u001b[0;31mTypeError\u001b[0m: emptyfunction() takes 0 positional arguments but 1 was given"
     ],
     "output_type": "error"
    },
    {
     "ename": "TypeError",
     "evalue": "emptyfunction() takes 0 positional arguments but 1 was given",
     "traceback": [
      "\u001b[0;31m---------------------------------------------------------------------------\u001b[0m",
      "\u001b[0;31mTypeError\u001b[0m                                 Traceback (most recent call last)",
      "\u001b[0;31mTypeError\u001b[0m: emptyfunction() takes 0 positional arguments but 1 was given"
     ],
     "output_type": "error"
    },
    {
     "ename": "TypeError",
     "evalue": "emptyfunction() takes 0 positional arguments but 1 was given",
     "traceback": [
      "\u001b[0;31m---------------------------------------------------------------------------\u001b[0m",
      "\u001b[0;31mTypeError\u001b[0m                                 Traceback (most recent call last)",
      "\u001b[0;31mTypeError\u001b[0m: emptyfunction() takes 0 positional arguments but 1 was given"
     ],
     "output_type": "error"
    },
    {
     "ename": "TypeError",
     "evalue": "emptyfunction() takes 0 positional arguments but 1 was given",
     "traceback": [
      "\u001b[0;31m---------------------------------------------------------------------------\u001b[0m",
      "\u001b[0;31mTypeError\u001b[0m                                 Traceback (most recent call last)",
      "\u001b[0;31mTypeError\u001b[0m: emptyfunction() takes 0 positional arguments but 1 was given"
     ],
     "output_type": "error"
    },
    {
     "ename": "TypeError",
     "evalue": "emptyfunction() takes 0 positional arguments but 1 was given",
     "traceback": [
      "\u001b[0;31m---------------------------------------------------------------------------\u001b[0m",
      "\u001b[0;31mTypeError\u001b[0m                                 Traceback (most recent call last)",
      "\u001b[0;31mTypeError\u001b[0m: emptyfunction() takes 0 positional arguments but 1 was given"
     ],
     "output_type": "error"
    },
    {
     "ename": "TypeError",
     "evalue": "emptyfunction() takes 0 positional arguments but 1 was given",
     "traceback": [
      "\u001b[0;31m---------------------------------------------------------------------------\u001b[0m",
      "\u001b[0;31mTypeError\u001b[0m                                 Traceback (most recent call last)",
      "\u001b[0;31mTypeError\u001b[0m: emptyfunction() takes 0 positional arguments but 1 was given"
     ],
     "output_type": "error"
    },
    {
     "ename": "TypeError",
     "evalue": "emptyfunction() takes 0 positional arguments but 1 was given",
     "traceback": [
      "\u001b[0;31m---------------------------------------------------------------------------\u001b[0m",
      "\u001b[0;31mTypeError\u001b[0m                                 Traceback (most recent call last)",
      "\u001b[0;31mTypeError\u001b[0m: emptyfunction() takes 0 positional arguments but 1 was given"
     ],
     "output_type": "error"
    },
    {
     "ename": "TypeError",
     "evalue": "emptyfunction() takes 0 positional arguments but 1 was given",
     "traceback": [
      "\u001b[0;31m---------------------------------------------------------------------------\u001b[0m",
      "\u001b[0;31mTypeError\u001b[0m                                 Traceback (most recent call last)",
      "\u001b[0;31mTypeError\u001b[0m: emptyfunction() takes 0 positional arguments but 1 was given"
     ],
     "output_type": "error"
    },
    {
     "ename": "TypeError",
     "evalue": "emptyfunction() takes 0 positional arguments but 1 was given",
     "traceback": [
      "\u001b[0;31m---------------------------------------------------------------------------\u001b[0m",
      "\u001b[0;31mTypeError\u001b[0m                                 Traceback (most recent call last)",
      "\u001b[0;31mTypeError\u001b[0m: emptyfunction() takes 0 positional arguments but 1 was given"
     ],
     "output_type": "error"
    },
    {
     "ename": "TypeError",
     "evalue": "emptyfunction() takes 0 positional arguments but 1 was given",
     "traceback": [
      "\u001b[0;31m---------------------------------------------------------------------------\u001b[0m",
      "\u001b[0;31mTypeError\u001b[0m                                 Traceback (most recent call last)",
      "\u001b[0;31mTypeError\u001b[0m: emptyfunction() takes 0 positional arguments but 1 was given"
     ],
     "output_type": "error"
    },
    {
     "ename": "TypeError",
     "evalue": "emptyfunction() takes 0 positional arguments but 1 was given",
     "traceback": [
      "\u001b[0;31m---------------------------------------------------------------------------\u001b[0m",
      "\u001b[0;31mTypeError\u001b[0m                                 Traceback (most recent call last)",
      "\u001b[0;31mTypeError\u001b[0m: emptyfunction() takes 0 positional arguments but 1 was given"
     ],
     "output_type": "error"
    },
    {
     "ename": "TypeError",
     "evalue": "emptyfunction() takes 0 positional arguments but 1 was given",
     "traceback": [
      "\u001b[0;31m---------------------------------------------------------------------------\u001b[0m",
      "\u001b[0;31mTypeError\u001b[0m                                 Traceback (most recent call last)",
      "\u001b[0;31mTypeError\u001b[0m: emptyfunction() takes 0 positional arguments but 1 was given"
     ],
     "output_type": "error"
    },
    {
     "ename": "TypeError",
     "evalue": "emptyfunction() takes 0 positional arguments but 1 was given",
     "traceback": [
      "\u001b[0;31m---------------------------------------------------------------------------\u001b[0m",
      "\u001b[0;31mTypeError\u001b[0m                                 Traceback (most recent call last)",
      "\u001b[0;31mTypeError\u001b[0m: emptyfunction() takes 0 positional arguments but 1 was given"
     ],
     "output_type": "error"
    },
    {
     "ename": "TypeError",
     "evalue": "emptyfunction() takes 0 positional arguments but 1 was given",
     "traceback": [
      "\u001b[0;31m---------------------------------------------------------------------------\u001b[0m",
      "\u001b[0;31mTypeError\u001b[0m                                 Traceback (most recent call last)",
      "\u001b[0;31mTypeError\u001b[0m: emptyfunction() takes 0 positional arguments but 1 was given"
     ],
     "output_type": "error"
    },
    {
     "ename": "TypeError",
     "evalue": "emptyfunction() takes 0 positional arguments but 1 was given",
     "traceback": [
      "\u001b[0;31m---------------------------------------------------------------------------\u001b[0m",
      "\u001b[0;31mTypeError\u001b[0m                                 Traceback (most recent call last)",
      "\u001b[0;31mTypeError\u001b[0m: emptyfunction() takes 0 positional arguments but 1 was given"
     ],
     "output_type": "error"
    },
    {
     "ename": "TypeError",
     "evalue": "emptyfunction() takes 0 positional arguments but 1 was given",
     "traceback": [
      "\u001b[0;31m---------------------------------------------------------------------------\u001b[0m",
      "\u001b[0;31mTypeError\u001b[0m                                 Traceback (most recent call last)",
      "\u001b[0;31mTypeError\u001b[0m: emptyfunction() takes 0 positional arguments but 1 was given"
     ],
     "output_type": "error"
    },
    {
     "ename": "TypeError",
     "evalue": "emptyfunction() takes 0 positional arguments but 1 was given",
     "traceback": [
      "\u001b[0;31m---------------------------------------------------------------------------\u001b[0m",
      "\u001b[0;31mTypeError\u001b[0m                                 Traceback (most recent call last)",
      "\u001b[0;31mTypeError\u001b[0m: emptyfunction() takes 0 positional arguments but 1 was given"
     ],
     "output_type": "error"
    },
    {
     "ename": "TypeError",
     "evalue": "emptyfunction() takes 0 positional arguments but 1 was given",
     "traceback": [
      "\u001b[0;31m---------------------------------------------------------------------------\u001b[0m",
      "\u001b[0;31mTypeError\u001b[0m                                 Traceback (most recent call last)",
      "\u001b[0;31mTypeError\u001b[0m: emptyfunction() takes 0 positional arguments but 1 was given"
     ],
     "output_type": "error"
    },
    {
     "ename": "TypeError",
     "evalue": "emptyfunction() takes 0 positional arguments but 1 was given",
     "traceback": [
      "\u001b[0;31m---------------------------------------------------------------------------\u001b[0m",
      "\u001b[0;31mTypeError\u001b[0m                                 Traceback (most recent call last)",
      "\u001b[0;31mTypeError\u001b[0m: emptyfunction() takes 0 positional arguments but 1 was given"
     ],
     "output_type": "error"
    },
    {
     "ename": "TypeError",
     "evalue": "emptyfunction() takes 0 positional arguments but 1 was given",
     "traceback": [
      "\u001b[0;31m---------------------------------------------------------------------------\u001b[0m",
      "\u001b[0;31mTypeError\u001b[0m                                 Traceback (most recent call last)",
      "\u001b[0;31mTypeError\u001b[0m: emptyfunction() takes 0 positional arguments but 1 was given"
     ],
     "output_type": "error"
    },
    {
     "ename": "TypeError",
     "evalue": "emptyfunction() takes 0 positional arguments but 1 was given",
     "traceback": [
      "\u001b[0;31m---------------------------------------------------------------------------\u001b[0m",
      "\u001b[0;31mTypeError\u001b[0m                                 Traceback (most recent call last)",
      "\u001b[0;31mTypeError\u001b[0m: emptyfunction() takes 0 positional arguments but 1 was given"
     ],
     "output_type": "error"
    },
    {
     "ename": "TypeError",
     "evalue": "emptyfunction() takes 0 positional arguments but 1 was given",
     "traceback": [
      "\u001b[0;31m---------------------------------------------------------------------------\u001b[0m",
      "\u001b[0;31mTypeError\u001b[0m                                 Traceback (most recent call last)",
      "\u001b[0;31mTypeError\u001b[0m: emptyfunction() takes 0 positional arguments but 1 was given"
     ],
     "output_type": "error"
    },
    {
     "ename": "TypeError",
     "evalue": "emptyfunction() takes 0 positional arguments but 1 was given",
     "traceback": [
      "\u001b[0;31m---------------------------------------------------------------------------\u001b[0m",
      "\u001b[0;31mTypeError\u001b[0m                                 Traceback (most recent call last)",
      "\u001b[0;31mTypeError\u001b[0m: emptyfunction() takes 0 positional arguments but 1 was given"
     ],
     "output_type": "error"
    },
    {
     "ename": "TypeError",
     "evalue": "emptyfunction() takes 0 positional arguments but 1 was given",
     "traceback": [
      "\u001b[0;31m---------------------------------------------------------------------------\u001b[0m",
      "\u001b[0;31mTypeError\u001b[0m                                 Traceback (most recent call last)",
      "\u001b[0;31mTypeError\u001b[0m: emptyfunction() takes 0 positional arguments but 1 was given"
     ],
     "output_type": "error"
    },
    {
     "ename": "TypeError",
     "evalue": "emptyfunction() takes 0 positional arguments but 1 was given",
     "traceback": [
      "\u001b[0;31m---------------------------------------------------------------------------\u001b[0m",
      "\u001b[0;31mTypeError\u001b[0m                                 Traceback (most recent call last)",
      "\u001b[0;31mTypeError\u001b[0m: emptyfunction() takes 0 positional arguments but 1 was given"
     ],
     "output_type": "error"
    },
    {
     "ename": "TypeError",
     "evalue": "emptyfunction() takes 0 positional arguments but 1 was given",
     "traceback": [
      "\u001b[0;31m---------------------------------------------------------------------------\u001b[0m",
      "\u001b[0;31mTypeError\u001b[0m                                 Traceback (most recent call last)",
      "\u001b[0;31mTypeError\u001b[0m: emptyfunction() takes 0 positional arguments but 1 was given"
     ],
     "output_type": "error"
    },
    {
     "ename": "TypeError",
     "evalue": "emptyfunction() takes 0 positional arguments but 1 was given",
     "traceback": [
      "\u001b[0;31m---------------------------------------------------------------------------\u001b[0m",
      "\u001b[0;31mTypeError\u001b[0m                                 Traceback (most recent call last)",
      "\u001b[0;31mTypeError\u001b[0m: emptyfunction() takes 0 positional arguments but 1 was given"
     ],
     "output_type": "error"
    },
    {
     "ename": "TypeError",
     "evalue": "emptyfunction() takes 0 positional arguments but 1 was given",
     "traceback": [
      "\u001b[0;31m---------------------------------------------------------------------------\u001b[0m",
      "\u001b[0;31mTypeError\u001b[0m                                 Traceback (most recent call last)",
      "\u001b[0;31mTypeError\u001b[0m: emptyfunction() takes 0 positional arguments but 1 was given"
     ],
     "output_type": "error"
    },
    {
     "ename": "TypeError",
     "evalue": "emptyfunction() takes 0 positional arguments but 1 was given",
     "traceback": [
      "\u001b[0;31m---------------------------------------------------------------------------\u001b[0m",
      "\u001b[0;31mTypeError\u001b[0m                                 Traceback (most recent call last)",
      "\u001b[0;31mTypeError\u001b[0m: emptyfunction() takes 0 positional arguments but 1 was given"
     ],
     "output_type": "error"
    },
    {
     "ename": "TypeError",
     "evalue": "emptyfunction() takes 0 positional arguments but 1 was given",
     "traceback": [
      "\u001b[0;31m---------------------------------------------------------------------------\u001b[0m",
      "\u001b[0;31mTypeError\u001b[0m                                 Traceback (most recent call last)",
      "\u001b[0;31mTypeError\u001b[0m: emptyfunction() takes 0 positional arguments but 1 was given"
     ],
     "output_type": "error"
    },
    {
     "ename": "TypeError",
     "evalue": "emptyfunction() takes 0 positional arguments but 1 was given",
     "traceback": [
      "\u001b[0;31m---------------------------------------------------------------------------\u001b[0m",
      "\u001b[0;31mTypeError\u001b[0m                                 Traceback (most recent call last)",
      "\u001b[0;31mTypeError\u001b[0m: emptyfunction() takes 0 positional arguments but 1 was given"
     ],
     "output_type": "error"
    },
    {
     "ename": "TypeError",
     "evalue": "emptyfunction() takes 0 positional arguments but 1 was given",
     "traceback": [
      "\u001b[0;31m---------------------------------------------------------------------------\u001b[0m",
      "\u001b[0;31mTypeError\u001b[0m                                 Traceback (most recent call last)",
      "\u001b[0;31mTypeError\u001b[0m: emptyfunction() takes 0 positional arguments but 1 was given"
     ],
     "output_type": "error"
    },
    {
     "ename": "TypeError",
     "evalue": "emptyfunction() takes 0 positional arguments but 1 was given",
     "traceback": [
      "\u001b[0;31m---------------------------------------------------------------------------\u001b[0m",
      "\u001b[0;31mTypeError\u001b[0m                                 Traceback (most recent call last)",
      "\u001b[0;31mTypeError\u001b[0m: emptyfunction() takes 0 positional arguments but 1 was given"
     ],
     "output_type": "error"
    },
    {
     "ename": "TypeError",
     "evalue": "emptyfunction() takes 0 positional arguments but 1 was given",
     "traceback": [
      "\u001b[0;31m---------------------------------------------------------------------------\u001b[0m",
      "\u001b[0;31mTypeError\u001b[0m                                 Traceback (most recent call last)",
      "\u001b[0;31mTypeError\u001b[0m: emptyfunction() takes 0 positional arguments but 1 was given"
     ],
     "output_type": "error"
    },
    {
     "ename": "TypeError",
     "evalue": "emptyfunction() takes 0 positional arguments but 1 was given",
     "traceback": [
      "\u001b[0;31m---------------------------------------------------------------------------\u001b[0m",
      "\u001b[0;31mTypeError\u001b[0m                                 Traceback (most recent call last)",
      "\u001b[0;31mTypeError\u001b[0m: emptyfunction() takes 0 positional arguments but 1 was given"
     ],
     "output_type": "error"
    },
    {
     "ename": "TypeError",
     "evalue": "emptyfunction() takes 0 positional arguments but 1 was given",
     "traceback": [
      "\u001b[0;31m---------------------------------------------------------------------------\u001b[0m",
      "\u001b[0;31mTypeError\u001b[0m                                 Traceback (most recent call last)",
      "\u001b[0;31mTypeError\u001b[0m: emptyfunction() takes 0 positional arguments but 1 was given"
     ],
     "output_type": "error"
    },
    {
     "ename": "TypeError",
     "evalue": "emptyfunction() takes 0 positional arguments but 1 was given",
     "traceback": [
      "\u001b[0;31m---------------------------------------------------------------------------\u001b[0m",
      "\u001b[0;31mTypeError\u001b[0m                                 Traceback (most recent call last)",
      "\u001b[0;31mTypeError\u001b[0m: emptyfunction() takes 0 positional arguments but 1 was given"
     ],
     "output_type": "error"
    },
    {
     "ename": "TypeError",
     "evalue": "emptyfunction() takes 0 positional arguments but 1 was given",
     "traceback": [
      "\u001b[0;31m---------------------------------------------------------------------------\u001b[0m",
      "\u001b[0;31mTypeError\u001b[0m                                 Traceback (most recent call last)",
      "\u001b[0;31mTypeError\u001b[0m: emptyfunction() takes 0 positional arguments but 1 was given"
     ],
     "output_type": "error"
    },
    {
     "ename": "TypeError",
     "evalue": "emptyfunction() takes 0 positional arguments but 1 was given",
     "traceback": [
      "\u001b[0;31m---------------------------------------------------------------------------\u001b[0m",
      "\u001b[0;31mTypeError\u001b[0m                                 Traceback (most recent call last)",
      "\u001b[0;31mTypeError\u001b[0m: emptyfunction() takes 0 positional arguments but 1 was given"
     ],
     "output_type": "error"
    },
    {
     "ename": "TypeError",
     "evalue": "emptyfunction() takes 0 positional arguments but 1 was given",
     "traceback": [
      "\u001b[0;31m---------------------------------------------------------------------------\u001b[0m",
      "\u001b[0;31mTypeError\u001b[0m                                 Traceback (most recent call last)",
      "\u001b[0;31mTypeError\u001b[0m: emptyfunction() takes 0 positional arguments but 1 was given"
     ],
     "output_type": "error"
    },
    {
     "ename": "TypeError",
     "evalue": "emptyfunction() takes 0 positional arguments but 1 was given",
     "traceback": [
      "\u001b[0;31m---------------------------------------------------------------------------\u001b[0m",
      "\u001b[0;31mTypeError\u001b[0m                                 Traceback (most recent call last)",
      "\u001b[0;31mTypeError\u001b[0m: emptyfunction() takes 0 positional arguments but 1 was given"
     ],
     "output_type": "error"
    },
    {
     "ename": "TypeError",
     "evalue": "emptyfunction() takes 0 positional arguments but 1 was given",
     "traceback": [
      "\u001b[0;31m---------------------------------------------------------------------------\u001b[0m",
      "\u001b[0;31mTypeError\u001b[0m                                 Traceback (most recent call last)",
      "\u001b[0;31mTypeError\u001b[0m: emptyfunction() takes 0 positional arguments but 1 was given"
     ],
     "output_type": "error"
    },
    {
     "ename": "TypeError",
     "evalue": "emptyfunction() takes 0 positional arguments but 1 was given",
     "traceback": [
      "\u001b[0;31m---------------------------------------------------------------------------\u001b[0m",
      "\u001b[0;31mTypeError\u001b[0m                                 Traceback (most recent call last)",
      "\u001b[0;31mTypeError\u001b[0m: emptyfunction() takes 0 positional arguments but 1 was given"
     ],
     "output_type": "error"
    },
    {
     "ename": "TypeError",
     "evalue": "emptyfunction() takes 0 positional arguments but 1 was given",
     "traceback": [
      "\u001b[0;31m---------------------------------------------------------------------------\u001b[0m",
      "\u001b[0;31mTypeError\u001b[0m                                 Traceback (most recent call last)",
      "\u001b[0;31mTypeError\u001b[0m: emptyfunction() takes 0 positional arguments but 1 was given"
     ],
     "output_type": "error"
    },
    {
     "ename": "TypeError",
     "evalue": "emptyfunction() takes 0 positional arguments but 1 was given",
     "traceback": [
      "\u001b[0;31m---------------------------------------------------------------------------\u001b[0m",
      "\u001b[0;31mTypeError\u001b[0m                                 Traceback (most recent call last)",
      "\u001b[0;31mTypeError\u001b[0m: emptyfunction() takes 0 positional arguments but 1 was given"
     ],
     "output_type": "error"
    },
    {
     "ename": "TypeError",
     "evalue": "emptyfunction() takes 0 positional arguments but 1 was given",
     "traceback": [
      "\u001b[0;31m---------------------------------------------------------------------------\u001b[0m",
      "\u001b[0;31mTypeError\u001b[0m                                 Traceback (most recent call last)",
      "\u001b[0;31mTypeError\u001b[0m: emptyfunction() takes 0 positional arguments but 1 was given"
     ],
     "output_type": "error"
    },
    {
     "ename": "TypeError",
     "evalue": "emptyfunction() takes 0 positional arguments but 1 was given",
     "traceback": [
      "\u001b[0;31m---------------------------------------------------------------------------\u001b[0m",
      "\u001b[0;31mTypeError\u001b[0m                                 Traceback (most recent call last)",
      "\u001b[0;31mTypeError\u001b[0m: emptyfunction() takes 0 positional arguments but 1 was given"
     ],
     "output_type": "error"
    },
    {
     "ename": "TypeError",
     "evalue": "emptyfunction() takes 0 positional arguments but 1 was given",
     "traceback": [
      "\u001b[0;31m---------------------------------------------------------------------------\u001b[0m",
      "\u001b[0;31mTypeError\u001b[0m                                 Traceback (most recent call last)",
      "\u001b[0;31mTypeError\u001b[0m: emptyfunction() takes 0 positional arguments but 1 was given"
     ],
     "output_type": "error"
    },
    {
     "ename": "TypeError",
     "evalue": "emptyfunction() takes 0 positional arguments but 1 was given",
     "traceback": [
      "\u001b[0;31m---------------------------------------------------------------------------\u001b[0m",
      "\u001b[0;31mTypeError\u001b[0m                                 Traceback (most recent call last)",
      "\u001b[0;31mTypeError\u001b[0m: emptyfunction() takes 0 positional arguments but 1 was given"
     ],
     "output_type": "error"
    },
    {
     "ename": "TypeError",
     "evalue": "emptyfunction() takes 0 positional arguments but 1 was given",
     "traceback": [
      "\u001b[0;31m---------------------------------------------------------------------------\u001b[0m",
      "\u001b[0;31mTypeError\u001b[0m                                 Traceback (most recent call last)",
      "\u001b[0;31mTypeError\u001b[0m: emptyfunction() takes 0 positional arguments but 1 was given"
     ],
     "output_type": "error"
    },
    {
     "ename": "TypeError",
     "evalue": "emptyfunction() takes 0 positional arguments but 1 was given",
     "traceback": [
      "\u001b[0;31m---------------------------------------------------------------------------\u001b[0m",
      "\u001b[0;31mTypeError\u001b[0m                                 Traceback (most recent call last)",
      "\u001b[0;31mTypeError\u001b[0m: emptyfunction() takes 0 positional arguments but 1 was given"
     ],
     "output_type": "error"
    },
    {
     "ename": "TypeError",
     "evalue": "emptyfunction() takes 0 positional arguments but 1 was given",
     "traceback": [
      "\u001b[0;31m---------------------------------------------------------------------------\u001b[0m",
      "\u001b[0;31mTypeError\u001b[0m                                 Traceback (most recent call last)",
      "\u001b[0;31mTypeError\u001b[0m: emptyfunction() takes 0 positional arguments but 1 was given"
     ],
     "output_type": "error"
    },
    {
     "ename": "TypeError",
     "evalue": "emptyfunction() takes 0 positional arguments but 1 was given",
     "traceback": [
      "\u001b[0;31m---------------------------------------------------------------------------\u001b[0m",
      "\u001b[0;31mTypeError\u001b[0m                                 Traceback (most recent call last)",
      "\u001b[0;31mTypeError\u001b[0m: emptyfunction() takes 0 positional arguments but 1 was given"
     ],
     "output_type": "error"
    },
    {
     "ename": "TypeError",
     "evalue": "emptyfunction() takes 0 positional arguments but 1 was given",
     "traceback": [
      "\u001b[0;31m---------------------------------------------------------------------------\u001b[0m",
      "\u001b[0;31mTypeError\u001b[0m                                 Traceback (most recent call last)",
      "\u001b[0;31mTypeError\u001b[0m: emptyfunction() takes 0 positional arguments but 1 was given"
     ],
     "output_type": "error"
    },
    {
     "ename": "TypeError",
     "evalue": "emptyfunction() takes 0 positional arguments but 1 was given",
     "traceback": [
      "\u001b[0;31m---------------------------------------------------------------------------\u001b[0m",
      "\u001b[0;31mTypeError\u001b[0m                                 Traceback (most recent call last)",
      "\u001b[0;31mTypeError\u001b[0m: emptyfunction() takes 0 positional arguments but 1 was given"
     ],
     "output_type": "error"
    },
    {
     "ename": "TypeError",
     "evalue": "emptyfunction() takes 0 positional arguments but 1 was given",
     "traceback": [
      "\u001b[0;31m---------------------------------------------------------------------------\u001b[0m",
      "\u001b[0;31mTypeError\u001b[0m                                 Traceback (most recent call last)",
      "\u001b[0;31mTypeError\u001b[0m: emptyfunction() takes 0 positional arguments but 1 was given"
     ],
     "output_type": "error"
    },
    {
     "ename": "TypeError",
     "evalue": "emptyfunction() takes 0 positional arguments but 1 was given",
     "traceback": [
      "\u001b[0;31m---------------------------------------------------------------------------\u001b[0m",
      "\u001b[0;31mTypeError\u001b[0m                                 Traceback (most recent call last)",
      "\u001b[0;31mTypeError\u001b[0m: emptyfunction() takes 0 positional arguments but 1 was given"
     ],
     "output_type": "error"
    },
    {
     "ename": "TypeError",
     "evalue": "emptyfunction() takes 0 positional arguments but 1 was given",
     "traceback": [
      "\u001b[0;31m---------------------------------------------------------------------------\u001b[0m",
      "\u001b[0;31mTypeError\u001b[0m                                 Traceback (most recent call last)",
      "\u001b[0;31mTypeError\u001b[0m: emptyfunction() takes 0 positional arguments but 1 was given"
     ],
     "output_type": "error"
    },
    {
     "ename": "TypeError",
     "evalue": "emptyfunction() takes 0 positional arguments but 1 was given",
     "traceback": [
      "\u001b[0;31m---------------------------------------------------------------------------\u001b[0m",
      "\u001b[0;31mTypeError\u001b[0m                                 Traceback (most recent call last)",
      "\u001b[0;31mTypeError\u001b[0m: emptyfunction() takes 0 positional arguments but 1 was given"
     ],
     "output_type": "error"
    },
    {
     "ename": "TypeError",
     "evalue": "emptyfunction() takes 0 positional arguments but 1 was given",
     "traceback": [
      "\u001b[0;31m---------------------------------------------------------------------------\u001b[0m",
      "\u001b[0;31mTypeError\u001b[0m                                 Traceback (most recent call last)",
      "\u001b[0;31mTypeError\u001b[0m: emptyfunction() takes 0 positional arguments but 1 was given"
     ],
     "output_type": "error"
    },
    {
     "ename": "TypeError",
     "evalue": "emptyfunction() takes 0 positional arguments but 1 was given",
     "traceback": [
      "\u001b[0;31m---------------------------------------------------------------------------\u001b[0m",
      "\u001b[0;31mTypeError\u001b[0m                                 Traceback (most recent call last)",
      "\u001b[0;31mTypeError\u001b[0m: emptyfunction() takes 0 positional arguments but 1 was given"
     ],
     "output_type": "error"
    },
    {
     "ename": "TypeError",
     "evalue": "emptyfunction() takes 0 positional arguments but 1 was given",
     "traceback": [
      "\u001b[0;31m---------------------------------------------------------------------------\u001b[0m",
      "\u001b[0;31mTypeError\u001b[0m                                 Traceback (most recent call last)",
      "\u001b[0;31mTypeError\u001b[0m: emptyfunction() takes 0 positional arguments but 1 was given"
     ],
     "output_type": "error"
    },
    {
     "ename": "TypeError",
     "evalue": "emptyfunction() takes 0 positional arguments but 1 was given",
     "traceback": [
      "\u001b[0;31m---------------------------------------------------------------------------\u001b[0m",
      "\u001b[0;31mTypeError\u001b[0m                                 Traceback (most recent call last)",
      "\u001b[0;31mTypeError\u001b[0m: emptyfunction() takes 0 positional arguments but 1 was given"
     ],
     "output_type": "error"
    },
    {
     "ename": "TypeError",
     "evalue": "emptyfunction() takes 0 positional arguments but 1 was given",
     "traceback": [
      "\u001b[0;31m---------------------------------------------------------------------------\u001b[0m",
      "\u001b[0;31mTypeError\u001b[0m                                 Traceback (most recent call last)",
      "\u001b[0;31mTypeError\u001b[0m: emptyfunction() takes 0 positional arguments but 1 was given"
     ],
     "output_type": "error"
    },
    {
     "ename": "TypeError",
     "evalue": "emptyfunction() takes 0 positional arguments but 1 was given",
     "traceback": [
      "\u001b[0;31m---------------------------------------------------------------------------\u001b[0m",
      "\u001b[0;31mTypeError\u001b[0m                                 Traceback (most recent call last)",
      "\u001b[0;31mTypeError\u001b[0m: emptyfunction() takes 0 positional arguments but 1 was given"
     ],
     "output_type": "error"
    },
    {
     "ename": "TypeError",
     "evalue": "emptyfunction() takes 0 positional arguments but 1 was given",
     "traceback": [
      "\u001b[0;31m---------------------------------------------------------------------------\u001b[0m",
      "\u001b[0;31mTypeError\u001b[0m                                 Traceback (most recent call last)",
      "\u001b[0;31mTypeError\u001b[0m: emptyfunction() takes 0 positional arguments but 1 was given"
     ],
     "output_type": "error"
    },
    {
     "ename": "TypeError",
     "evalue": "emptyfunction() takes 0 positional arguments but 1 was given",
     "traceback": [
      "\u001b[0;31m---------------------------------------------------------------------------\u001b[0m",
      "\u001b[0;31mTypeError\u001b[0m                                 Traceback (most recent call last)",
      "\u001b[0;31mTypeError\u001b[0m: emptyfunction() takes 0 positional arguments but 1 was given"
     ],
     "output_type": "error"
    },
    {
     "ename": "TypeError",
     "evalue": "emptyfunction() takes 0 positional arguments but 1 was given",
     "traceback": [
      "\u001b[0;31m---------------------------------------------------------------------------\u001b[0m",
      "\u001b[0;31mTypeError\u001b[0m                                 Traceback (most recent call last)",
      "\u001b[0;31mTypeError\u001b[0m: emptyfunction() takes 0 positional arguments but 1 was given"
     ],
     "output_type": "error"
    },
    {
     "ename": "TypeError",
     "evalue": "emptyfunction() takes 0 positional arguments but 1 was given",
     "traceback": [
      "\u001b[0;31m---------------------------------------------------------------------------\u001b[0m",
      "\u001b[0;31mTypeError\u001b[0m                                 Traceback (most recent call last)",
      "\u001b[0;31mTypeError\u001b[0m: emptyfunction() takes 0 positional arguments but 1 was given"
     ],
     "output_type": "error"
    },
    {
     "ename": "TypeError",
     "evalue": "emptyfunction() takes 0 positional arguments but 1 was given",
     "traceback": [
      "\u001b[0;31m---------------------------------------------------------------------------\u001b[0m",
      "\u001b[0;31mTypeError\u001b[0m                                 Traceback (most recent call last)",
      "\u001b[0;31mTypeError\u001b[0m: emptyfunction() takes 0 positional arguments but 1 was given"
     ],
     "output_type": "error"
    },
    {
     "ename": "TypeError",
     "evalue": "emptyfunction() takes 0 positional arguments but 1 was given",
     "traceback": [
      "\u001b[0;31m---------------------------------------------------------------------------\u001b[0m",
      "\u001b[0;31mTypeError\u001b[0m                                 Traceback (most recent call last)",
      "\u001b[0;31mTypeError\u001b[0m: emptyfunction() takes 0 positional arguments but 1 was given"
     ],
     "output_type": "error"
    },
    {
     "ename": "TypeError",
     "evalue": "emptyfunction() takes 0 positional arguments but 1 was given",
     "traceback": [
      "\u001b[0;31m---------------------------------------------------------------------------\u001b[0m",
      "\u001b[0;31mTypeError\u001b[0m                                 Traceback (most recent call last)",
      "\u001b[0;31mTypeError\u001b[0m: emptyfunction() takes 0 positional arguments but 1 was given"
     ],
     "output_type": "error"
    },
    {
     "ename": "TypeError",
     "evalue": "emptyfunction() takes 0 positional arguments but 1 was given",
     "traceback": [
      "\u001b[0;31m---------------------------------------------------------------------------\u001b[0m",
      "\u001b[0;31mTypeError\u001b[0m                                 Traceback (most recent call last)",
      "\u001b[0;31mTypeError\u001b[0m: emptyfunction() takes 0 positional arguments but 1 was given"
     ],
     "output_type": "error"
    },
    {
     "ename": "TypeError",
     "evalue": "emptyfunction() takes 0 positional arguments but 1 was given",
     "traceback": [
      "\u001b[0;31m---------------------------------------------------------------------------\u001b[0m",
      "\u001b[0;31mTypeError\u001b[0m                                 Traceback (most recent call last)",
      "\u001b[0;31mTypeError\u001b[0m: emptyfunction() takes 0 positional arguments but 1 was given"
     ],
     "output_type": "error"
    },
    {
     "ename": "TypeError",
     "evalue": "emptyfunction() takes 0 positional arguments but 1 was given",
     "traceback": [
      "\u001b[0;31m---------------------------------------------------------------------------\u001b[0m",
      "\u001b[0;31mTypeError\u001b[0m                                 Traceback (most recent call last)",
      "\u001b[0;31mTypeError\u001b[0m: emptyfunction() takes 0 positional arguments but 1 was given"
     ],
     "output_type": "error"
    },
    {
     "ename": "TypeError",
     "evalue": "emptyfunction() takes 0 positional arguments but 1 was given",
     "traceback": [
      "\u001b[0;31m---------------------------------------------------------------------------\u001b[0m",
      "\u001b[0;31mTypeError\u001b[0m                                 Traceback (most recent call last)",
      "\u001b[0;31mTypeError\u001b[0m: emptyfunction() takes 0 positional arguments but 1 was given"
     ],
     "output_type": "error"
    },
    {
     "ename": "TypeError",
     "evalue": "emptyfunction() takes 0 positional arguments but 1 was given",
     "traceback": [
      "\u001b[0;31m---------------------------------------------------------------------------\u001b[0m",
      "\u001b[0;31mTypeError\u001b[0m                                 Traceback (most recent call last)",
      "\u001b[0;31mTypeError\u001b[0m: emptyfunction() takes 0 positional arguments but 1 was given"
     ],
     "output_type": "error"
    },
    {
     "ename": "TypeError",
     "evalue": "emptyfunction() takes 0 positional arguments but 1 was given",
     "traceback": [
      "\u001b[0;31m---------------------------------------------------------------------------\u001b[0m",
      "\u001b[0;31mTypeError\u001b[0m                                 Traceback (most recent call last)",
      "\u001b[0;31mTypeError\u001b[0m: emptyfunction() takes 0 positional arguments but 1 was given"
     ],
     "output_type": "error"
    },
    {
     "ename": "TypeError",
     "evalue": "emptyfunction() takes 0 positional arguments but 1 was given",
     "traceback": [
      "\u001b[0;31m---------------------------------------------------------------------------\u001b[0m",
      "\u001b[0;31mTypeError\u001b[0m                                 Traceback (most recent call last)",
      "\u001b[0;31mTypeError\u001b[0m: emptyfunction() takes 0 positional arguments but 1 was given"
     ],
     "output_type": "error"
    },
    {
     "ename": "TypeError",
     "evalue": "emptyfunction() takes 0 positional arguments but 1 was given",
     "traceback": [
      "\u001b[0;31m---------------------------------------------------------------------------\u001b[0m",
      "\u001b[0;31mTypeError\u001b[0m                                 Traceback (most recent call last)",
      "\u001b[0;31mTypeError\u001b[0m: emptyfunction() takes 0 positional arguments but 1 was given"
     ],
     "output_type": "error"
    },
    {
     "ename": "TypeError",
     "evalue": "emptyfunction() takes 0 positional arguments but 1 was given",
     "traceback": [
      "\u001b[0;31m---------------------------------------------------------------------------\u001b[0m",
      "\u001b[0;31mTypeError\u001b[0m                                 Traceback (most recent call last)",
      "\u001b[0;31mTypeError\u001b[0m: emptyfunction() takes 0 positional arguments but 1 was given"
     ],
     "output_type": "error"
    },
    {
     "ename": "TypeError",
     "evalue": "emptyfunction() takes 0 positional arguments but 1 was given",
     "traceback": [
      "\u001b[0;31m---------------------------------------------------------------------------\u001b[0m",
      "\u001b[0;31mTypeError\u001b[0m                                 Traceback (most recent call last)",
      "\u001b[0;31mTypeError\u001b[0m: emptyfunction() takes 0 positional arguments but 1 was given"
     ],
     "output_type": "error"
    },
    {
     "ename": "TypeError",
     "evalue": "emptyfunction() takes 0 positional arguments but 1 was given",
     "traceback": [
      "\u001b[0;31m---------------------------------------------------------------------------\u001b[0m",
      "\u001b[0;31mTypeError\u001b[0m                                 Traceback (most recent call last)",
      "\u001b[0;31mTypeError\u001b[0m: emptyfunction() takes 0 positional arguments but 1 was given"
     ],
     "output_type": "error"
    },
    {
     "ename": "TypeError",
     "evalue": "emptyfunction() takes 0 positional arguments but 1 was given",
     "traceback": [
      "\u001b[0;31m---------------------------------------------------------------------------\u001b[0m",
      "\u001b[0;31mTypeError\u001b[0m                                 Traceback (most recent call last)",
      "\u001b[0;31mTypeError\u001b[0m: emptyfunction() takes 0 positional arguments but 1 was given"
     ],
     "output_type": "error"
    },
    {
     "ename": "TypeError",
     "evalue": "emptyfunction() takes 0 positional arguments but 1 was given",
     "traceback": [
      "\u001b[0;31m---------------------------------------------------------------------------\u001b[0m",
      "\u001b[0;31mTypeError\u001b[0m                                 Traceback (most recent call last)",
      "\u001b[0;31mTypeError\u001b[0m: emptyfunction() takes 0 positional arguments but 1 was given"
     ],
     "output_type": "error"
    },
    {
     "ename": "TypeError",
     "evalue": "emptyfunction() takes 0 positional arguments but 1 was given",
     "traceback": [
      "\u001b[0;31m---------------------------------------------------------------------------\u001b[0m",
      "\u001b[0;31mTypeError\u001b[0m                                 Traceback (most recent call last)",
      "\u001b[0;31mTypeError\u001b[0m: emptyfunction() takes 0 positional arguments but 1 was given"
     ],
     "output_type": "error"
    },
    {
     "ename": "TypeError",
     "evalue": "emptyfunction() takes 0 positional arguments but 1 was given",
     "traceback": [
      "\u001b[0;31m---------------------------------------------------------------------------\u001b[0m",
      "\u001b[0;31mTypeError\u001b[0m                                 Traceback (most recent call last)",
      "\u001b[0;31mTypeError\u001b[0m: emptyfunction() takes 0 positional arguments but 1 was given"
     ],
     "output_type": "error"
    },
    {
     "ename": "TypeError",
     "evalue": "emptyfunction() takes 0 positional arguments but 1 was given",
     "traceback": [
      "\u001b[0;31m---------------------------------------------------------------------------\u001b[0m",
      "\u001b[0;31mTypeError\u001b[0m                                 Traceback (most recent call last)",
      "\u001b[0;31mTypeError\u001b[0m: emptyfunction() takes 0 positional arguments but 1 was given"
     ],
     "output_type": "error"
    },
    {
     "ename": "TypeError",
     "evalue": "emptyfunction() takes 0 positional arguments but 1 was given",
     "traceback": [
      "\u001b[0;31m---------------------------------------------------------------------------\u001b[0m",
      "\u001b[0;31mTypeError\u001b[0m                                 Traceback (most recent call last)",
      "\u001b[0;31mTypeError\u001b[0m: emptyfunction() takes 0 positional arguments but 1 was given"
     ],
     "output_type": "error"
    },
    {
     "ename": "TypeError",
     "evalue": "emptyfunction() takes 0 positional arguments but 1 was given",
     "traceback": [
      "\u001b[0;31m---------------------------------------------------------------------------\u001b[0m",
      "\u001b[0;31mTypeError\u001b[0m                                 Traceback (most recent call last)",
      "\u001b[0;31mTypeError\u001b[0m: emptyfunction() takes 0 positional arguments but 1 was given"
     ],
     "output_type": "error"
    },
    {
     "ename": "TypeError",
     "evalue": "emptyfunction() takes 0 positional arguments but 1 was given",
     "traceback": [
      "\u001b[0;31m---------------------------------------------------------------------------\u001b[0m",
      "\u001b[0;31mTypeError\u001b[0m                                 Traceback (most recent call last)",
      "\u001b[0;31mTypeError\u001b[0m: emptyfunction() takes 0 positional arguments but 1 was given"
     ],
     "output_type": "error"
    },
    {
     "ename": "TypeError",
     "evalue": "emptyfunction() takes 0 positional arguments but 1 was given",
     "traceback": [
      "\u001b[0;31m---------------------------------------------------------------------------\u001b[0m",
      "\u001b[0;31mTypeError\u001b[0m                                 Traceback (most recent call last)",
      "\u001b[0;31mTypeError\u001b[0m: emptyfunction() takes 0 positional arguments but 1 was given"
     ],
     "output_type": "error"
    },
    {
     "ename": "TypeError",
     "evalue": "emptyfunction() takes 0 positional arguments but 1 was given",
     "traceback": [
      "\u001b[0;31m---------------------------------------------------------------------------\u001b[0m",
      "\u001b[0;31mTypeError\u001b[0m                                 Traceback (most recent call last)",
      "\u001b[0;31mTypeError\u001b[0m: emptyfunction() takes 0 positional arguments but 1 was given"
     ],
     "output_type": "error"
    },
    {
     "ename": "TypeError",
     "evalue": "emptyfunction() takes 0 positional arguments but 1 was given",
     "traceback": [
      "\u001b[0;31m---------------------------------------------------------------------------\u001b[0m",
      "\u001b[0;31mTypeError\u001b[0m                                 Traceback (most recent call last)",
      "\u001b[0;31mTypeError\u001b[0m: emptyfunction() takes 0 positional arguments but 1 was given"
     ],
     "output_type": "error"
    },
    {
     "ename": "TypeError",
     "evalue": "emptyfunction() takes 0 positional arguments but 1 was given",
     "traceback": [
      "\u001b[0;31m---------------------------------------------------------------------------\u001b[0m",
      "\u001b[0;31mTypeError\u001b[0m                                 Traceback (most recent call last)",
      "\u001b[0;31mTypeError\u001b[0m: emptyfunction() takes 0 positional arguments but 1 was given"
     ],
     "output_type": "error"
    },
    {
     "ename": "TypeError",
     "evalue": "emptyfunction() takes 0 positional arguments but 1 was given",
     "traceback": [
      "\u001b[0;31m---------------------------------------------------------------------------\u001b[0m",
      "\u001b[0;31mTypeError\u001b[0m                                 Traceback (most recent call last)",
      "\u001b[0;31mTypeError\u001b[0m: emptyfunction() takes 0 positional arguments but 1 was given"
     ],
     "output_type": "error"
    },
    {
     "ename": "TypeError",
     "evalue": "emptyfunction() takes 0 positional arguments but 1 was given",
     "traceback": [
      "\u001b[0;31m---------------------------------------------------------------------------\u001b[0m",
      "\u001b[0;31mTypeError\u001b[0m                                 Traceback (most recent call last)",
      "\u001b[0;31mTypeError\u001b[0m: emptyfunction() takes 0 positional arguments but 1 was given"
     ],
     "output_type": "error"
    },
    {
     "ename": "TypeError",
     "evalue": "emptyfunction() takes 0 positional arguments but 1 was given",
     "traceback": [
      "\u001b[0;31m---------------------------------------------------------------------------\u001b[0m",
      "\u001b[0;31mTypeError\u001b[0m                                 Traceback (most recent call last)",
      "\u001b[0;31mTypeError\u001b[0m: emptyfunction() takes 0 positional arguments but 1 was given"
     ],
     "output_type": "error"
    },
    {
     "ename": "TypeError",
     "evalue": "emptyfunction() takes 0 positional arguments but 1 was given",
     "traceback": [
      "\u001b[0;31m---------------------------------------------------------------------------\u001b[0m",
      "\u001b[0;31mTypeError\u001b[0m                                 Traceback (most recent call last)",
      "\u001b[0;31mTypeError\u001b[0m: emptyfunction() takes 0 positional arguments but 1 was given"
     ],
     "output_type": "error"
    },
    {
     "ename": "TypeError",
     "evalue": "emptyfunction() takes 0 positional arguments but 1 was given",
     "traceback": [
      "\u001b[0;31m---------------------------------------------------------------------------\u001b[0m",
      "\u001b[0;31mTypeError\u001b[0m                                 Traceback (most recent call last)",
      "\u001b[0;31mTypeError\u001b[0m: emptyfunction() takes 0 positional arguments but 1 was given"
     ],
     "output_type": "error"
    },
    {
     "ename": "TypeError",
     "evalue": "emptyfunction() takes 0 positional arguments but 1 was given",
     "traceback": [
      "\u001b[0;31m---------------------------------------------------------------------------\u001b[0m",
      "\u001b[0;31mTypeError\u001b[0m                                 Traceback (most recent call last)",
      "\u001b[0;31mTypeError\u001b[0m: emptyfunction() takes 0 positional arguments but 1 was given"
     ],
     "output_type": "error"
    },
    {
     "ename": "TypeError",
     "evalue": "emptyfunction() takes 0 positional arguments but 1 was given",
     "traceback": [
      "\u001b[0;31m---------------------------------------------------------------------------\u001b[0m",
      "\u001b[0;31mTypeError\u001b[0m                                 Traceback (most recent call last)",
      "\u001b[0;31mTypeError\u001b[0m: emptyfunction() takes 0 positional arguments but 1 was given"
     ],
     "output_type": "error"
    },
    {
     "ename": "TypeError",
     "evalue": "emptyfunction() takes 0 positional arguments but 1 was given",
     "traceback": [
      "\u001b[0;31m---------------------------------------------------------------------------\u001b[0m",
      "\u001b[0;31mTypeError\u001b[0m                                 Traceback (most recent call last)",
      "\u001b[0;31mTypeError\u001b[0m: emptyfunction() takes 0 positional arguments but 1 was given"
     ],
     "output_type": "error"
    },
    {
     "ename": "TypeError",
     "evalue": "emptyfunction() takes 0 positional arguments but 1 was given",
     "traceback": [
      "\u001b[0;31m---------------------------------------------------------------------------\u001b[0m",
      "\u001b[0;31mTypeError\u001b[0m                                 Traceback (most recent call last)",
      "\u001b[0;31mTypeError\u001b[0m: emptyfunction() takes 0 positional arguments but 1 was given"
     ],
     "output_type": "error"
    },
    {
     "ename": "TypeError",
     "evalue": "emptyfunction() takes 0 positional arguments but 1 was given",
     "traceback": [
      "\u001b[0;31m---------------------------------------------------------------------------\u001b[0m",
      "\u001b[0;31mTypeError\u001b[0m                                 Traceback (most recent call last)",
      "\u001b[0;31mTypeError\u001b[0m: emptyfunction() takes 0 positional arguments but 1 was given"
     ],
     "output_type": "error"
    },
    {
     "ename": "TypeError",
     "evalue": "emptyfunction() takes 0 positional arguments but 1 was given",
     "traceback": [
      "\u001b[0;31m---------------------------------------------------------------------------\u001b[0m",
      "\u001b[0;31mTypeError\u001b[0m                                 Traceback (most recent call last)",
      "\u001b[0;31mTypeError\u001b[0m: emptyfunction() takes 0 positional arguments but 1 was given"
     ],
     "output_type": "error"
    },
    {
     "ename": "TypeError",
     "evalue": "emptyfunction() takes 0 positional arguments but 1 was given",
     "traceback": [
      "\u001b[0;31m---------------------------------------------------------------------------\u001b[0m",
      "\u001b[0;31mTypeError\u001b[0m                                 Traceback (most recent call last)",
      "\u001b[0;31mTypeError\u001b[0m: emptyfunction() takes 0 positional arguments but 1 was given"
     ],
     "output_type": "error"
    },
    {
     "ename": "TypeError",
     "evalue": "emptyfunction() takes 0 positional arguments but 1 was given",
     "traceback": [
      "\u001b[0;31m---------------------------------------------------------------------------\u001b[0m",
      "\u001b[0;31mTypeError\u001b[0m                                 Traceback (most recent call last)",
      "\u001b[0;31mTypeError\u001b[0m: emptyfunction() takes 0 positional arguments but 1 was given"
     ],
     "output_type": "error"
    },
    {
     "ename": "TypeError",
     "evalue": "emptyfunction() takes 0 positional arguments but 1 was given",
     "traceback": [
      "\u001b[0;31m---------------------------------------------------------------------------\u001b[0m",
      "\u001b[0;31mTypeError\u001b[0m                                 Traceback (most recent call last)",
      "\u001b[0;31mTypeError\u001b[0m: emptyfunction() takes 0 positional arguments but 1 was given"
     ],
     "output_type": "error"
    },
    {
     "ename": "TypeError",
     "evalue": "emptyfunction() takes 0 positional arguments but 1 was given",
     "traceback": [
      "\u001b[0;31m---------------------------------------------------------------------------\u001b[0m",
      "\u001b[0;31mTypeError\u001b[0m                                 Traceback (most recent call last)",
      "\u001b[0;31mTypeError\u001b[0m: emptyfunction() takes 0 positional arguments but 1 was given"
     ],
     "output_type": "error"
    },
    {
     "ename": "TypeError",
     "evalue": "emptyfunction() takes 0 positional arguments but 1 was given",
     "traceback": [
      "\u001b[0;31m---------------------------------------------------------------------------\u001b[0m",
      "\u001b[0;31mTypeError\u001b[0m                                 Traceback (most recent call last)",
      "\u001b[0;31mTypeError\u001b[0m: emptyfunction() takes 0 positional arguments but 1 was given"
     ],
     "output_type": "error"
    },
    {
     "ename": "TypeError",
     "evalue": "emptyfunction() takes 0 positional arguments but 1 was given",
     "traceback": [
      "\u001b[0;31m---------------------------------------------------------------------------\u001b[0m",
      "\u001b[0;31mTypeError\u001b[0m                                 Traceback (most recent call last)",
      "\u001b[0;31mTypeError\u001b[0m: emptyfunction() takes 0 positional arguments but 1 was given"
     ],
     "output_type": "error"
    },
    {
     "ename": "TypeError",
     "evalue": "emptyfunction() takes 0 positional arguments but 1 was given",
     "traceback": [
      "\u001b[0;31m---------------------------------------------------------------------------\u001b[0m",
      "\u001b[0;31mTypeError\u001b[0m                                 Traceback (most recent call last)",
      "\u001b[0;31mTypeError\u001b[0m: emptyfunction() takes 0 positional arguments but 1 was given"
     ],
     "output_type": "error"
    },
    {
     "ename": "TypeError",
     "evalue": "emptyfunction() takes 0 positional arguments but 1 was given",
     "traceback": [
      "\u001b[0;31m---------------------------------------------------------------------------\u001b[0m",
      "\u001b[0;31mTypeError\u001b[0m                                 Traceback (most recent call last)",
      "\u001b[0;31mTypeError\u001b[0m: emptyfunction() takes 0 positional arguments but 1 was given"
     ],
     "output_type": "error"
    },
    {
     "ename": "TypeError",
     "evalue": "emptyfunction() takes 0 positional arguments but 1 was given",
     "traceback": [
      "\u001b[0;31m---------------------------------------------------------------------------\u001b[0m",
      "\u001b[0;31mTypeError\u001b[0m                                 Traceback (most recent call last)",
      "\u001b[0;31mTypeError\u001b[0m: emptyfunction() takes 0 positional arguments but 1 was given"
     ],
     "output_type": "error"
    },
    {
     "ename": "TypeError",
     "evalue": "emptyfunction() takes 0 positional arguments but 1 was given",
     "traceback": [
      "\u001b[0;31m---------------------------------------------------------------------------\u001b[0m",
      "\u001b[0;31mTypeError\u001b[0m                                 Traceback (most recent call last)",
      "\u001b[0;31mTypeError\u001b[0m: emptyfunction() takes 0 positional arguments but 1 was given"
     ],
     "output_type": "error"
    },
    {
     "ename": "TypeError",
     "evalue": "emptyfunction() takes 0 positional arguments but 1 was given",
     "traceback": [
      "\u001b[0;31m---------------------------------------------------------------------------\u001b[0m",
      "\u001b[0;31mTypeError\u001b[0m                                 Traceback (most recent call last)",
      "\u001b[0;31mTypeError\u001b[0m: emptyfunction() takes 0 positional arguments but 1 was given"
     ],
     "output_type": "error"
    },
    {
     "ename": "TypeError",
     "evalue": "emptyfunction() takes 0 positional arguments but 1 was given",
     "traceback": [
      "\u001b[0;31m---------------------------------------------------------------------------\u001b[0m",
      "\u001b[0;31mTypeError\u001b[0m                                 Traceback (most recent call last)",
      "\u001b[0;31mTypeError\u001b[0m: emptyfunction() takes 0 positional arguments but 1 was given"
     ],
     "output_type": "error"
    },
    {
     "ename": "TypeError",
     "evalue": "emptyfunction() takes 0 positional arguments but 1 was given",
     "traceback": [
      "\u001b[0;31m---------------------------------------------------------------------------\u001b[0m",
      "\u001b[0;31mTypeError\u001b[0m                                 Traceback (most recent call last)",
      "\u001b[0;31mTypeError\u001b[0m: emptyfunction() takes 0 positional arguments but 1 was given"
     ],
     "output_type": "error"
    },
    {
     "ename": "TypeError",
     "evalue": "emptyfunction() takes 0 positional arguments but 1 was given",
     "traceback": [
      "\u001b[0;31m---------------------------------------------------------------------------\u001b[0m",
      "\u001b[0;31mTypeError\u001b[0m                                 Traceback (most recent call last)",
      "\u001b[0;31mTypeError\u001b[0m: emptyfunction() takes 0 positional arguments but 1 was given"
     ],
     "output_type": "error"
    },
    {
     "ename": "TypeError",
     "evalue": "emptyfunction() takes 0 positional arguments but 1 was given",
     "traceback": [
      "\u001b[0;31m---------------------------------------------------------------------------\u001b[0m",
      "\u001b[0;31mTypeError\u001b[0m                                 Traceback (most recent call last)",
      "\u001b[0;31mTypeError\u001b[0m: emptyfunction() takes 0 positional arguments but 1 was given"
     ],
     "output_type": "error"
    },
    {
     "ename": "TypeError",
     "evalue": "emptyfunction() takes 0 positional arguments but 1 was given",
     "traceback": [
      "\u001b[0;31m---------------------------------------------------------------------------\u001b[0m",
      "\u001b[0;31mTypeError\u001b[0m                                 Traceback (most recent call last)",
      "\u001b[0;31mTypeError\u001b[0m: emptyfunction() takes 0 positional arguments but 1 was given"
     ],
     "output_type": "error"
    },
    {
     "ename": "TypeError",
     "evalue": "emptyfunction() takes 0 positional arguments but 1 was given",
     "traceback": [
      "\u001b[0;31m---------------------------------------------------------------------------\u001b[0m",
      "\u001b[0;31mTypeError\u001b[0m                                 Traceback (most recent call last)",
      "\u001b[0;31mTypeError\u001b[0m: emptyfunction() takes 0 positional arguments but 1 was given"
     ],
     "output_type": "error"
    },
    {
     "ename": "TypeError",
     "evalue": "emptyfunction() takes 0 positional arguments but 1 was given",
     "traceback": [
      "\u001b[0;31m---------------------------------------------------------------------------\u001b[0m",
      "\u001b[0;31mTypeError\u001b[0m                                 Traceback (most recent call last)",
      "\u001b[0;31mTypeError\u001b[0m: emptyfunction() takes 0 positional arguments but 1 was given"
     ],
     "output_type": "error"
    },
    {
     "ename": "TypeError",
     "evalue": "emptyfunction() takes 0 positional arguments but 1 was given",
     "traceback": [
      "\u001b[0;31m---------------------------------------------------------------------------\u001b[0m",
      "\u001b[0;31mTypeError\u001b[0m                                 Traceback (most recent call last)",
      "\u001b[0;31mTypeError\u001b[0m: emptyfunction() takes 0 positional arguments but 1 was given"
     ],
     "output_type": "error"
    },
    {
     "ename": "TypeError",
     "evalue": "emptyfunction() takes 0 positional arguments but 1 was given",
     "traceback": [
      "\u001b[0;31m---------------------------------------------------------------------------\u001b[0m",
      "\u001b[0;31mTypeError\u001b[0m                                 Traceback (most recent call last)",
      "\u001b[0;31mTypeError\u001b[0m: emptyfunction() takes 0 positional arguments but 1 was given"
     ],
     "output_type": "error"
    },
    {
     "ename": "TypeError",
     "evalue": "emptyfunction() takes 0 positional arguments but 1 was given",
     "traceback": [
      "\u001b[0;31m---------------------------------------------------------------------------\u001b[0m",
      "\u001b[0;31mTypeError\u001b[0m                                 Traceback (most recent call last)",
      "\u001b[0;31mTypeError\u001b[0m: emptyfunction() takes 0 positional arguments but 1 was given"
     ],
     "output_type": "error"
    },
    {
     "ename": "TypeError",
     "evalue": "emptyfunction() takes 0 positional arguments but 1 was given",
     "traceback": [
      "\u001b[0;31m---------------------------------------------------------------------------\u001b[0m",
      "\u001b[0;31mTypeError\u001b[0m                                 Traceback (most recent call last)",
      "\u001b[0;31mTypeError\u001b[0m: emptyfunction() takes 0 positional arguments but 1 was given"
     ],
     "output_type": "error"
    },
    {
     "ename": "TypeError",
     "evalue": "emptyfunction() takes 0 positional arguments but 1 was given",
     "traceback": [
      "\u001b[0;31m---------------------------------------------------------------------------\u001b[0m",
      "\u001b[0;31mTypeError\u001b[0m                                 Traceback (most recent call last)",
      "\u001b[0;31mTypeError\u001b[0m: emptyfunction() takes 0 positional arguments but 1 was given"
     ],
     "output_type": "error"
    },
    {
     "ename": "TypeError",
     "evalue": "emptyfunction() takes 0 positional arguments but 1 was given",
     "traceback": [
      "\u001b[0;31m---------------------------------------------------------------------------\u001b[0m",
      "\u001b[0;31mTypeError\u001b[0m                                 Traceback (most recent call last)",
      "\u001b[0;31mTypeError\u001b[0m: emptyfunction() takes 0 positional arguments but 1 was given"
     ],
     "output_type": "error"
    },
    {
     "ename": "TypeError",
     "evalue": "emptyfunction() takes 0 positional arguments but 1 was given",
     "traceback": [
      "\u001b[0;31m---------------------------------------------------------------------------\u001b[0m",
      "\u001b[0;31mTypeError\u001b[0m                                 Traceback (most recent call last)",
      "\u001b[0;31mTypeError\u001b[0m: emptyfunction() takes 0 positional arguments but 1 was given"
     ],
     "output_type": "error"
    },
    {
     "ename": "TypeError",
     "evalue": "emptyfunction() takes 0 positional arguments but 1 was given",
     "traceback": [
      "\u001b[0;31m---------------------------------------------------------------------------\u001b[0m",
      "\u001b[0;31mTypeError\u001b[0m                                 Traceback (most recent call last)",
      "\u001b[0;31mTypeError\u001b[0m: emptyfunction() takes 0 positional arguments but 1 was given"
     ],
     "output_type": "error"
    },
    {
     "ename": "TypeError",
     "evalue": "emptyfunction() takes 0 positional arguments but 1 was given",
     "traceback": [
      "\u001b[0;31m---------------------------------------------------------------------------\u001b[0m",
      "\u001b[0;31mTypeError\u001b[0m                                 Traceback (most recent call last)",
      "\u001b[0;31mTypeError\u001b[0m: emptyfunction() takes 0 positional arguments but 1 was given"
     ],
     "output_type": "error"
    }
   ],
   "source": [
    "import cv2\n",
    "import  numpy as np\n",
    "\n",
    "def emptyfunction():\n",
    "    pass\n",
    "img1=np.zeros((512,512,3),np.uint8)\n",
    "cv2.namedWindow(\"IMAGE\")\n",
    "\n",
    "\n",
    "cv2.createTrackbar('B','IMAGE',0,255,emptyfunction)\n",
    "cv2.createTrackbar('G','IMAGE',0,255,emptyfunction)\n",
    "cv2.createTrackbar('R','IMAGE',0,255,emptyfunction)\n",
    "\n",
    "while(True):\n",
    "    cv2.imshow('IMAGE',img1)\n",
    "    if(cv2.waitKey(1)==27):\n",
    "        break\n",
    "    blue=cv2.getTrackbarPos('B','IMAGE') \n",
    "    green=cv2.getTrackbarPos('G','IMAGE') \n",
    "    red=cv2.getTrackbarPos('R','IMAGE')\n",
    "    img1[:]=[blue,green,red]\n",
    "cv2.destroyAllWindows()\n",
    "\n"
   ]
  },
  {
   "cell_type": "code",
   "execution_count": 9,
   "metadata": {},
   "outputs": [],
   "source": [
    "import cv2\n",
    "import numpy\n",
    "\n",
    "\n",
    "cap=cv2.VideoCapture(0)#this is used to open the web cam if given 0 and if we pass 1 it will open\n",
    "#  second camera connected with the device and it will go on like this 2 for third camera and so on\n",
    "fource=cv2.VideoWriter_fourcc(*'XVID')#this line is for codex which means in which form video is compressed \n",
    "out=cv2.VideoWriter('output.avi',fource,20.0,(640,480))#this is used for storing th video\n",
    "while(cap.isOpened()):#this is used to check wheather camera is recording or not\n",
    "    ret,frame=cap.read()#this fuction is actually used to read the video means recording is done using this\n",
    "    gray=cv2.cvtColor(frame,cv2.COLOR_BGR2GRAY)\n",
    "    out.write(frame)\n",
    "    cv2.imshow(\"frame\",frame)\n",
    "\n",
    "    cv2.imshow(\"gray\" , gray)\n",
    "   \n",
    "    if(cv2.waitKey(1) & 0xFF == ord('q')):\n",
    "        break\n",
    "cap.release()\n",
    "out.release()\n",
    "cv2.destroyAllWindows()"
   ]
  },
  {
   "cell_type": "code",
   "execution_count": 2,
   "metadata": {},
   "outputs": [],
   "source": [
    "import cv2\n",
    "import numpy\n",
    "\n",
    "\n",
    "cap=cv2.VideoCapture(0)\n",
    "while(cap.isOpened()):\n",
    "    ret,frame=cap.read()\n",
    "    hsv=cv2.cvtColor(frame,cv2.COLOR_BGR2HSV)\n",
    "    low=numpy.array([100,50,50])\n",
    "    high=numpy.array([140,255,255])\n",
    "    mask=cv2.inRange(hsv,low,high)\n",
    "    output=cv2.bitwise_and(frame,frame,mask=mask)\n",
    "    cv2.imshow(\"output\",output)\n",
    "    cv2.imshow(\"mask\",mask)\n",
    "    cv2.imshow(\"frame\",frame)\n",
    "    if(cv2.waitKey(1) & 0xFF == ord('q')):\n",
    "        break\n",
    "cap.release()\n",
    "cv2.destroyAllWindows()"
   ]
  },
  {
   "cell_type": "code",
   "execution_count": 9,
   "metadata": {},
   "outputs": [
    {
     "data": {
      "image/png": "[encoded data removed]",
      "text/plain": [
       "<Figure size 432x288 with 2 Axes>"
      ]
     },
     "metadata": {},
     "output_type": "display_data"
    }
   ],
   "source": [
    "import cv2 as cv\n",
    "import numpy as np\n",
    "import matplotlib.pyplot as py\n",
    "\n",
    "img1 = cv.imread('/home/lucky/Downloads/p1.jpeg')\n",
    "img2 = cv.imread('/home/lucky/Downloads/p2.jpeg')\n",
    "py.subplot(1,2,1)\n",
    "py.imshow(img1)\n",
    "py.title(\"liqid\")\n",
    "py.xticks([])\n",
    "py.yticks([])\n",
    "py.subplot(1,2,2)\n",
    "py.imshow(img2)\n",
    "py.title(\"lena\")\n",
    "py.xticks([])\n",
    "py.yticks([])\n",
    "py.show()"
   ]
  },
  {
   "cell_type": "code",
   "execution_count": 1,
   "metadata": {},
   "outputs": [],
   "source": [
    "import cv2 as cv\n",
    "import numpy as np\n",
    "\n",
    "img1 = cv.imread('/home/lucky/Downloads/p1.jpeg')\n",
    "img2 = cv.imread('/home/lucky/Downloads/p2.jpeg')\n",
    "dst=cv.addWeighted(img1,0.7,img2,0.3,0)\n",
    "cv.imshow('dst',dst)\n",
    "cv.waitKey(0)\n",
    "cv.destroyAllWindows()"
   ]
  },
  {
   "cell_type": "code",
   "execution_count": 1,
   "metadata": {},
   "outputs": [
    {
     "ename": "TypeError",
     "evalue": "emptyfunction() takes 0 positional arguments but 1 was given",
     "traceback": [
      "\u001b[0;31m---------------------------------------------------------------------------\u001b[0m",
      "\u001b[0;31mTypeError\u001b[0m                                 Traceback (most recent call last)",
      "\u001b[0;31mTypeError\u001b[0m: emptyfunction() takes 0 positional arguments but 1 was given"
     ],
     "output_type": "error"
    },
    {
     "ename": "TypeError",
     "evalue": "emptyfunction() takes 0 positional arguments but 1 was given",
     "traceback": [
      "\u001b[0;31m---------------------------------------------------------------------------\u001b[0m",
      "\u001b[0;31mTypeError\u001b[0m                                 Traceback (most recent call last)",
      "\u001b[0;31mTypeError\u001b[0m: emptyfunction() takes 0 positional arguments but 1 was given"
     ],
     "output_type": "error"
    },
    {
     "ename": "TypeError",
     "evalue": "emptyfunction() takes 0 positional arguments but 1 was given",
     "traceback": [
      "\u001b[0;31m---------------------------------------------------------------------------\u001b[0m",
      "\u001b[0;31mTypeError\u001b[0m                                 Traceback (most recent call last)",
      "\u001b[0;31mTypeError\u001b[0m: emptyfunction() takes 0 positional arguments but 1 was given"
     ],
     "output_type": "error"
    },
    {
     "ename": "TypeError",
     "evalue": "emptyfunction() takes 0 positional arguments but 1 was given",
     "traceback": [
      "\u001b[0;31m---------------------------------------------------------------------------\u001b[0m",
      "\u001b[0;31mTypeError\u001b[0m                                 Traceback (most recent call last)",
      "\u001b[0;31mTypeError\u001b[0m: emptyfunction() takes 0 positional arguments but 1 was given"
     ],
     "output_type": "error"
    }
   ],
   "source": [
    "import cv2 as cv\n",
    "import numpy as np\n",
    "\n",
    "def emptyfunction():\n",
    "    pass\n",
    "\n",
    "img1 = cv.imread('/home/lucky/Downloads/p1.jpeg')\n",
    "img2 = cv.imread('/home/lucky/Downloads/p2.jpeg')\n",
    "cv.namedWindow('track')\n",
    "cv.createTrackbar('Alpha','track',0,10,emptyfunction)\n",
    "\n",
    "while(True):\n",
    "    alpha=cv.getTrackbarPos('Alpha','track')/10        \n",
    "    beta=1-alpha\n",
    "    output=cv.addWeighted(img1,alpha,img2,beta,0)\n",
    "    cv.imshow('track',output)\n",
    "    if(cv.waitKey(1) == 27):\n",
    "        break\n",
    "\n",
    "cv.destroyAllWindows()"
   ]
  },
  {
   "cell_type": "code",
   "execution_count": 11,
   "metadata": {},
   "outputs": [
    {
     "data": {
      "image/png": "[encoded data removed]",
      "text/plain": [
       "<Figure size 432x288 with 4 Axes>"
      ]
     },
     "metadata": {},
     "output_type": "display_data"
    }
   ],
   "source": [
    "import cv2 as cv\n",
    "import numpy as np\n",
    "import matplotlib.pyplot as py\n",
    "\n",
    "img = cv.imread('/home/lucky/Downloads/p1.jpeg')\n",
    "rgb=cv.cvtColor(img,cv.COLOR_BGR2RGB)\n",
    "gray=cv.cvtColor(img,cv.COLOR_BGR2GRAY)\n",
    "\n",
    "img1=abs(255-rgb)\n",
    "img2=abs(255-gray)\n",
    "title=['color_image','gray_image','color_negative','gray_negative']\n",
    "image=[rgb,gray,img1,img2]\n",
    "\n",
    "py.subplot(2,2,1)\n",
    "py.imshow(image[0])\n",
    "py.title(title[0])\n",
    "py.xticks([])\n",
    "py.yticks([])\n",
    "py.subplot(2,2,2)\n",
    "py.imshow(image[1],cmap='gray')\n",
    "py.title(title[1])\n",
    "py.xticks([])\n",
    "py.yticks([])\n",
    "py.subplot(2,2,3)\n",
    "py.imshow(image[2])\n",
    "py.title(title[2])\n",
    "py.xticks([])\n",
    "py.yticks([])\n",
    "py.subplot(2,2,4)\n",
    "py.imshow(image[3],cmap='gray')\n",
    "py.title(title[3])\n",
    "py.xticks([])\n",
    "py.yticks([])\n",
    "py.show()"
   ]
  },
  {
   "cell_type": "code",
   "execution_count": null,
   "metadata": {},
   "outputs": [],
   "source": []
  }
 ],
 "metadata": {
  "kernelspec": {
   "display_name": "Python 2",
   "language": "python",
   "name": "python2"
  },
  "language_info": {
   "codemirror_mode": {
    "name": "ipython",
    "version": 2
   },
   "file_extension": ".py",
   "mimetype": "text/x-python",
   "name": "python",
   "nbconvert_exporter": "python",
   "pygments_lexer": "ipython2",
   "version": "2.7.6"
  }
 },
 "nbformat": 4,
 "nbformat_minor": 0
}
