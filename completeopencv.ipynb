{
 "cells": [
  {
   "cell_type": "code",
   "execution_count": 1,
   "metadata": {
    "collapsed": true
   },
   "outputs": [
    {
     "name": "stdout",
     "output_type": "stream",
     "text": [
      "<class 'numpy.ndarray'>\nuint8\n(168, 300, 3)\n3\n151200\n"
     ]
    }
   ],
   "source": [
    "import cv2 as cv\n",
    "import numpy as np\n",
    "\n",
    "img1 = cv.imread('/home/lucky/Downloads/p1.jpeg')\n",
    "print(type(img1))\n",
    "print(img1.dtype)#it give uint8 which send for unsigned integer of 8 bit\n",
    "#which means it can have a min value 00000000 and max value 11111111\n",
    "#its range is from 0-255\n",
    "print(img1.shape)\n",
    "print(img1.ndim)\n",
    "print(img1.size)"
   ]
  },
  {
   "cell_type": "code",
   "execution_count": 2,
   "metadata": {},
   "outputs": [
    {
     "name": "stdout",
     "output_type": "stream",
     "text": [
      "<class 'numpy.ndarray'>\nuint8\n(168, 300)\n2\n50400\n"
     ]
    }
   ],
   "source": [
    "import cv2 as cv\n",
    "import numpy as np\n",
    "\n",
    "img1 = cv.imread('/home/lucky/Downloads/p1.jpeg')\n",
    "gray=cv.cvtColor(img1,cv.COLOR_BGR2GRAY)\n",
    "print(type(img1))\n",
    "print(gray.dtype)#it give uint8 which send for unsigned integer of 8 bit\n",
    "#which means it can have a min value 00000000 and max value 11111111\n",
    "#its range is from 0-255\n",
    "print(gray.shape)\n",
    "print(gray.ndim)\n",
    "print(gray.size)"
   ]
  },
  {
   "cell_type": "code",
   "execution_count": null,
   "metadata": {},
   "outputs": [],
   "source": []
  }
 ],
 "metadata": {
  "kernelspec": {
   "display_name": "Python 2",
   "language": "python",
   "name": "python2"
  },
  "language_info": {
   "codemirror_mode": {
    "name": "ipython",
    "version": 2
   },
   "file_extension": ".py",
   "mimetype": "text/x-python",
   "name": "python",
   "nbconvert_exporter": "python",
   "pygments_lexer": "ipython2",
   "version": "2.7.6"
  }
 },
 "nbformat": 4,
 "nbformat_minor": 0
}
