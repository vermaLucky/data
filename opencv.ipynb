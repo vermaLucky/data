{
 "cells": [
  {
   "cell_type": "code",
   "execution_count": 1,
   "metadata": {
    "collapsed": true
   },
   "outputs": [],
   "source": [
    "import numpy\n",
    "import cv2\n",
    "\n"
   ]
  },
  {
   "cell_type": "code",
   "execution_count": 2,
   "metadata": {},
   "outputs": [],
   "source": [
    "img=cv2.imread(\"/home/lucky/Pictures/FAMILY PIC/IMG-20180430-WA0138.jpg\",cv2.IMREAD_GRAYSCALE)\n",
    "cv2.namedWindow(\"image\",cv2.WINDOW_NORMAL)\n",
    "cv2.imshow(\"image\",img)\n",
    "cv2.waitKey(0)\n",
    "cv2.destroyAllWindows()"
   ]
  },
  {
   "cell_type": "code",
   "execution_count": 1,
   "metadata": {},
   "outputs": [
    {
     "data": {
      "text/plain": [
       "<Figure size 640x480 with 1 Axes>"
      ]
     },
     "execution_count": 0,
     "metadata": {},
     "output_type": "execute_result"
    }
   ],
   "source": [
    "import cv2\n",
    "import numpy\n",
    "import matplotlib.pyplot as py\n",
    "img=cv2.imread(\"/home/lucky/Pictures/FAMILY PIC/IMG-20180430-WA0138.jpg\",0)\n",
    "py.imshow(img,cmap=\"gray\",interpolation=\"bicubic\")\n",
    "py.show()"
   ]
  },
  {
   "cell_type": "code",
   "execution_count": 2,
   "metadata": {},
   "outputs": [],
   "source": [
    "import cv2\n",
    "import numpy\n",
    "\n",
    "cap=cv2.VideoCapture(0)#this is used to open the web cam if given 0 and if we pass 1 it will open\n",
    "#  second camera connected with the device and it will go on like this 2 for third camera and so on\n",
    "fource=cv2.VideoWriter_fourcc(*'XVID')#this line is for codex which means in which form video is compressed \n",
    "out=cv2.VideoWriter('output.avi',fource,20.0,(640,480))#this is used for storing th video\n",
    "while(cap.isOpened()):#this is used to check wheather camera is recording or not\n",
    "    ret,frame=cap.read()#this fuction is actually used to read the video means recording is done using this\n",
    "    gray=cv2.cvtColor(frame,cv2.COLOR_BGR2GRAY)\n",
    "    out.write(frame)\n",
    "    cv2.imshow(\"frame\",frame)\n",
    "\n",
    "    cv2.imshow(\"gray\" , gray)\n",
    "   \n",
    "    if(cv2.waitKey(1) & 0xFF == ord('q')):\n",
    "        break\n",
    "cap.release()\n",
    "out.release()\n",
    "cv2.destroyAllWindows()"
   ]
  },
  {
   "cell_type": "code",
   "execution_count": 3,
   "metadata": {},
   "outputs": [],
   "source": [
    "import numpy\n",
    "import cv2\n",
    "img=cv2.imread(\"/home/lucky/Pictures/FAMILY PIC/IMG-20180430-WA0138.jpg\",0)\n",
    "cv2.namedWindow(\"image\",cv2.WINDOW_NORMAL)\n",
    "cv2.line(img,(0,0),(150,150),(0,0,255),15)\n",
    "cv2.rectangle(img,(15,23),(100,200),(0,0,225),15)\n",
    "cv2.circle(img,(100,30),50,(0,0,225),15)\n",
    "cv2.imshow(\"image\",img)\n",
    "cv2.waitKey(0)\n",
    "cv2.destroyAllWindows()"
   ]
  },
  {
   "cell_type": "code",
   "execution_count": null,
   "metadata": {},
   "outputs": [],
   "source": [
    "import numpy\n",
    "import cv2\n",
    "img=cv2.imread(\"/home/lucky/Pictures/FAMILY PIC/IMG-20180430-WA0138.jpg\",cv2.IMREAD_COLOR)\n",
    "px=img[120,120]\n",
    "print(px)"
   ]
  },
  {
   "cell_type": "code",
   "execution_count": null,
   "metadata": {},
   "outputs": [],
   "source": [
    "import numpy\n",
    "import cv2\n",
    "img1=cv2.imread(\"/home/lucky/Pictures/FAMILY PIC/IMG_20170528_185804.jpg\",1)\n",
    "img2=cv2.imread(\"/home/lucky/Pictures/FAMILY PIC/IMG_20170528_185810.jpg\",1)\n",
    "#add=img1+img2\n",
    "#add=cv2.add(img1,img2)#this is a predefine function for adding two image\n",
    "weight=cv2.addWeighted(img1,0.6,img2,0.9,0)\n",
    "#cv2.namedWindow(\"ADD\",cv2.WINDOW_NORMAL)\n",
    "#cv2.imshow(\"ADD\",add)\n",
    "cv2.namedWindow(\"weight\",cv2.WINDOW_NORMAL)\n",
    "cv2.imshow(\"weight\",weight)\n",
    "cv2.waitKey(0)\n",
    "cv2.destroyAllWindows()"
   ]
  },
  {
   "cell_type": "code",
   "execution_count": 2,
   "metadata": {},
   "outputs": [],
   "source": [
    "import cv2\n",
    "import numpy as np\n",
    "img1=cv2.imread(\"/home/lucky/Pictures/FAMILY PIC/IMG_20170528_185804.jpg\",1)\n",
    "img2=cv2.imread(\"/home/lucky/Pictures/FAMILY PIC/IMG_20170528_185810.jpg\",1)\n",
    "img= img1+img2\n",
    "cv2.namedWindow('image',cv2.WINDOW_NORMAL)\n",
    "cv2.imshow('image',img)\n",
    "cv2.waitKey(0)\n",
    "cv2.destroyAllWindows()"
   ]
  },
  {
   "cell_type": "code",
   "execution_count": 2,
   "metadata": {},
   "outputs": [],
   "source": [
    "import cv2\n",
    "import numpy as np\n",
    "img1=cv2.imread(\"/home/lucky/Pictures/FAMILY PIC/IMG_20170528_185804.jpg\",1)\n",
    "img2=cv2.imread(\"/home/lucky/Pictures/FAMILY PIC/IMG_20170528_185810.jpg\",1)\n",
    "cv2.namedWindow('image',cv2.WINDOW_NORMAL)\n",
    "rows,cols,channel=img2.shape\n",
    "roi=img1[0:rows,0:cols]\n",
    "img2gry=cv2.cvtColor(img2,cv2.COLOR_BGR2GRAY)\n",
    "ret,mask=cv2.threshold(img2gry,220,255,cv2.THRESH_BINARY_INV)\n",
    "cv2.imshow('image',mask)\n",
    "cv2.waitKey(0)\n",
    "cv2.destroyAllWindows()\n",
    "\n"
   ]
  },
  {
   "cell_type": "code",
   "execution_count": 1,
   "metadata": {},
   "outputs": [],
   "source": [
    "import cv2\n",
    "import numpy as np\n",
    "img=cv2.imread(\"/home/lucky/Downloads/bookpage.jpg\")\n",
    "retval,threshold=cv2.threshold(img,12,255,cv2.THRESH_BINARY)\n",
    "gray=cv2.cvtColor(img,cv2.COLOR_BGR2GRAY)\n",
    "retval2,threshold2=cv2.threshold(gray,12,255,cv2.THRESH_BINARY)\n",
    "gaus=cv2.adaptiveThreshold(gray,255,cv2.ADAPTIVE_THRESH_GAUSSIAN_C,cv2.THRESH_BINARY,115,5)\n",
    "cv2.imshow('original',img)\n",
    "cv2.imshow('threshold',threshold)\n",
    "cv2.imshow('threshold2',threshold2)\n",
    "cv2.imshow('gaus',gaus)\n",
    "cv2.waitKey(0)\n",
    "cv2.destroyAllWindows()\n"
   ]
  },
  {
   "cell_type": "code",
   "execution_count": null,
   "metadata": {},
   "outputs": [],
   "source": []
  }
 ],
 "metadata": {
  "kernelspec": {
   "display_name": "Python 2",
   "language": "python",
   "name": "python2"
  },
  "language_info": {
   "codemirror_mode": {
    "name": "ipython",
    "version": 2
   },
   "file_extension": ".py",
   "mimetype": "text/x-python",
   "name": "python",
   "nbconvert_exporter": "python",
   "pygments_lexer": "ipython2",
   "version": "2.7.6"
  }
 },
 "nbformat": 4,
 "nbformat_minor": 0
}
