{
 "cells": [
  {
   "cell_type": "code",
   "execution_count": 1,
   "metadata": {
    "collapsed": true
   },
   "outputs": [],
   "source": [
    "import numpy\n",
    "import cv2\n",
    "\n"
   ]
  },
  {
   "cell_type": "code",
   "execution_count": 2,
   "metadata": {},
   "outputs": [],
   "source": [
    "img=cv2.imread(\"/home/lucky/Pictures/FAMILY PIC/IMG-20180430-WA0138.jpg\",cv2.IMREAD_GRAYSCALE)\n",
    "cv2.namedWindow(\"image\",cv2.WINDOW_NORMAL)\n",
    "cv2.imshow(\"image\",img)\n",
    "cv2.waitKey(0)\n",
    "cv2.destroyAllWindows()"
   ]
  },
  {
   "cell_type": "code",
   "execution_count": 1,
   "metadata": {},
   "outputs": [
    {
     "data": {
      "text/plain": [
       "<Figure size 640x480 with 1 Axes>"
      ]
     },
     "execution_count": 0,
     "metadata": {},
     "output_type": "execute_result"
    }
   ],
   "source": [
    "import cv2\n",
    "import numpy\n",
    "import matplotlib.pyplot as py\n",
    "img=cv2.imread(\"/home/lucky/Pictures/FAMILY PIC/IMG-20180430-WA0138.jpg\",0)\n",
    "py.imshow(img,cmap=\"gray\",interpolation=\"bicubic\")\n",
    "py.show()"
   ]
  },
  {
   "cell_type": "code",
   "execution_count": 1,
   "metadata": {},
   "outputs": [
    {
     "ename": "KeyboardInterrupt",
     "evalue": "",
     "traceback": [
      "\u001b[0;31m---------------------------------------------------------------------------\u001b[0m",
      "\u001b[0;31mKeyboardInterrupt\u001b[0m                         Traceback (most recent call last)",
      "\u001b[0;32m<ipython-input-1-7d2c41768050>\u001b[0m in \u001b[0;36m<module>\u001b[0;34m()\u001b[0m\n\u001b[1;32m      7\u001b[0m \u001b[0mout\u001b[0m\u001b[0;34m=\u001b[0m\u001b[0mcv2\u001b[0m\u001b[0;34m.\u001b[0m\u001b[0mVideoWriter\u001b[0m\u001b[0;34m(\u001b[0m\u001b[0;34m'output.avi'\u001b[0m\u001b[0;34m,\u001b[0m\u001b[0mfource\u001b[0m\u001b[0;34m,\u001b[0m\u001b[0;36m20.0\u001b[0m\u001b[0;34m,\u001b[0m\u001b[0;34m(\u001b[0m\u001b[0;36m640\u001b[0m\u001b[0;34m,\u001b[0m\u001b[0;36m480\u001b[0m\u001b[0;34m)\u001b[0m\u001b[0;34m)\u001b[0m\u001b[0;31m#this is used for storing th video\u001b[0m\u001b[0;34m\u001b[0m\u001b[0m\n\u001b[1;32m      8\u001b[0m \u001b[0;32mwhile\u001b[0m\u001b[0;34m(\u001b[0m\u001b[0mcap\u001b[0m\u001b[0;34m.\u001b[0m\u001b[0misOpened\u001b[0m\u001b[0;34m(\u001b[0m\u001b[0;34m)\u001b[0m\u001b[0;34m)\u001b[0m\u001b[0;34m:\u001b[0m\u001b[0;31m#this is used to check wheather camera is recording or not\u001b[0m\u001b[0;34m\u001b[0m\u001b[0m\n\u001b[0;32m----> 9\u001b[0;31m     \u001b[0mret\u001b[0m\u001b[0;34m,\u001b[0m\u001b[0mframe\u001b[0m\u001b[0;34m=\u001b[0m\u001b[0mcap\u001b[0m\u001b[0;34m.\u001b[0m\u001b[0mread\u001b[0m\u001b[0;34m(\u001b[0m\u001b[0;34m)\u001b[0m\u001b[0;31m#this fuction is actually used to read the video means recording is done using this\u001b[0m\u001b[0;34m\u001b[0m\u001b[0m\n\u001b[0m\u001b[1;32m     10\u001b[0m     \u001b[0mgray\u001b[0m\u001b[0;34m=\u001b[0m\u001b[0mcv2\u001b[0m\u001b[0;34m.\u001b[0m\u001b[0mcvtColor\u001b[0m\u001b[0;34m(\u001b[0m\u001b[0mframe\u001b[0m\u001b[0;34m,\u001b[0m\u001b[0mcv2\u001b[0m\u001b[0;34m.\u001b[0m\u001b[0mCOLOR_BGR2GRAY\u001b[0m\u001b[0;34m)\u001b[0m\u001b[0;34m\u001b[0m\u001b[0m\n\u001b[1;32m     11\u001b[0m     \u001b[0mout\u001b[0m\u001b[0;34m.\u001b[0m\u001b[0mwrite\u001b[0m\u001b[0;34m(\u001b[0m\u001b[0mframe\u001b[0m\u001b[0;34m)\u001b[0m\u001b[0;34m\u001b[0m\u001b[0m\n",
      "\u001b[0;31mKeyboardInterrupt\u001b[0m: "
     ],
     "output_type": "error"
    }
   ],
   "source": [
    "import cv2\n",
    "import numpy\n",
    "\n",
    "cap=cv2.VideoCapture(0)#this is used to open the web cam if given 0 and if we pass 1 it will open\n",
    "#  second camera connected with the device and it will go on like this 2 for third camera and so on\n",
    "fource=cv2.VideoWriter_fourcc(*'XVID')#this line is for codex which means in which form video is compressed \n",
    "out=cv2.VideoWriter('output.avi',fource,20.0,(640,480))#this is used for storing th video\n",
    "while(cap.isOpened()):#this is used to check wheather camera is recording or not\n",
    "    ret,frame=cap.read()#this fuction is actually used to read the video means recording is done using this\n",
    "    gray=cv2.cvtColor(frame,cv2.COLOR_BGR2GRAY)\n",
    "    out.write(frame)\n",
    "    cv2.imshow(\"frame\",frame)\n",
    "\n",
    "    cv2.imshow(\"gray\" , gray)\n",
    "   \n",
    "    if(cv2.waitKey(1) & 0xFF == ord('q')):\n",
    "        break\n",
    "cap.release()\n",
    "out.release()\n",
    "cv2.destroyAllWindows()"
   ]
  },
  {
   "cell_type": "code",
   "execution_count": 3,
   "metadata": {},
   "outputs": [],
   "source": [
    "import numpy\n",
    "import cv2\n",
    "img=cv2.imread(\"/home/lucky/Pictures/FAMILY PIC/IMG-20180430-WA0138.jpg\",0)\n",
    "cv2.namedWindow(\"image\",cv2.WINDOW_NORMAL)\n",
    "cv2.line(img,(0,0),(150,150),(0,0,255),15)\n",
    "cv2.rectangle(img,(15,23),(100,200),(0,0,225),15)\n",
    "cv2.circle(img,(100,30),50,(0,0,225),15)\n",
    "cv2.imshow(\"image\",img)\n",
    "cv2.waitKey(0)\n",
    "cv2.destroyAllWindows()"
   ]
  },
  {
   "cell_type": "code",
   "execution_count": 2,
   "metadata": {},
   "outputs": [
    {
     "name": "stdout",
     "output_type": "stream",
     "text": [
      "[238 233 218]\n"
     ]
    }
   ],
   "source": [
    "import numpy\n",
    "import cv2\n",
    "img=cv2.imread(\"/home/lucky/Pictures/FAMILY PIC/IMG-20180430-WA0138.jpg\",cv2.IMREAD_COLOR)\n",
    "px=img[120,120]\n",
    "print(px)"
   ]
  },
  {
   "cell_type": "code",
   "execution_count": 3,
   "metadata": {},
   "outputs": [],
   "source": [
    "import numpy\n",
    "import cv2\n",
    "img1=cv2.imread(\"/home/lucky/Pictures/FAMILY PIC/IMG_20170528_185804.jpg\",1)\n",
    "img2=cv2.imread(\"/home/lucky/Pictures/FAMILY PIC/IMG_20170528_185810.jpg\",1)\n",
    "#add=img1+img2\n",
    "#add=cv2.add(img1,img2)#this is a predefine function for adding two image\n",
    "weight=cv2.addWeighted(img1,0.6,img2,0.9,0)\n",
    "#cv2.namedWindow(\"ADD\",cv2.WINDOW_NORMAL)\n",
    "#cv2.imshow(\"ADD\",add)\n",
    "cv2.namedWindow(\"weight\",cv2.WINDOW_NORMAL)\n",
    "cv2.imshow(\"weight\",weight)\n",
    "cv2.waitKey(0)\n",
    "cv2.destroyAllWindows()"
   ]
  },
  {
   "cell_type": "code",
   "execution_count": 2,
   "metadata": {},
   "outputs": [],
   "source": [
    "import cv2\n",
    "import numpy as np\n",
    "img1=cv2.imread(\"/home/lucky/Pictures/FAMILY PIC/IMG_20170528_185804.jpg\",1)\n",
    "img2=cv2.imread(\"/home/lucky/Pictures/FAMILY PIC/IMG_20170528_185810.jpg\",1)\n",
    "img= img1+img2\n",
    "cv2.namedWindow('image',cv2.WINDOW_NORMAL)\n",
    "cv2.imshow('image',img)\n",
    "cv2.waitKey(0)\n",
    "cv2.destroyAllWindows()"
   ]
  },
  {
   "cell_type": "code",
   "execution_count": 2,
   "metadata": {},
   "outputs": [],
   "source": [
    "import cv2\n",
    "import numpy as np\n",
    "img1=cv2.imread(\"/home/lucky/Pictures/FAMILY PIC/IMG_20170528_185804.jpg\",1)\n",
    "img2=cv2.imread(\"/home/lucky/Pictures/FAMILY PIC/IMG_20170528_185810.jpg\",1)\n",
    "cv2.namedWindow('image',cv2.WINDOW_NORMAL)\n",
    "rows,cols,channel=img2.shape\n",
    "roi=img1[0:rows,0:cols]\n",
    "img2gry=cv2.cvtColor(img2,cv2.COLOR_BGR2GRAY)\n",
    "ret,mask=cv2.threshold(img2gry,220,255,cv2.THRESH_BINARY_INV)\n",
    "cv2.imshow('image',mask)\n",
    "cv2.waitKey(0)\n",
    "cv2.destroyAllWindows()\n",
    "\n"
   ]
  },
  {
   "cell_type": "code",
   "execution_count": 1,
   "metadata": {},
   "outputs": [],
   "source": [
    "import cv2\n",
    "import numpy as np\n",
    "img=cv2.imread(\"/home/lucky/Downloads/bookpage.jpg\")\n",
    "retval,threshold=cv2.threshold(img,12,255,cv2.THRESH_BINARY)\n",
    "gray=cv2.cvtColor(img,cv2.COLOR_BGR2GRAY)\n",
    "retval2,threshold2=cv2.threshold(gray,12,255,cv2.THRESH_BINARY)\n",
    "gaus=cv2.adaptiveThreshold(gray,255,cv2.ADAPTIVE_THRESH_GAUSSIAN_C,cv2.THRESH_BINARY,115,5)\n",
    "cv2.imshow('original',img)\n",
    "cv2.imshow('threshold',threshold)\n",
    "cv2.imshow('threshold2',threshold2)\n",
    "cv2.imshow('gaus',gaus)\n",
    "cv2.waitKey(0)\n",
    "cv2.destroyAllWindows()\n"
   ]
  },
  {
   "cell_type": "code",
   "execution_count": 25,
   "metadata": {},
   "outputs": [],
   "source": [
    "import cv2\n",
    "import numpy as np\n",
    "cap=cv2.VideoCapture(0)\n",
    "while(cap.isOpened()):\n",
    "    _,frame=cap.read()\n",
    "    hsv=cv2.cvtColor(frame,cv2.COLOR_BGR2HSV)#hsv stands for hue saturation value\n",
    "    \n",
    "    lower_blue=np.array([50,0,0])\n",
    "    upper_blue=np.array([180,180,255])\n",
    "    mask=cv2.inRange(hsv,lower_blue,upper_blue)\n",
    "    res=cv2.bitwise_and(frame,frame,mask=mask)\n",
    "    \n",
    "    kernel=np.ones((15,15),np.float32 )/255\n",
    "    smoothed=cv2.filter2D(res,-1,kernel)\n",
    "    \n",
    "    cv2.imshow('frame',frame)\n",
    "    cv2.imshow('mask',mask)\n",
    "    cv2.imshow('res',res)\n",
    "    cv2.imshow(' smoothed', smoothed)\n",
    "    \n",
    "    k=cv2.waitKey(5) & 0xFF\n",
    "    if(k==27):\n",
    "        break\n",
    "cv2.destroyAllWindows()\n",
    "cap.release()\n",
    "    \n",
    "    \n",
    "    \n",
    "    \n",
    "    "
   ]
  },
  {
   "cell_type": "code",
   "execution_count": 2,
   "metadata": {},
   "outputs": [],
   "source": [
    "import cv2\n",
    "import numpy as np\n",
    "cap=cv2.VideoCapture(0)\n",
    "while(cap.isOpened()):\n",
    "    _,frame=cap.read()\n",
    "    hsv=cv2.cvtColor(frame,cv2.COLOR_BGR2HSV)#hsv stands for hue saturation value\n",
    "    cv2.imshow('frame',frame)\n",
    "    \n",
    "    lower_blue=np.array([150,150,50])\n",
    "    upper_blue=np.array([180,220,150])\n",
    "    mask=cv2.inRange(hsv,lower_blue,upper_blue)\n",
    "    res=cv2.bitwise_and(frame,frame,mask=mask)\n",
    "    \n",
    "    kernel=np.ones((15,15),np.uint)\n",
    "    erosion=cv2.erode(mask,kernel,iterations=1)\n",
    "    dilation=cv2.dilate(mask,kernel,iterations=1)\n",
    "    \n",
    "    cv2.imshow('mask',mask)\n",
    "    cv2.imshow('res',res)\n",
    "    cv2.imshow('erosion',erosion)\n",
    "    cv2.imshow('dilation',dilation)\n",
    "    \n",
    "    k=cv2.waitKey(5) & 0xFF\n",
    "    if(k==27):\n",
    "        break\n",
    "cv2.destroyAllWindows()\n",
    "cap.release()\n",
    "    \n"
   ]
  },
  {
   "cell_type": "code",
   "execution_count": 13,
   "metadata": {},
   "outputs": [],
   "source": [
    "import cv2\n",
    "import numpy as np\n",
    "cap=cv2.VideoCapture(0)\n",
    "while(cap.isOpened()):\n",
    "    _,frame=cap.read()\n",
    "    laplacation=cv2.Laplacian(frame,cv2.CV_64F)\n",
    "    sobelx=cv2.Sobel(frame,cv2.CV_64F,0,1,ksize=5)\n",
    "    sobely=cv2.Sobel(frame,cv2.CV_64F,1,0,ksize=5)\n",
    "    edges=cv2.Canny(frame,200,100)\n",
    "    \n",
    "    cv2.imshow('original',frame)\n",
    "    cv2.imshow(' laplacation', laplacation)\n",
    "    cv2.imshow('sobelx',sobelx)\n",
    "    cv2.imshow('sobely',sobely)\n",
    "    cv2.imshow('edges',edges)\n",
    "    k=cv2.waitKey(5) & 0xFF\n",
    "    if(k==27):\n",
    "        break\n",
    "cv2.destroyAllWindows()\n",
    "cap.release()"
   ]
  },
  {
   "cell_type": "code",
   "execution_count": 1,
   "metadata": {},
   "outputs": [],
   "source": [
    "import cv2\n",
    "import numpy as np\n",
    "img=cv2.imread('/home/lucky/Downloads/opencv-template-matching-python-tutorial.jpg')\n",
    "gray=cv2.cvtColor(img,cv2.COLOR_BGR2GRAY)\n",
    "template=cv2.imread('/home/lucky/Downloads/opencv-template-for-matching.jpg',0)\n",
    "w,h=template.shape[::-1]\n",
    "res=cv2.matchTemplate(gray,template,cv2.TM_CCOEFF_NORMED)\n",
    "threshold=0.75\n",
    "loc=np.where(res>threshold)\n",
    "for pt in zip(*loc[::-1]):\n",
    "    cv2.rectangle(img , pt , (pt[0]+w,pt[1]+h),(0,255,255),1)\n",
    "\n",
    "cv2.imshow('detected',img)\n",
    "\n",
    "cv2.waitKey(0)\n",
    "cv2.destroyAllWindows()\n",
    "\n",
    "\n",
    "\n",
    "\n"
   ]
  },
  {
   "cell_type": "code",
   "execution_count": 1,
   "metadata": {},
   "outputs": [],
   "source": [
    "import numpy as np\n",
    "import cv2\n",
    "img=cv2.imread('/home/lucky/Downloads/opencv-corner-detection-sample.jpg')\n",
    "gray=cv2.cvtColor(img,cv2.COLOR_BGR2GRAY)\n",
    "gray=np.float32(gray)\n",
    "corner=cv2.goodFeaturesToTrack(gray,100,0.5,10)\n",
    "corner=np.int0(corner)\n",
    "for corner in corner:\n",
    "    x,y=corner.ravel()\n",
    "    cv2.circle(img,(x,y),3,255,-1)\n",
    "cv2.imshow('corners',img)\n",
    "cv2.waitKey(0)\n",
    "cv2.destroyAllWindows()\n"
   ]
  },
  {
   "cell_type": "code",
   "execution_count": null,
   "metadata": {},
   "outputs": [],
   "source": [
    "\n",
    "import cv2 as cv\n",
    "import numpy as np\n",
    "\n",
    "img1 = cv.imread('/home/lucky/Downloads/p1.jpeg')\n",
    "img2 = cv.imread('/home/lucky/Downloads/p2.jpeg')\n",
    "dst=cv.addWeighted(img1,0.7,img2,0.5,0)\n",
    "cv.imshow('dst',dst)\n",
    "cv.waitKey(0)\n",
    "cv.destroyAllWindows()"
   ]
  },
  {
   "cell_type": "code",
   "execution_count": 1,
   "metadata": {},
   "outputs": [],
   "source": [
    ""
   ]
  },
  {
   "cell_type": "code",
   "execution_count": 2,
   "metadata": {},
   "outputs": [],
   "source": [
    ""
   ]
  },
  {
   "cell_type": "code",
   "execution_count": null,
   "metadata": {},
   "outputs": [],
   "source": []
  }
 ],
 "metadata": {
  "kernelspec": {
   "display_name": "Python 2",
   "language": "python",
   "name": "python2"
  },
  "language_info": {
   "codemirror_mode": {
    "name": "ipython",
    "version": 2
   },
   "file_extension": ".py",
   "mimetype": "text/x-python",
   "name": "python",
   "nbconvert_exporter": "python",
   "pygments_lexer": "ipython2",
   "version": "2.7.6"
  }
 },
 "nbformat": 4,
 "nbformat_minor": 0
}
