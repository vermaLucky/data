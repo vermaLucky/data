{
 "cells": [
  {
   "cell_type": "code",
   "execution_count": 5,
   "metadata": {
    "collapsed": true
   },
   "outputs": [],
   "source": [
    "import cv2 as cv\n",
    "import numpy as np\n",
    "import matplotlib.pyplot as py\n",
    "face_cascade=cv.CascadeClassifier(\"/home/lucky/Downloads/haarcascade_frontalface_default.xml\")\n",
    "id=1\n",
    "Samplenum=0\n",
    "cap=cv.VideoCapture(0)\n",
    "while(True):\n",
    "    ret,frame=cap.read()\n",
    "    gray=cv.cvtColor(frame,cv.COLOR_BGR2GRAY)\n",
    "    face=face_cascade.detectMultiScale(gray,scaleFactor=1.1,minNeighbors=5)\n",
    "    \n",
    "    for(x,y,w,h) in face:\n",
    "        Samplenum=Samplenum+1\n",
    "        cv.imwrite(\"/home/lucky/PycharmProjects/data/dataset/\" +\"User.\" + str(id)+\".\"+str(Samplenum)+\".jpg\",gray[y:y+h,x:x+w])\n",
    "        cv.rectangle(frame,(x,y),(x+w,y+h),(0,0,255),4)\n",
    "        cv.waitKey(100)\n",
    "    cv.imshow(\"FACE_DETECT\",frame)\n",
    "    cv.waitKey(30)\n",
    "    if(Samplenum>20):\n",
    "        break\n",
    "cap.release()\n",
    "cv.destroyAllWindows()"
   ]
  },
  {
   "cell_type": "code",
   "execution_count": 9,
   "metadata": {},
   "outputs": [],
   "source": [
    "import os\n",
    "import cv2 as cv \n",
    "import numpy as np\n",
    "from PIL import Image\n",
    "\n",
    "recognizer=cv.face.LBPHFaceRecognizer_create()\n",
    "path=\"/home/lucky/PycharmProjects/data/dataset/\"\n",
    "def getImageswithid(path):\n",
    "    imagepath=[os.path.join(path,f) for f in os.listdir(path)]\n",
    "    faces=[]\n",
    "    ids=[]\n",
    "    for imagepath in imagepath:\n",
    "        faceimg=Image.open(imagepath).convert('L')\n",
    "        facenp=np.array(faceimg,'uint8')\n",
    "        id=int(os.path.split(imagepath)[-1].split('.')[1])\n",
    "        faces.append(facenp)\n",
    "        ids.append(id)\n",
    "        cv.imshow('training ',facenp)\n",
    "        cv.waitKey(100)\n",
    "    return np.array(ids),faces\n",
    "ids,faces=getImageswithid(path)\n",
    "recognizer.train(faces,ids)\n",
    "recognizer.write('/home/lucky/PycharmProjects/data/dataset/training.yml')\n",
    "cv.waitKey(1)\n",
    "cv.destroyAllWindows()\n",
    "    "
   ]
  },
  {
   "cell_type": "code",
   "execution_count": 11,
   "metadata": {},
   "outputs": [],
   "source": [
    "import cv2 as cv \n",
    "import numpy as np\n",
    "faceDetect=cv.CascadeClassifier(\"/home/lucky/Downloads/haarcascade_frontalface_default.xml\")\n",
    "cap=cv.VideoCapture(0)\n",
    "recognizer=cv.face.LBPHFaceRecognizer_create()\n",
    "recognizer.read('/home/lucky/PycharmProjects/data/dataset/training.yml')\n",
    "id=0\n",
    "font=cv.FONT_HERSHEY_PLAIN\n",
    "\n",
    "while(True):\n",
    "    ret,frame=cap.read()\n",
    "    gray=cv.cvtColor(frame,cv.COLOR_BGR2GRAY)\n",
    "    face=faceDetect.detectMultiScale(frame,1.3,5)\n",
    "    for(x,y,w,h) in face:\n",
    "        cv.rectangle(frame,(x,y),(x+w,y+h),(0,0,255),4)\n",
    "        id,conf=recognizer.predict(gray[y:y+h,x:x+w])\n",
    "        if(id==1):\n",
    "            id=\"LUCKY VERMA\"\n",
    "        cv.putText(frame,str(id),(x+w,y+h),font,1.5,(0,0,255),3)\n",
    "    cv.imshow(\"FACE_DETECT\",frame)\n",
    "    if(cv.waitKey(1) & 0xFF==ord('q')):\n",
    "        break\n",
    "cap.release()\n",
    "cv.destroyAllWindows()"
   ]
  },
  {
   "cell_type": "code",
   "execution_count": 3,
   "metadata": {},
   "outputs": [],
   "source": [
    ""
   ]
  },
  {
   "cell_type": "code",
   "execution_count": 33,
   "metadata": {},
   "outputs": [],
   "source": []
  },
  {
   "cell_type": "code",
   "execution_count": null,
   "metadata": {},
   "outputs": [],
   "source": []
  }
 ],
 "metadata": {
  "kernelspec": {
   "display_name": "Python 2",
   "language": "python",
   "name": "python2"
  },
  "language_info": {
   "codemirror_mode": {
    "name": "ipython",
    "version": 2
   },
   "file_extension": ".py",
   "mimetype": "text/x-python",
   "name": "python",
   "nbconvert_exporter": "python",
   "pygments_lexer": "ipython2",
   "version": "2.7.6"
  }
 },
 "nbformat": 4,
 "nbformat_minor": 0
}
